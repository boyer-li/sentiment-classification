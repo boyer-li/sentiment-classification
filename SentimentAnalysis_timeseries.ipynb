{
  "nbformat": 4,
  "nbformat_minor": 0,
  "metadata": {
    "colab": {
      "provenance": [],
      "gpuType": "T4"
    },
    "kernelspec": {
      "name": "python3",
      "display_name": "Python 3"
    },
    "language_info": {
      "name": "python"
    },
    "accelerator": "GPU",
    "widgets": {
      "application/vnd.jupyter.widget-state+json": {
        "9b1a5097fd64474cabd9b4fda9d1f3b4": {
          "model_module": "@jupyter-widgets/controls",
          "model_name": "ButtonModel",
          "model_module_version": "1.5.0",
          "state": {
            "_dom_classes": [],
            "_model_module": "@jupyter-widgets/controls",
            "_model_module_version": "1.5.0",
            "_model_name": "ButtonModel",
            "_view_count": null,
            "_view_module": "@jupyter-widgets/controls",
            "_view_module_version": "1.5.0",
            "_view_name": "ButtonView",
            "button_style": "",
            "description": "Query LSTM Model",
            "disabled": false,
            "icon": "",
            "layout": "IPY_MODEL_05b27c78009f4f4d8dd81ab7d7ce81fd",
            "style": "IPY_MODEL_70e83f80122e4f679ea34aa62b96b8a0",
            "tooltip": ""
          }
        },
        "05b27c78009f4f4d8dd81ab7d7ce81fd": {
          "model_module": "@jupyter-widgets/base",
          "model_name": "LayoutModel",
          "model_module_version": "1.2.0",
          "state": {
            "_model_module": "@jupyter-widgets/base",
            "_model_module_version": "1.2.0",
            "_model_name": "LayoutModel",
            "_view_count": null,
            "_view_module": "@jupyter-widgets/base",
            "_view_module_version": "1.2.0",
            "_view_name": "LayoutView",
            "align_content": null,
            "align_items": null,
            "align_self": null,
            "border": null,
            "bottom": null,
            "display": null,
            "flex": null,
            "flex_flow": null,
            "grid_area": null,
            "grid_auto_columns": null,
            "grid_auto_flow": null,
            "grid_auto_rows": null,
            "grid_column": null,
            "grid_gap": null,
            "grid_row": null,
            "grid_template_areas": null,
            "grid_template_columns": null,
            "grid_template_rows": null,
            "height": null,
            "justify_content": null,
            "justify_items": null,
            "left": null,
            "margin": null,
            "max_height": null,
            "max_width": null,
            "min_height": null,
            "min_width": null,
            "object_fit": null,
            "object_position": null,
            "order": null,
            "overflow": null,
            "overflow_x": null,
            "overflow_y": null,
            "padding": null,
            "right": null,
            "top": null,
            "visibility": null,
            "width": "200px"
          }
        },
        "70e83f80122e4f679ea34aa62b96b8a0": {
          "model_module": "@jupyter-widgets/controls",
          "model_name": "ButtonStyleModel",
          "model_module_version": "1.5.0",
          "state": {
            "_model_module": "@jupyter-widgets/controls",
            "_model_module_version": "1.5.0",
            "_model_name": "ButtonStyleModel",
            "_view_count": null,
            "_view_module": "@jupyter-widgets/base",
            "_view_module_version": "1.2.0",
            "_view_name": "StyleView",
            "button_color": null,
            "font_weight": ""
          }
        },
        "37ee523567da40aaa8de3fc9975c44a9": {
          "model_module": "@jupyter-widgets/controls",
          "model_name": "ButtonModel",
          "model_module_version": "1.5.0",
          "state": {
            "_dom_classes": [],
            "_model_module": "@jupyter-widgets/controls",
            "_model_module_version": "1.5.0",
            "_model_name": "ButtonModel",
            "_view_count": null,
            "_view_module": "@jupyter-widgets/controls",
            "_view_module_version": "1.5.0",
            "_view_name": "ButtonView",
            "button_style": "",
            "description": "Query CNN Model",
            "disabled": false,
            "icon": "",
            "layout": "IPY_MODEL_09fbf075da824ea192e6e811fb638f49",
            "style": "IPY_MODEL_e411198d6e5347d1bd9b1a08574fbbb6",
            "tooltip": ""
          }
        },
        "09fbf075da824ea192e6e811fb638f49": {
          "model_module": "@jupyter-widgets/base",
          "model_name": "LayoutModel",
          "model_module_version": "1.2.0",
          "state": {
            "_model_module": "@jupyter-widgets/base",
            "_model_module_version": "1.2.0",
            "_model_name": "LayoutModel",
            "_view_count": null,
            "_view_module": "@jupyter-widgets/base",
            "_view_module_version": "1.2.0",
            "_view_name": "LayoutView",
            "align_content": null,
            "align_items": null,
            "align_self": null,
            "border": null,
            "bottom": null,
            "display": null,
            "flex": null,
            "flex_flow": null,
            "grid_area": null,
            "grid_auto_columns": null,
            "grid_auto_flow": null,
            "grid_auto_rows": null,
            "grid_column": null,
            "grid_gap": null,
            "grid_row": null,
            "grid_template_areas": null,
            "grid_template_columns": null,
            "grid_template_rows": null,
            "height": null,
            "justify_content": null,
            "justify_items": null,
            "left": null,
            "margin": null,
            "max_height": null,
            "max_width": null,
            "min_height": null,
            "min_width": null,
            "object_fit": null,
            "object_position": null,
            "order": null,
            "overflow": null,
            "overflow_x": null,
            "overflow_y": null,
            "padding": null,
            "right": null,
            "top": null,
            "visibility": null,
            "width": "200px"
          }
        },
        "e411198d6e5347d1bd9b1a08574fbbb6": {
          "model_module": "@jupyter-widgets/controls",
          "model_name": "ButtonStyleModel",
          "model_module_version": "1.5.0",
          "state": {
            "_model_module": "@jupyter-widgets/controls",
            "_model_module_version": "1.5.0",
            "_model_name": "ButtonStyleModel",
            "_view_count": null,
            "_view_module": "@jupyter-widgets/base",
            "_view_module_version": "1.2.0",
            "_view_name": "StyleView",
            "button_color": null,
            "font_weight": ""
          }
        },
        "a17c9aa7d9f140769c976d55e68629cf": {
          "model_module": "@jupyter-widgets/controls",
          "model_name": "ButtonModel",
          "model_module_version": "1.5.0",
          "state": {
            "_dom_classes": [],
            "_model_module": "@jupyter-widgets/controls",
            "_model_module_version": "1.5.0",
            "_model_name": "ButtonModel",
            "_view_count": null,
            "_view_module": "@jupyter-widgets/controls",
            "_view_module_version": "1.5.0",
            "_view_name": "ButtonView",
            "button_style": "",
            "description": "Query RNN Model",
            "disabled": false,
            "icon": "",
            "layout": "IPY_MODEL_8c1a7bed2fe44db0bb3a09ac91b98726",
            "style": "IPY_MODEL_41929cb47bbc4f9b947a708d0283a65d",
            "tooltip": ""
          }
        },
        "8c1a7bed2fe44db0bb3a09ac91b98726": {
          "model_module": "@jupyter-widgets/base",
          "model_name": "LayoutModel",
          "model_module_version": "1.2.0",
          "state": {
            "_model_module": "@jupyter-widgets/base",
            "_model_module_version": "1.2.0",
            "_model_name": "LayoutModel",
            "_view_count": null,
            "_view_module": "@jupyter-widgets/base",
            "_view_module_version": "1.2.0",
            "_view_name": "LayoutView",
            "align_content": null,
            "align_items": null,
            "align_self": null,
            "border": null,
            "bottom": null,
            "display": null,
            "flex": null,
            "flex_flow": null,
            "grid_area": null,
            "grid_auto_columns": null,
            "grid_auto_flow": null,
            "grid_auto_rows": null,
            "grid_column": null,
            "grid_gap": null,
            "grid_row": null,
            "grid_template_areas": null,
            "grid_template_columns": null,
            "grid_template_rows": null,
            "height": null,
            "justify_content": null,
            "justify_items": null,
            "left": null,
            "margin": null,
            "max_height": null,
            "max_width": null,
            "min_height": null,
            "min_width": null,
            "object_fit": null,
            "object_position": null,
            "order": null,
            "overflow": null,
            "overflow_x": null,
            "overflow_y": null,
            "padding": null,
            "right": null,
            "top": null,
            "visibility": null,
            "width": "200px"
          }
        },
        "41929cb47bbc4f9b947a708d0283a65d": {
          "model_module": "@jupyter-widgets/controls",
          "model_name": "ButtonStyleModel",
          "model_module_version": "1.5.0",
          "state": {
            "_model_module": "@jupyter-widgets/controls",
            "_model_module_version": "1.5.0",
            "_model_name": "ButtonStyleModel",
            "_view_count": null,
            "_view_module": "@jupyter-widgets/base",
            "_view_module_version": "1.2.0",
            "_view_name": "StyleView",
            "button_color": null,
            "font_weight": ""
          }
        },
        "32dcddc824a44144ad052ab8ec3cb157": {
          "model_module": "@jupyter-widgets/output",
          "model_name": "OutputModel",
          "model_module_version": "1.0.0",
          "state": {
            "_dom_classes": [],
            "_model_module": "@jupyter-widgets/output",
            "_model_module_version": "1.0.0",
            "_model_name": "OutputModel",
            "_view_count": null,
            "_view_module": "@jupyter-widgets/output",
            "_view_module_version": "1.0.0",
            "_view_name": "OutputView",
            "layout": "IPY_MODEL_ccbe02552eb44afaa2bf708e7224e0d7",
            "msg_id": "",
            "outputs": [
              {
                "output_type": "display_data",
                "data": {
                  "text/plain": "<Figure size 1200x400 with 2 Axes>",
                  "image/png": "iVBORw0KGgoAAAANSUhEUgAABKUAAAGGCAYAAACqvTJ0AAAAOXRFWHRTb2Z0d2FyZQBNYXRwbG90bGliIHZlcnNpb24zLjcuMSwgaHR0cHM6Ly9tYXRwbG90bGliLm9yZy/bCgiHAAAACXBIWXMAAA9hAAAPYQGoP6dpAACgDUlEQVR4nOzdeVhUZf/H8ffMsCMgCIILgvuumKRpm5alVuZaaovrU8/TpmbLL9MW26xsMdtscWmxLNNWS00rzTJNzX3fQFRQRBbZmTm/P0ZRcgOFOQN8Xtd1rs6cOTPnM0Rx8+U+39tiGIaBiIiIiIiIiIiIC1nNDiAiIiIiIiIiIpWPilIiIiIiIiIiIuJyKkqJiIiIiIiIiIjLqSglIiIiIiIiIiIup6KUiIiIiIiIiIi4nIpSIiIiIiIiIiLicipKiYiIiIiIiIiIy6koJSIiIiIiIiIiLqeilIiIiIiIiIiIuJyKUiJyThaLhaeffrrEr9u7dy8Wi4UZM2aUeiYRERGRykDjMBGp6FSUEikHZsyYgcViwWKxsGzZstOeNwyDyMhILBYLN910kwkJS8ePP/6IxWKhZs2aOBwOs+NUWCe+l05sgYGBXH311cybN++0c0987/n4+LB///7Tnu/UqRMtWrQociw6OhqLxcIDDzxw2vm//fYbFouFr776qvQ+kIiISBmqyOOwivhz+cRnOrHZbDaqV69Ov3792LJly2nnDxkyBIvFQqtWrTAM47TnLRYL999/f+HjEwU/i8XCnDlzTjv/6aefxmKxkJycXLofTKSCUlFKpBzx8fHhs88+O+34kiVLSEhIwNvb24RUpWfmzJlER0dz8OBBfvnlF7PjVGjXXXcdn3zyCR9//DGPPvooO3fupEePHixYsOCM5+fm5vLiiy+W6BoffPABBw4cKI24IiIipqvo47CKZsSIEXzyySd8+OGH3H777cybN48rr7ySxMTEM56/YcMG5s6dW6JrPPPMM2csZIlI8akoJVKO3HDDDcyePZuCgoIixz/77DPatm1LRESESckuXmZmJt9++y2jR4+mTZs2zJw50+xIZ5WZmWl2hIvWqFEj7rjjDu68807GjRvHokWLMAyDN95444znx8TElKjI1Lx5c+x2e4kLWSIiIu6qIo/DKqIrr7ySO+64g6FDh/L666/z+uuvc+TIET7++OPTzvX19aVRo0YlKjLFxMSwfv16vv7669KOLlKpqCglUo4MHDiQI0eO8PPPPxcey8vL46uvvuK2224742syMzN56KGHiIyMxNvbm8aNG/PKK6+c9gM3NzeXBx98kLCwMAICArj55ptJSEg443vu37+fYcOGER4ejre3N82bN2fatGkX9dm+/vprsrOzueWWWxgwYABz584lJyfntPNycnJ4+umnadSoET4+PtSoUYM+ffqwa9euwnMcDgdvvPEGLVu2xMfHh7CwMLp168aqVauAc/dZ+HfvhhNTsDdv3sxtt91GcHAwV1xxBQDr169nyJAh1KtXDx8fHyIiIhg2bBhHjhw549ds+PDh1KxZE29vb+rWrcs999xDXl4eu3fvxmKx8Prrr5/2uj///BOLxcLnn39e0i9piTRt2pTQ0NAiX8dTPf744yUqMkVHRzNo0CDNlhIRkQqjIo/Dzmf37t3ccssthISE4Ofnx2WXXXbG2/7ffPNNmjdvjp+fH8HBwcTGxhaZXZaRkcGoUaOIjo7G29ub6tWrc91117FmzZoyzQ/OIhVwxrGO1Wpl3LhxJSoyDRgwoMSFLBE5nYpSIuVIdHQ0HTp0KFKg+Omnn0hLS2PAgAGnnW8YBjfffDOvv/463bp147XXXqNx48Y88sgjjB49usi5//nPf5g0aRLXX389L774Ip6entx4442nvWdSUhKXXXYZixYt4v777+eNN96gQYMGDB8+nEmTJl3wZ5s5cyadO3cmIiKCAQMGkJGRwffff1/kHLvdzk033cT48eNp27Ytr776KiNHjiQtLY2NGzcWnjd8+HBGjRpFZGQkL730Eo899hg+Pj789ddfF5zvlltuISsrixdeeIG77roLgJ9//pndu3czdOhQ3nzzTQYMGMCsWbO44YYbigxODhw4QLt27Zg1axb9+/dn8uTJ3HnnnSxZsoSsrCzq1avH5ZdffsbZYTNnziQgIICePXtecPbiSEtL4+jRowQHB5/x+bp165a4yDR27FgKCgo0W0pERCqEijwOO5ekpCQ6duzIggULuPfee3n++efJycnh5ptvLlLA+eCDDxgxYgTNmjVj0qRJjB8/npiYGFasWFF4zv/+9z/effdd+vbtyzvvvMPDDz+Mr6/vGXs9lba9e/cCnHWsc9ttt9GwYcNiF5lsNhvjxo1j3bp1mi0lcjEMEXF706dPNwDj77//Nt566y0jICDAyMrKMgzDMG655Rajc+fOhmEYRlRUlHHjjTcWvu6bb74xAOO5554r8n79+vUzLBaLsXPnTsMwDGPt2rUGYNx7771FzrvtttsMwHjqqacKjw0fPtyoUaOGkZycXOTcAQMGGEFBQYW59uzZYwDG9OnTz/v5kpKSDA8PD+ODDz4oPNaxY0ejZ8+eRc6bNm2aARivvfbaae/hcDgMwzCMX375xQCMESNGnPWcc2X79+d96qmnDMAYOHDgaeee+Kyn+vzzzw3AWLp0aeGxQYMGGVar1fj777/Pmum9994zAGPLli2Fz+Xl5RmhoaHG4MGDT3vdxQCM4cOHG4cPHzYOHTpkrFq1yujWrZsBGBMnTixy7qnfe7t27TI8PDyKfG2vvvpqo3nz5kVec+r34dChQw0fHx/jwIEDhmEYxq+//moAxuzZs0v1M4mIiJSVijwOK87P5VGjRhmA8fvvvxcey8jIMOrWrWtER0cbdrvdMAzD6Nmz52ljgn8LCgoy7rvvvnOec7FOfKZp06YZhw8fNg4cOGDMnz/faNCggWGxWIyVK1cWOX/w4MGGv7+/YRiG8dFHHxmAMXfu3MLngSKZT3xtJ06caBQUFBgNGzY0WrduXTimOzF2PHz4cJl+TpGKQjOlRMqZW2+9lezsbH744QcyMjL44Ycfzjpl/Mcff8RmszFixIgixx966CEMw+Cnn34qPA847bxRo0YVeWwYBnPmzKFHjx4YhkFycnLh1rVrV9LS0i5o+vWsWbOwWq307du38NjAgQP56aefOHr0aOGxOXPmEBoaesZV3SwWS+E5FouFp5566qznXIj//e9/px3z9fUt3M/JySE5OZnLLrsMoPDr4HA4+Oabb+jRowexsbFnzXTrrbfi4+NTZLbUggULSE5O5o477rjg3GczdepUwsLCqF69OrGxsSxevJhHH330tL/cnqpevXrceeedvP/++xw8eLBY1xk3bpxmS4mISIVREcdh5/Pjjz/Srl27wvYFAFWqVOHuu+9m7969bN68GYCqVauSkJDA33//fdb3qlq1KitWrHDJrf3Dhg0jLCyMmjVr0q1bN9LS0vjkk0+49NJLz/qa22+//YJnS33zzTelmF6k8lBRSqScCQsLo0uXLnz22WfMnTsXu91Ov379znhuXFwcNWvWJCAgoMjxpk2bFj5/4p9Wq5X69esXOa9x48ZFHh8+fJjU1FTef/99wsLCimxDhw4F4NChQyX+TJ9++int2rXjyJEj7Ny5k507d9KmTRvy8vKYPXt24Xm7du2icePGeHh4nPW9du3aRc2aNQkJCSlxjnOpW7fuacdSUlIYOXIk4eHh+Pr6EhYWVnheWloa4Pyapaen06JFi3O+f9WqVenRo0eRvgszZ86kVq1aXHPNNed8bWJiYpEtOzv7vJ+nZ8+e/Pzzz8ybN6+wb1ZWVhZW67l/LJS0yHQhhSwRERF3VRHHYecTFxd3WpYzfY7/+7//o0qVKrRr146GDRty33338ccffxR5zcsvv8zGjRuJjIykXbt2PP300+zevfuc18/LyzttrGO328+b+8knn+Tnn3/m66+/ZtCgQaSlpZ13nHOiyLR27dpiF5luv/12GjRooN5SIhfo7L/ZiYjbuu2227jrrrtITEyke/fuVK1a1SXXdTgcANxxxx0MHjz4jOe0atWqRO+5Y8eOwr+oNWzY8LTnZ86cyd13313CpOd2thlT5xrgnDor6oRbb72VP//8k0ceeYSYmBiqVKmCw+GgW7duhV+rkhg0aBCzZ8/mzz//pGXLlnz33Xfce++95x1A1ahRo8jj6dOnM2TIkHO+pnbt2nTp0gVwriYUGhrK/fffT+fOnenTp89ZX1evXj3uuOMO3n//fR577LFifa6xY8fyySef8NJLL9GrV69ivUZERMRdVaRxWGlq2rQp27Zt44cffmD+/PnMmTOHd955hyeffJLx48cDzrHTlVdeyddff83ChQuZOHEiL730EnPnzqV79+5nfN8///yTzp07Fzm2Z88eoqOjz5mnZcuWhWOdXr16kZWVxV133cUVV1xBZGTkWV93++238+yzz/LMM88Ua9xyopA1ZMgQvv322/OeLyJFqSglUg717t2b//73v/z111988cUXZz0vKiqKRYsWkZGRUeSvdFu3bi18/sQ/HQ5H4UykE7Zt21bk/U6sCGO32wt/yF+smTNn4unpySeffILNZivy3LJly5g8eTLx8fHUqVOH+vXrs2LFCvLz8/H09Dzj+9WvX58FCxaQkpJy1tlSJxpcpqamFjl+4i99xXH06FEWL17M+PHjefLJJwuP79ixo8h5YWFhBAYGFmnEfjbdunUjLCyMmTNn0r59e7KysrjzzjvP+7pTVwECaN68eTE/xUn//e9/ef311xk3bhy9e/c+562O48aN49NPP+Wll14q1nvXr1+fO+64g/fee4/27duXOJuIiIg7qUjjsOKIioo6LQuc/jkA/P396d+/P/379ycvL48+ffrw/PPPM2bMGHx8fADnH9Puvfde7r33Xg4dOsQll1zC888/f9aiVOvWrU8b60RERJT4c7z44ot8/fXXPP/880yZMuWs511IkemOO+7gueeeY/z48dx8880lziZSmen2PZFyqEqVKrz77rs8/fTT9OjR46zn3XDDDdjtdt56660ix19//XUsFkvhD/8T/5w8eXKR8/69iovNZqNv377MmTPnjEWWw4cPl/izzJw5kyuvvJL+/fvTr1+/ItsjjzwCULjKTd++fUlOTj7t8wCF06X79u2LYRiFf5E70zmBgYGEhoaydOnSIs+/8847xc59ooD272na//6aWa1WevXqxffff8+qVavOmgnAw8ODgQMH8uWXXzJjxgxatmxZrL94dunSpcj275lTxeHh4cFDDz3Eli1bzjsAO7XIlJiYWKz3HzduHPn5+bz88sslziYiIuJOKtI4rDhuuOEGVq5cyfLlywuPZWZm8v777xMdHU2zZs0AOHLkSJHXeXl50axZMwzDID8/H7vdXtje4ITq1atTs2ZNcnNzz3r94ODg08Y6JwpcJVG/fn369u3LjBkzzjt+ueOOO2jQoMEZx5Nncuptf999912Js4lUZpopJVJOnW3a9ql69OhB586dGTt2LHv37qV169YsXLiQb7/9llGjRhX2LoiJiWHgwIG88847pKWl0bFjRxYvXszOnTtPe88XX3yRX3/9lfbt23PXXXfRrFkzUlJSWLNmDYsWLSIlJaXYn2HFihXs3LmT+++//4zP16pVi0suuYSZM2fyf//3fwwaNIiPP/6Y0aNHs3LlSq688koyMzNZtGgR9957Lz179qRz587ceeedTJ48mR07dhTeSvf777/TuXPnwmv95z//4cUXX+Q///kPsbGxLF26lO3btxc7e2BgIFdddRUvv/wy+fn51KpVi4ULF7Jnz57Tzn3hhRdYuHAhV199NXfffTdNmzbl4MGDzJ49m2XLlhWZ9j9o0CAmT57Mr7/+WuyZSKVlyJAhPPnkk8W6ze7ELXnbtm0r1sysE4Wsjz76qJTSioiImKcijMNONWfOnMKZT//+nI899hiff/453bt3Z8SIEYSEhPDRRx+xZ88e5syZU9hm4PrrryciIoLLL7+c8PBwtmzZwltvvcWNN95IQEAAqamp1K5dm379+tG6dWuqVKnCokWL+Pvvv3n11VcvKHdJPfLII3z55ZdMmjTpnP0xbTYbY8eOLezVVRwnbvtbu3ZtKSQVqUTMWPJPRErm1KWIz+XfSxEbhnPJ3gcffNCoWbOm4enpaTRs2NCYOHFi4bK1J2RnZxsjRowwqlWrZvj7+xs9evQw9u3bd9pSxIZhGElJScZ9991nREZGGp6enkZERIRx7bXXGu+//37hOcVZiviBBx4wAGPXrl1nPefpp582AGPdunWGYRhGVlaWMXbsWKNu3bqF1+7Xr1+R9ygoKDAmTpxoNGnSxPDy8jLCwsKM7t27G6tXry48Jysryxg+fLgRFBRkBAQEGLfeeqtx6NCh0z7vuZb1TUhIMHr37m1UrVrVCAoKMm655RbjwIEDZ/yaxcXFGYMGDTLCwsIMb29vo169esZ9991n5Obmnva+zZs3N6xWq5GQkHDWr8vF4F9LG5/qxNf7119/NQzj3N97gwcPNoDTln8+0/ehYRjGjh07DJvNdt6lp0VERNxJRR2HGYZh/PrrrwZw1u333383DMMwdu3aZfTr18+oWrWq4ePjY7Rr18744YcfirzXe++9Z1x11VVGtWrVDG9vb6N+/frGI488YqSlpRmGYRi5ubnGI488YrRu3doICAgw/P39jdatWxvvvPPOOTOW1InPdLaxRqdOnYzAwEAjNTXVMAzneMbf3/+08/Lz84369eufNm468bWdOHHiaa858b1ytrGjiJzOYhhaIkBExJ20adOGkJAQFi9ebHYUERERERGRMqOeUiIibmTVqlWsXbuWQYMGmR1FRERERESkTGmmlIiIG9i4cSOrV6/m1VdfJTk5md27d19QE08REREREZHyQjOlRETcwFdffcXQoUPJz8/n888/V0FKREREREQqPM2UEhERERERERERl9NMKRERERERERERcTkVpURERERERERExOU8zA7gag6HgwMHDhAQEIDFYjE7joiIiJQThmGQkZFBzZo1sVorz9/1NHYSERGRkiruuKnSFaUOHDhAZGSk2TFERESknNq3bx+1a9c2O4bLaOwkIiIiF+p846ZKV5QKCAgAnF+YwMBAk9OIiIhIeZGenk5kZGThWKKy0NhJRERESqq446ZKV5Q6Me08MDBQAysREREpscp2C5vGTiIiInKhzjduqjwNEURERERERERExG2oKCUiIiIiIiIiIi6nopSIiIiIiIiIiLhcpespVVx2u538/HyzY5Rbnp6e2Gw2s2OIiIiICzgcDvLy8syOUW5p3CQiIpWVilL/YhgGiYmJpKammh2l3KtatSoRERGVriGsiIhIZZKXl8eePXtwOBxmRynXNG4SEZHKSEWpfzlRkKpevTp+fn4aGFwAwzDIysri0KFDANSoUcPkRCIiIlIWDMPg4MGD2Gw2IiMjsVrVGaKkNG4SEZHKTEWpU9jt9sKCVLVq1cyOU675+voCcOjQIapXr64p6SIiIhVQQUEBWVlZ1KxZEz8/P7PjlFsaN4mISGWlP2ed4kQPKQ2qSseJr6N6c4mIiFRMdrsdAC8vL5OTlH8aN4mISGWkotQZ6Ja90qGvo4iISOWgn/kXT19DERGpjFSUEhERERFTGYZhdgQRERExgXpKyVlFR0czatQoRo0aZXYUERERwFm8OJKZx76ULPYdzWZfShYJR7PYl5JNfEoWHepV46V+rcyOKcV05FguhzNyqernSUSQr9lxLorGTSIiIiWnolQFcL7p3k899RRPP/10id/377//xt/f/wJTiYiIXJhjuQXOotO/Ck/xKVkkHM0mK89+1teGB3q7MKlcLIsF8uwOMs/x77T0r6lxk4iIiLtQUaoCOHjwYOH+F198wZNPPsm2bdsKj1WpUqVw3zAM7HY7Hh7n/1cfFhZWukFFRESAvAIH+1OzjxednLOc9h3NIiHFWXg6mnXuRs8WC4QH+BAZ4ktksB+RIce3YF+iqqkoUJ74eTnHI9l5dhyGgdUFfZU0bhIREXEfKkpVABEREYX7QUFBWCyWwmO//fYbnTt35scff2TcuHFs2LCBhQsXEhkZyejRo/nrr7/IzMykadOmTJgwgS5duhS+17+noVssFj744APmzZvHggULqFWrFq+++io333yzSz+viIi4N4fDICkjx1lsOkPh6WB6DudrIVTVz5PIYD/qhPhR+9TiU7AvtYJ98fawuebDSJny9rBis1qwOwxy8u2FRaqypHGTiIiI+1BR6jwMwyA733VTyk/l62krtZVYHnvsMV555RXq1atHcHAw+/bt44YbbuD555/H29ubjz/+mB49erBt2zbq1Klz1vcZP348L7/8MhMnTuTNN9/k9ttvJy4ujpCQkFLJKSLiTgzDYHvSMY5m5eHnZcPPy4avlwd+njZ8vWx4e1gr5YpZhmGQmpVfpNh04la7hOO32OXZHed8Dx9Pa2HRKTLEj9rBvseLTn5EhvgS4OPpok8jpelCxk1WLGTmF5CckUdowIVfW+MmERGR8kdFqfPIzrfT7MkFplx78zNdS+0vhs888wzXXXdd4eOQkBBat25d+PjZZ5/l66+/5rvvvuP+++8/6/sMGTKEgQMHAvDCCy8wefJkVq5cSbdu3Uolp4iI2ewOg9VxR1mwKZEFmxJJOJp91nOtFuftR77HC1Z+Xh4ni1eepxSxCgtaNvw8bUVe43vK6068xs/LAx9Pcwte2Xn2wj5Op/Z2OlF4ysgtOOfrbVYLNav6OItOwacXnkKreFXKgl5Fp3FTURo3iYiInJuKUpVEbGxskcfHjh3j6aefZt68eRw8eJCCggKys7OJj48/5/u0anVyRSN/f38CAwM5dOhQmWQWEXGV3AI7f+48woJNify8OYkjmXmFz/l4WqlZ1ZfsPDtZeXay8+yFs4AchrMp97HzFGguhMXC8RlZ/ypqednw9Tz9mJ+XxymFsFMKXV42/E/Z9/Oy4eNhw2EYHEzLOaXodOqsp2ySj+WeN2P1AO/CW+pOFJtO3GpXI8gHD5u11L8uIq6gcZOIiIhrqCh1Hr6eNjY/09W0a5eWf68G8/DDD/Pzzz/zyiuv0KBBA3x9fenXrx95eXlneQcnT8+it1NYLBYcjnPfoiEi4o4ycvL5bdthFmxK5Ldth4sUlgJ9POjSNJzrm0dwdaMwfL2K/v+4wO4gK99eWKjKyis4Zd9Odn5BYQGr8FheAZmFx44/n28/5TznsdwC5/9TDQMy8+xltiqZ1eIsqp1LgI/HKTOdit5eVzvYD59S/DklFcOFjJscDoMtiRkYhkGj8Cp4XWC/MI2bREREyh8Vpc7DYrG4pOmmq/3xxx8MGTKE3r17A86/AO7du9fcUCIiZSz5WC6LNiexYFMif+w8UqTvUXigN9c3i6Br8wja1wvB8xyzfDxsVgJtVgLLoO+R3WEcL1b9q9B1oviVX7TQVeT5/NOPZZ7yPqf2+nEYzibT/+7ldLKhuB9BfurrJCVzoeOmYD8vsvIKMHDPcZfGTSIiImXD/X7qi0s0bNiQuXPn0qNHDywWC0888YT+ciciFdK+lCwWbEpk4aYkVsWlFJkdVC/Un+ubR9C1eTita1fFajW/x5HNaqGKtwdVvEv/R7TDYZBT4CxQGQZU8/dyi88s4udlc84WzC0g2M/L7Din0bhJRESkbKgoVUm99tprDBs2jI4dOxIaGsr//d//kZ6ebnYsEZGLZhgG25IyWLDROSNq88Gi/29rWSuIrs3D6do8ggbVq1SqZttWq+V4ryn9+Bf34u9lIxnK7HbVi6Vxk4iISNmwGIZxno4SFUt6ejpBQUGkpaURGBhY5LmcnBz27NlD3bp18fHxMSlhxaGvp4i4isNh8M++oyzY5CxExR3JKnzOaoF2dUPo2jyC65tHUKuqr4lJpTw71xiiInPF2Cnf7mDL8QJy85qB2KyVr0m+xk0iIlKRFHfcpD+ViohIuZRX4GD57pMr5h3OOLlanJeHlasahnJ98wi6NA0nxN/9bgcSkZM8bVa8PKzkFTjIyrMT4FP5ilIiIiKVkYpSIiJSbmTmFrBku3PFvF+2HiIj5+SKeQHeHlzTtDpdj6+Y518GPZnEjeSkQ/p+SEs4uaXvh+rN4PIRZqeTC+Dv5UFeQR6ZeXYCymARAREREXE/GrGLiIhbS8nMY9GWJBZuSmTpjmTyCk42Fw4L8Oa6Zs7+UB3qVcPLQ7MrKoSC3OMFp+NFp/SEU/aP/zP3LP186nVSUaqc8vOycTQLsnILzn+yiIiIVAgqSomIiNvZn5rNwk2JLNiUyMo9RVfMi6rmR9fjK+a1iQzW6nHljcMOxw6dUmw6XnA6dT/zUPHey6cqBNV2boG1IKgWVG9epvGl7Pgdn93oXB3SqFSLEIiIiFRWKkqJiIjpDMNg56FjLNiUyIJNSWzYn1bk+WY1Ap2FqBbhNA4P0C+r7sowIPto0dvqCveP/zPjADiKMRPGw+eUYlOks+AUWKtoEcq7Stl/JnEZHw8rNosFu2GQk2/HV6tEioiIVHj6aS8iIqZwOAzWJaSyYJPz1rzdyZmFz1kscGlUCNc3d96aFxniZ2JSKZSXdZaC0yn7+Vnnfx+LDQJqHC8w1SpaeAqqDYG1wS/E+Y0glYbFYsHP24OMnHwy81SUEhERqQz0015ERFwm3+5gxe4UFmxKZOHmRJLST1kxz2bl8gbV6No8gi7Nwgmt4m1i0krIXgAZB89SbNrnnOmUnVK89/ILPV5gijx5W92JYlNQbagSDjYNQeR0fl42MnLyycq1gybCiYiIVHgaEYqISJnKzrOzZPthFm5KZPHWQ6Rl5xc+5+9lo3MT54p5nRqHacUtV7AXwK5fYO/SorfVHUsEw3H+13tVOeW2utpn2K8Jnr5l/zmkQvL3sgGQmadm5yIiIpWBilIiIlLqUrPyWLzlEAs2JbJ0x2Fy8k8WO6r5exWumNexQTW8PWwmJq1EkjbDus9g/ZdwLOnM51g9nUWlIrfS/av45BOk2+qkzPh6eWDBQr7dQV6BQytqioiIVHAqSgkAnTp1IiYmhkmTJpkdRUTKqYycfL75Zz/zNyXy1+4U7KcsmVc72Pf4inkRtI0KxqYV81wjKwU2fAVrZ8LBtSeP+1WDpjdDaMOit9X5h4FVRQAxj81qwcfTSna+nay8Arw8vMyOdEYaN4mIiJQOFaUqgB49epCfn8/8+fNPe+7333/nqquuYt26dbRq1cqEdCJS0aXn5DPjj71MXbanyK15TSICuL55BF2bh9OsRqBWzHMVez7s+Nk5K2rbfHAc/3di9YBG3SDmNmhwHbjpL/si/t4ex4tSdqqWwRoHGjeJiIi4DxWlKoDhw4fTt29fEhISqF27dpHnpk+fTmxsrAZWIlLq0rLzmf7HHqYt20N6jrP/S70wfwZcGsn1zSKIDvU3OWElk7gB1h6/PS8r+eTxGq2h9W3Qsh/4h5qXT6SY/E70lcotm75SGjeJiIi4D9Pn6L/99ttER0fj4+ND+/btWbly5TnPnzRpEo0bN8bX15fIyEgefPBBcnJyXJTWPd10002EhYUxY8aMIsePHTvG7Nmz6dWrFwMHDqRWrVr4+fnRsmVLPv/8c3PCiki5l5aVz2s/b+eKl35h0qIdpOcU0LB6FSYPbMPPD17N3VfVV0HKVY4dhuXvwJQrnNtf7zgLUv7VocP9cM+f8N+lcNn/VJCScsPPy/k305x8R5HbgEuLxk0iIiLuw9SZUl988QWjR49mypQptG/fnkmTJtG1a1e2bdtG9erVTzv/s88+47HHHmPatGl07NiR7du3M2TIECwWC6+99lrZhDQMyM8qm/c+H0+/YjWT9fDwYNCgQcyYMYOxY8cW3iIze/Zs7HY7d9xxB7Nnz+b//u//CAwMZN68edx5553Ur1+fdu3alfWnEJF/MwzYvwYObTY7SYlk5RXw+45klu1MJqfAQTcgItibLk3DaVkrCKs9HtZ7OGfmVG+qZthlpSAPts+HdZ/DjoXgOD6bxOYFjbtDzO1Q/1qwaTK0mKAUxk1egJcjh3y7g+xjBlWKuyqnxk0iIiLljqkj1tdee4277rqLoUOHAjBlyhTmzZvHtGnTeOyxx047/88//+Tyyy/ntttuAyA6OpqBAweyYsWKsguZnwUv1Cy79z+Xxw+AV/FmGwwbNoyJEyeyZMkSOnXqBDinoPft25eoqCgefvjhwnMfeOABFixYwJdffqnBlYirGAYkbYKNc5xbapzZiUrMD+gKdLUAJ35HzAbWHN9O5R8Gda86uQXXVZHqYhiGs1H52s+cjcuzU04+V/MSZ5+oFn3BL8S0iCJAqY2bmlzIizRuEhERKXdMK0rl5eWxevVqxowZU3jMarXSpUsXli9ffsbXdOzYkU8//ZSVK1fSrl07du/ezY8//sidd9551uvk5uaSm5tb+Dg9Pb30PoQbadKkCR07dmTatGl06tSJnTt38vvvv/PMM89gt9t54YUX+PLLL9m/fz95eXnk5ubi51cG3UNFpKjknScLUcnbTh739Ic67Z2zW9xUnt1B/JEsEo5mUXD8FpoAHw/qhvoTVsX7zI3L8zJh/2rIPHzycwMERRYtUgWaVOwvbzISnT2i1n4Gh7ecPF4lAlr3d/aKqn5Bv76LVGoaN4mIiLgH04pSycnJ2O12wsPDixwPDw9n69atZ3zNbbfdRnJyMldccQWGYVBQUMD//vc/Hn/88bNeZ8KECYwfP/7Cg3r6Of/yZgbPkg1+hg8fzgMPPMDbb7/N9OnTqV+/PldffTUvvfQSb7zxBpMmTaJly5b4+/szatQo8vLyyii4SCWXug82zXUWZA6uO3nc5g2NrnfOaGnYFbzc8xecI8dyef/33XyyPI6sPDsAzWoEMrJLQy5tGo7Vep4ZTwV5sH8V7Fnq3PathLR9sHamcwOo1gDqXu0sUEVfCf7VyvhTlSP5ObD9J2chauciMBzO4zZvaHqTsxBVr5NuzxP3VErjpuy8AnYezsRmtdA0IqB4q3dq3CQiIlLulKsR7W+//cYLL7zAO++8Q/v27dm5cycjR47k2Wef5Yknnjjja8aMGcPo0aMLH6enpxMZGVn8i1osxZ4KbrZbb72VkSNH8tlnn/Hxxx9zzz33YLFY+OOPP+jZsyd33HEHAA6Hg+3bt9OsWTOTE4tUIBlJsPkbZyFq3ym3FFs9oF5nZyGqyY3gE2haxPNJPpbL+0udxajsfGcxqkWtQEZe24guTasX75dCAA8viOro3Do9BnlZsO+vk0WqA//AkZ3ObdVU52vCW56cRRXV0a2/TmXCMJwzzNZ+Bhu/gpy0k8/Vbue8Pa95b/CtalpEkWIppXGTj6eBJQ0KDIMcqy++nrZSCFeUxk0iIiLmM60oFRoais1mIykpqcjxpKQkIiIizviaJ554gjvvvJP//Oc/ALRs2ZLMzEzuvvtuxo4di9V6+mKC3t7eeHt7l/4HcENVqlShf//+jBkzhvT0dIYMGQJAw4YN+eqrr/jzzz8JDg7mtddeIykpSYMrkYuVlQJbvncWovb+fnJGCxaIvsJZiGp6s9vPAjqUkcP7S3bz6Yo4cvKdn6FlrSBGdWnINU1KUIw6Gy8/qH+NcwNnwWXvHyeLVIc2QdIG5/bX22CxQa1LThapItuDp+9Ffko3lX4A1s1yNi1P3n7yeGAtaD0AWg+E0Ibm5RMxicViwc/LxrHcArJyC8qkKKVxk4iIiPlMK0p5eXnRtm1bFi9eTK9evQDnX6IWL17M/ffff8bXZGVlnVZ4stmcgxTDKP0lg8uj4cOHM3XqVG644QZq1nT2bBk3bhy7d++ma9eu+Pn5cffdd9OrVy/S0tLO824icprcDNj6o7MQtWvxyZXPAGpf6ixENesFgTVMi1hch9JzmLJkNzNXxJFb4CxGta4dxMguDencuBSKUWfjEwRNbnBuAMcOO4t6J4pUKbsg4W/n9vurzr5bke1PFqlqtQVbMVfjckf52bB1nvNWxt2/nSxmevhC0x7OWVF1rwJr6f8SLlKe+Hl5OItSeXbKqrSvcZOIiIi5TL19b/To0QwePJjY2FjatWvHpEmTyMzMLFyNb9CgQdSqVYsJEyYA0KNHD1577TXatGlTePveE088QY8ePQqLU5Vdhw4dTivQhYSE8M0335zzdb/99lvZhRIp7/KzYcdCZyFq+wIoyDn5XERLZyGqeW8IjjYtYkkkpefw7m+7+HxlfGExKiayKiO7NKRTo7CyK0adTZUwaNHHuQGkJZwsUO1eAhkHnEWrvb/Dr887m8RHdThepLra+e/A3Qs4huG8rXPtZ7Dpa8g9ZdGNOh0hZqCzmFnZblsUOQd/bxtkQGZewflPvkAaN4mIiJjL1KJU//79OXz4ME8++SSJiYnExMQwf/78wubn8fHxRWZGjRs3DovFwrhx49i/fz9hYWH06NGD559/3qyPICIVVUEe7P7VWYjaOg/yjp18rloDaNHPWUQJa2xexhJKTMvh3d928vnf+8g7Xoy6pE5VRnZpxFUNQ11fjDqboNrO2UIxtzmLOSm7Yc+Sk4WqrCPOBuA7FznP96nqvF3yROP0sMbOvjbuIHXfydvzUnadPB5Ux1mIaj0AQuqZl0/Ejfl5OYvNeQUO8u0OPG2nt2kQERGR8s1iVLL73tLT0wkKCiItLY3AwKJ/kc7JyWHPnj3UrVsXHx8fkxJWHPp6SrnjsMPeZc5C1JbvIPvoyeeC6hyfzdPXOTPHXYoexXAgNZt3f9vFF3/vI8/uLEbFRgUzsktDrmjgRsWo4nA44NDmkwWquD+KzjoC8K9+8la/ele7fgZbXqaz19jaz5wZOf5j1tMfmvdy9omKuhzO0AdR3Nu5xhBmmDBhAnPnzmXr1q34+vrSsWNHXnrpJRo3Plksz8nJ4aGHHmLWrFnk5ubStWtX3nnnndNWPz4XM8dO25MyyMm3E1XNjyBfr1J/f3eicZOIiFQkxR03lavV90RESp3D4exdtHGOc/W8Y6csvlAl3HlbXou+zn5R5al4A+xPzeadX3cye1VCYTGqXXQII7s0pGP9auWrGHWC1QoRLZxbh3vBXgAH152cSRX/F2Qecq5gt/Er52uq1jl5q1/0lWXT78vhgPjlzkLU5m+KzqyLvtI566vpzeBdpfSvLZXWkiVLuO+++7j00kspKCjg8ccf5/rrr2fz5s34+ztXwHvwwQeZN28es2fPJigoiPvvv58+ffrwxx9/mJy+ePy9bOTk28nMtRNUQdc7EBERqcxUlBKRyscwIHG9sxC1cS6k7Tv5nG+ws3jQst/x2Sxu3qvoDBKOZvHOb7uYvWof+XbnLJ32dZ3FqA71ymkx6mxsHlC7rXO7cjQU5DqLjCdmUiX8Danx8M+nzg0gtNHJmVTRV4JfyIVf/+he5+15az+D1LiTx4OjIeZ2aNUfgqMu5hOKnNX8+fOLPJ4xYwbVq1dn9erVXHXVVaSlpTF16lQ+++wzrrnGufrl9OnTadq0KX/99ReXXXaZGbFLxM/bgyOZeWTl2c2OIiIiImVARSkRqTwObzteiJoDR3aePO5VBZrc5JwRVa8TeJTPW0T2pWTxzm87+Wp1QmExqkO9aozs0pDL6pXV2lVuxsPb2V8q+gro/DjkHoN9f50sUh1YC8nbndvfHwIW5+2YJ2ZSRXUA74BzXyM3AzZ/C2s/h7hlJ497BThvz4u5HepcVu5m1kn5d2J1uJAQZ6F19erV5Ofn06VLl8JzmjRpQp06dVi+fPlZi1K5ubnk5uYWPk5PTz/jea7gf7yvVHa+HYfDwGrVf1ciIiIViYpSZ+BwOMyOUCHo6yhu4ehe52yojXMhacPJ4x4+0Kirs2F5w+vAs/zeFxJ/JIu3f93JnDUJFDicxajLG1Rj5LWNaFf3ImYBVQTeVaBBF+cGzj5he/84WaQ6vMU5ay5xPSx/Cyw2qNX25EyqyPbg6eO8PW/v784ZUVu+g/ys4xewOAuZMbc5C5tefmZ9UqnkHA4Ho0aN4vLLL6dFixYAJCYm4uXlRdWqVYucGx4eTmJi4lnfa8KECYwfP75E1y+rFqWeNiseNisFdgfZ+Xb8vSvu0FXjJhERqYwq7k/2C+Dl5YXVauXAgQOEhYXh5eVVsW5zcRHDMMjLy+Pw4cNYrVa8vMrnrBMpx9IPwqavnTOi9q86edzqCQ2udc6Iatz9/DNi3FzckUze+mUnc//Zj/14MerKhqGMvLYhsdGVvBh1Nr7B0PQm5waQkeQsNp0oUh3dAwkrndvvr4DNGyLbOYubp97mWa2BsxDVqr9ztUARk913331s3LiRZcuWnf/k8xgzZgyjR48ufJyenk5kZOQZz/X09MRisXD48GHCwsLKZNzkTQH5BQWkHsvEZniX+vubTeMmERGpzFSUOoXVaqVu3bocPHiQAwcOmB2n3PPz86NOnTpYtcKUuELmEdjyrXNG1N5lFK54ZrE6+wa16AtNe1xc/yA3sSfZWYz6Zu3JYtRVjcIYeW1D2kYFm5yunAkId/YPa9nP+Tg1/mSBas9SyDjoLFoBeAc5V2CMuR1qx+r2PHEb999/Pz/88ANLly6ldu2TRdKIiAjy8vJITU0tMlsqKSmJiIiIs76ft7c33t7FK/7YbDZq165NQkICe/fuvdCPcE4ZOQWkZeeT4WklvUrFK0qdoHGTiIhURipK/YuXlxd16tShoKAAu11NNS+UzWbDw8NDM82kbOWkwdZ5zhlRu34F45T/ZiMvcxaimvV0Fh4qgN2HjxUWo47XoujUOIwR1zbkkjoqRpWKqnWgzR3OzTCcvcfi/gCfqs7bPcvxbZ5S8RiGwQMPPMDXX3/Nb7/9Rt26dYs837ZtWzw9PVm8eDF9+/YFYNu2bcTHx9OhQ4dSy1GlShUaNmxIfn5+qb3nqbYcTOfpH9cQ4OPB3Hsur5B9pTRuEhGRykpFqTOwWCx4enri6elpdhQR+be8LNg+31mI2vEz2E8246VGa2chqnlvZ3Ghgth56Bhv/bKD79YdKCxGXdOkOiOubUhMZFVTs1VoFguENnRuIm7ovvvu47PPPuPbb78lICCgsE9UUFAQvr6+BAUFMXz4cEaPHk1ISAiBgYE88MADdOjQodRX3rPZbNhsZbNaafNIL5KzDfZn5HLgmJ0G1auUyXVERETE9VSUEhH3V5ALOxc7C1HbfoL8zJPPhTZ23nrVvA+ENjAvYxnYeSiDyYt38v36A5zoIdylqbMY1ap2VVOziYj53n33XQA6depU5Pj06dMZMmQIAK+//jpWq5W+ffuSm5tL165deeedd1yc9OJ4eVhpHVmVlXtSWB2XoqKUiIhIBaKilIi4r7xMWPk+/DEZslNOHq8a5ZwR1aIvhDevcL19tidlMHnxDuZtOFhYjLquWTgjr21Ii1pB5oYTEbdRnBXvfHx8ePvtt3n77bddkKjsxEYFs3JPCqv2HqX/pRVnJqyIiEhlp6KUiLif/BxYPQN+fxUyDzmPBdRwzoZq0RdqXVLhClEAWxPTeXPxTn7ceLIY1bV5OCOubUjzmipGiUjldWIRh9XxR01OIiIiIqVJRSkRcR/2fPjnU1g6EdL3O49VjYJOY6DlLWCrmP/L2nIwncmLd/DTxsTCY92aRzDi2oY0qxloYjIREfdwoii1+3AmKZl5hPh7mZxIRERESkPF/A1PRMoXhx02zIbfJsDRvc5jgbXgqkecq6DZKuaiA5sOpDF58Q4WbEoqPHZDywgeuKYhTWuoGCUickJVPy8aVK/CzkPHWB13lOuaVYxVVUVERCo7FaVExDwOB2z5Fn59AZK3O4/5h8GVD0HboeDpY26+MrLr8DEmzt/G/E3OmVEWC9zQsgYjrmlI44gAk9OJiLin2Khgdh46xqq4FBWlREREKggVpUTE9QwDti+AX5+DxA3OYz5V4YpR0O5u8PI3M12ZSUrPYdKiHXy5ah92h4HFAje1qsmIaxrQMFzFKBGRc7kkKphZf+9jTZz6SomIiFQUKkqJiOsYBuz+DX55Dvavch7zCoAO90GHe8GnYjbzTs/J570lu5i6bA85+Q4AujQN59FujWmkYpSISLHEHu8rtS4hjdwCO94eNpMTiYiIyMVSUUpEXCNuubMYFbfM+djDF9r/Fy4fCX4h5mYrI7kFdj5ZHsdbv+4kNSsfcDbrfax7Ey6NrpifWUSkrNQN9SfE34uUzDw27k8vbH4uIiIi5ZeKUiJStvavgV+fh52LnI9tXhA7DK4YDQEVsyeI3WHw7dr9vLpwO/tTswGoH+bP/3VrwnXNwrFYLCYnFBEpfywWC5fUCWbRliRWx6WoKCUiIlIBqCglImUjaZOzgfnWH5yPrR7OlfSuegSCapubrYwYhsFv2w/z0k9b2ZqYAUB4oDejr2tE30tq42GzmpxQRKR8i40+UZRSXykREZGKQEUpESldyTvhtwmwcQ5gABZo1R86/R+E1DM7XZlZuy+VF3/awl+7UwAI8PHg3k4NGNIxGl8v9T0RESkNJ/pKrY47imEYmnkqIiJSzqkoJSKl42gcLH0Z1n4Oht15rFkv6DQGqjcxNVpZ2pOcycQFW/lxQyIAXjYrgztGcV/nBlT18zI5nYhIxdKiVhBeNivJx/KIO5JFdGjFXK1VRESkslBRSkQuTvpB+P0VWP0ROJzNvGnUDTo/DjVam5utDB3KyGHy4h18vnIfdoeBxQJ92tTmwesaUjvYz+x4IiIVko+njRa1AlkTn8rquKMqSomIiJRzKkqJyIXJTIZlr8PfH0JBjvNYvU7QeRxEXmpqtLKUkZPPB0t388Hve8jOd84Iu6ZJdR7t1pgmEYEmpxMRqfhio0NYE5/Kqrij9G1bMXsUioiIVBYqSolIyWQfhT/fgr/ehfxM57HIy+CacVD3SnOzlaHcAjufrYjnzV92kpKZB0BMZFUe696Ey+pVMzmdiEjl0bawr1SKyUlERETkYqkoJSLFk5sBK6bAn29CTprzWI0YuOYJaHAtVNBmsw6HwffrD/DKwm3sS8kGoF6oP492a0zX5hFqsisi4mInilLbk46RlpVPkJ+nyYlERETkQqkoJSLnlp/tvEVv2euQdcR5rHoz6DwWmtxYYYtRhmHw+45kXvxpK5sPpgNQPcCbUV0acWtsbTxsVpMTiohUTqFVvImu5sfeI1ms2XeUzo2rmx1JRERELpCKUiJyZgW5sOZjWPoKHHOuLEdIfWcD8+a9wWozN18Z2pCQxovzt/DHTmcRLsDbg/91qs/Qy6Px89L/NkVEzNY2KoS9R7JYvVdFKRERkfJMv12JSFH2Alj3OSx5GdLinceC6kCn/4NWA8BWcf+3sTc5k1cWbuOH9QcB8LJZubNDFPd1bkCIv5fJ6URE5ITY6GDmrElglfpKiYiIlGsV97dLESkZhwM2zoHfJkDKLuexKhFw1cNwyWDwqLhFmcMZubz5yw4+WxFPgcPAYoHeMbV48LpGRIb4mR1PRET+5URfqbX7Usm3O/DULdUiIiLlkopSIpWdYcDWH+DXF+DQZucxv2pwxWi4dDh4+pqbrwwdyy3gg6W7+eD33WTl2QHo1DiMR7s2oVnNQJPTiYjI2TQIq0KgjwfpOQVsOZhOq9pVzY4kIiIiF0BFKZHKyjBg5yL45Tk4uNZ5zDsILn8A2v8PvANMjVeW8gocfL4ynsmLd3AkMw+A1rWD+L/uTehYP9TkdCIicj5Wq4W2UcH8uu0wq/YeVVFKRESknFJRSqQy2vO7sxi17y/nY68qcNk90OE+8A02N1sZcjgM5m04yCsLtxF3JAuA6Gp+PNK1CTe0jMBSQVcSFBGpiGKjQ/h122FWxx1l2BV1zY4jIiIiF0BFKZHKZN/f8MuzsGeJ87GHD7S7Cy4fBf4Ve4bQHzuTefGnrWzYnwY4lxQf2aUhAy6NVC8SEZFy6JI6zj+irIpLwTAM/WFBRESkHFJRSqQyOLjO2TNq+3znY6sntB0CVz4EgTVMjVbWNu5P46X5W/l9RzIA/l42/nt1fYZfURd/b/0vUESkvIqJrIqH1UJSei77U7OpHayFKURERMob/UYmUpEd3ga/Pg+bv3U+ttgg5ja4+lGoWsfcbGUs/kgWr/68jW/XHgDA02bh9vZR3H9NA0KreJucTkRELpavl43mNQNZl5DG6rijKkqJiIiUQypKiVREKbvht5dgw5dgOAALtOwHVz8GoQ3MTlemjhzL5c1fdjJzRRz5dgOAnjE1eei6xtSppl9YREQqkrZRIaxLSGPV3qP0jKlldhwREREpIRWlRCqSzCOweDz88ykYduexJjdB57EQ3szcbGUsM7eAqcv28P7S3RzLLQDgyoah/F+3JrSoFWRyOhERKQtto4KZ9sceVscdNTuKiIiIXAAVpUQqCns+fN4fEv52Pm5wHVwzFmq2MTdXGcu3O5j19z7eWLSD5GO5ALSoFchj3ZpyRcOK3bxdRKSyi412NjvfmpjOsdwCqqhXoIiISLmin9wiFcUvzzoLUt5BcNssiOpodqIyZRgGP25I5JWF29iTnAlAnRA/HunamBtb1sBq1SpMIiIVXXigD7WDfUk4ms0/8Ue5smGY2ZFERESkBFSUEqkIdvwMf7zh3O/5VoUvSC3fdYQXf9rCuoQ0AKr5ezHi2oYMbFcHLw+ryelERMSV2kYFk3A0m9VxKkqJiIiUN27x29vbb79NdHQ0Pj4+tG/fnpUrV5713E6dOmGxWE7bbrzxRhcmFnEj6Qfg6/869y+9C5rdbG6eMrT5QDpDpq9k4Ad/sS4hDT8vGyOvbciSRzszuGO0ClIiIpVQbJTzFj71lRIRESl/TJ8p9cUXXzB69GimTJlC+/btmTRpEl27dmXbtm1Ur179tPPnzp1LXl5e4eMjR47QunVrbrnlFlfGFnEPDjvMuQuyjkBES7j+ObMTlYl9KVm8/vN2vl67H8MAD6uF29rX4YFrGhIW4G12PBERMVHbqBAA/olPxe4wsOn2bRERkXLD9KLUa6+9xl133cXQoUMBmDJlCvPmzWPatGk89thjp50fEhJS5PGsWbPw8/NTUUoqpyUvQ9wy8KoC/WaAp4/ZiUpVvt3B+0t388biHeQVOAC4qVUNHr6+MdGh/ianExERd9A4IoAq3h4cyy1ga2I6zWtqxVUREZHywtSiVF5eHqtXr2bMmDGFx6xWK126dGH58uXFeo+pU6cyYMAA/P31C6pUMruXwJKXnPs3TYLQBqbGKW1r96Xy2Jz1bE3MAKBDvWqMuaEJrWpXNTeYiIi4FZvVQps6Vfl9RzJr4o6qKCUiIlKOmFqUSk5Oxm63Ex4eXuR4eHg4W7duPe/rV65cycaNG5k6depZz8nNzSU3N7fwcXp6+oUHFnEXxw7D3LsAA9rcAa0qzkzBzNwCXl24nRl/7sFhQLCfJ0/1aE7PmJpYLLolQ0RETtc2KpjfdySzKu4od3aINjuOiIiIFJPpt+9djKlTp9KyZUvatWt31nMmTJjA+PHjXZhKpIw5HM7G5seSIKwJdH/Z7ESl5rdthxj79Ub2p2YD0LtNLcbd2JRqVdQ3SkREzi72eF+pVXvV7FxERKQ8MXWpqtDQUGw2G0lJSUWOJyUlERERcc7XZmZmMmvWLIYPH37O88aMGUNaWlrhtm/fvovOLWKqP9+AXYvBwxdumQFe5f/W1ZTMPB78Yi1Dpv/N/tRsalX15aNh7Xi9f4wKUiIicl4xdapitcD+1GwS03LMjiMiIiLFZGpRysvLi7Zt27J48eLCYw6Hg8WLF9OhQ4dzvnb27Nnk5uZyxx13nPM8b29vAgMDi2wi5Vb8Clj8rHP/hpehelNz81wkwzD45p/9dHltCV//sx+rBYZfUZeFD17F1Y3CzI4nIiLlRBVvD5pEOMd4q+M0W0pERKS8MP32vdGjRzN48GBiY2Np164dkyZNIjMzs3A1vkGDBlGrVi0mTJhQ5HVTp06lV69eVKtWzYzYIq6XlQJfDQPDDi1vgTZ3mp3oouxLyWLsNxtZuv0wAE0iAnixbytiIquaG0xERMql2OhgNh9MZ1VcCje2qmF2HBERESkG04tS/fv35/Dhwzz55JMkJiYSExPD/PnzC5ufx8fHY7UWndC1bds2li1bxsKFC82ILOJ6hgHf3gfpCRBSD256Hcpp02+7w2DGn3t5ZcE2svPteHlYGXltQ+6+qh6eNlMnb4qISDnWNiqYj5fHaaaUiIhIOWJ6UQrg/vvv5/777z/jc7/99ttpxxo3boxhGGWcSsSNrHgPtv0INi/oNx28A8xOdEG2HEznsTnrWZeQBkC7uiFM6NOS+mFVTE4mIiLlXduoYAA2HUgnK68APy+3GOaKiIjIOeintYi7278GFo5z7l//PNSMMTXOhcjJt/PWLzuZsmQXBQ6DAB8PHr+hKf1jI7Fay+eMLxERcS+1qvoSEehDYnoO6/al0aG+WjyIiIi4OxWlRNxZThp8NRQc+dDkJmh3l9mJSuyv3Ud4fO4GdidnAtCteQTjezYnPNDH5GQiIlKRWCwW2kYHM2/9QVbHpagoJSIiUg6oKCXirgwDvh8FR/dCUB3o+Va56iOVlp3Piz9t5fOV8QBUD/DmmZ7N6dZCzWdFRKRsxEY5i1Kr1FdKRESkXFBRSsRdrfkINs0Fqwf0mwa+wWYnKrb5GxN58tuNHMrIBWBguzo81r0JQb6eJicTEZGK7ERfqTVxR3E4DN0iLiIi4uZUlBJxR0mb4Kf/c+5f+yREXmpunmJKSs/hqW83MX9TIgD1Qv2Z0Kcl7evpFgoRESl7TWsE4utpIz2ngJ2Hj9EovHwuDCIiIlJZqCgl4m7yMmH2ECjIgQbXQYcHzE50Xg6Hway/9zHhpy1k5BTgYbXwv6vrc/81DfDxtJkdT0REKglPm5WYyKos332EVXuPqiglIiLi5lSUEnE3Pz4CydshoAb0ngJWq9mJzmnX4WOMmbuBlXtSAGhdO4gX+7aiaY1Ak5OJiEhl1DYq2FmUikvhtvZ1zI4jIiIi56CilIg7WTcL1s4EixX6fgj+oWYnOqt8u4P3l+7mjcU7yCtw4Otp4+GujRnSMRqbeniIiIhJ2kaf7CslIiIi7k1FKRF3kbwDfhjt3L/6MYi+wtw857B2XyqPzVnP1sQMAK5qFMbzvVoQGeJncjIREansLqkTjMUCe49kcTgjl7AAb7MjiYiIyFm4931BIpVFfrazj1R+JkRfCVc9bHaiM8rMLeCZ7zfT550/2JqYQbCfJ6/3b81HQy9VQUpExARLly6lR48e1KxZE4vFwjfffFPk+SFDhmCxWIps3bp1MyesiwT5etKourOX1GrNlhIREXFrmikl4g4WjIWkjeAX6rxtz+p+zcF/23aIsV9vZH9qNgC929Ri3I1NqVZFf4EWETFLZmYmrVu3ZtiwYfTp0+eM53Tr1o3p06cXPvb2rvj/374kKphtSRmsiT9KtxYRZscRERGRs1BRSsRsm76GVVOd+33egwD3GjynZObx7A+b+fqf/QDUqurL871b0KlxdZOTiYhI9+7d6d69+znP8fb2JiLCvX62lLXYqGA+XxnPqr0pZkcRERGRc1BRSsRMKXvguxHO/SsehAZdzM1zCsMw+HbtAZ75YTMpmXlYLDC0Y10eur4R/t76X4eISHnx22+/Ub16dYKDg7nmmmt47rnnqFat2lnPz83NJTc3t/Bxenq6K2KWqtjjzc437k8nJ9+Oj6f7zUAWERERFaVEzFOQB18Ng9x0iGwPnceanahQwtEsxn69kSXbDwPQJCKACX1a0qZOsMnJRESkJLp160afPn2oW7cuu3bt4vHHH6d79+4sX74cm+3MhZoJEyYwfvx4FyctXXVC/Ait4k3ysVw27E/j0ugQsyOJiIjIGagoJWKWxePhwBrwqQp9p4LN0+xE2B0GH/25l1cWbiMrz46Xh5WR1zbk7qvq4WnTuggiIuXNgAEDCvdbtmxJq1atqF+/Pr/99hvXXnvtGV8zZswYRo8eXfg4PT2dyMjIMs9amiwWC22jqrJgUxKr446qKCUiIuKmVJQSMcO2+bD8Led+r3ehqvmD/a2J6fzfnA2s25cKQLu6IUzo05L6YVXMDSYiIqWmXr16hIaGsnPnzrMWpby9vStEM/TYqBAWbEpi1d6jcLXZaURERORMVJQScbW0/fDN/5z77e+BJjeYGicn385bv+xkypJdFDgMArw9GHNDUwZcGonVajE1m4iIlK6EhASOHDlCjRo1zI5S5toe7yu1Jv4ohmFgsehnmoiIiLtRUUrElewFMGc4ZB+FGjFwnbk9O1bsPsKYuRvYnZwJQNfm4TzTswXhgT6m5hIRkeI5duwYO3fuLHy8Z88e1q5dS0hICCEhIYwfP56+ffsSERHBrl27ePTRR2nQoAFdu3Y1MbVrNK8ZiJeHlZTMPHYnZ2rmr4iIiBtSUUrElX6bAPHLwSsAbpkOHubcHpGek8+LP23lsxXxAFQP8OaZns3p1qLi/+VcRKQiWbVqFZ07dy58fKIX1ODBg3n33XdZv349H330EampqdSsWZPrr7+eZ599tkLcnnc+3h42WtcO4u+9R1kdd1RFKRERETekopSIq+z6FX5/1bl/82QIqWdKjPkbE3ny240cynAu9z2wXR0e696EIF/zG62LiEjJdOrUCcMwzvr8ggULXJjG/bSNCnEWpfYe5dZY8/s3ioiISFEqSom4QkYSzL0bMKDtEGjRx+URktJzeOrbTczflAhA3VB/JvRpyWX1qrk8i4iIiCvERjn7Sq2KSzE5iYiIiJyJilIiZc1hh7l3QeYhqN4Mur3o2ss7DL5YtY8XftxCRk4BHlYL/726Hg9c0xAfT5tLs4iIiLjSJceLUrsOZ3I0M49gfy+TE4mIiMipVJQSKWvLXoM9S8DTD26ZAZ6+Lrv07sPHGDN3Ayv2OP9C3Lp2EC/2bUXTGoEuyyAiImKWEH8v6oX5s/twJmvij3Jt03CzI4mIiMgpVJQSKUtxf8KvLzj3b3wVwhq75LL5dgfvL93NG4t3kFfgwNfTxsNdGzOkYzQ2q5bEFhGRyiM2KpjdhzNZFaeilIiIiLuxlvQF0dHRPPPMM8THx5dFHpGKI/MIfDUcDAe0Hggxt7nksuv2pdLjzWVMXLCNvAIHVzUKY+GDVzH8iroqSImISKUTGxUCwOq9R01OIiIiIv9W4qLUqFGjmDt3LvXq1eO6665j1qxZ5ObmlkU2kfLLMOCbeyDjAFRrCDe84pLLfrYint7v/MHWxAyC/Tx5vX9rPhp6KZEhfi65voiIiLs50VdqXUIqeQUOk9OIiIjIqS6oKLV27VpWrlxJ06ZNeeCBB6hRowb3338/a9asKYuMIuXP8rdhxwKwecMt08G7SplfcsvBdJ7+bhMOA25uXZNFo6+md5vaWCyaHSUiIpVX/TB/gv08yS1wsOlAmtlxRERE5BQlLkqdcMkllzB58mQOHDjAU089xYcffsill15KTEwM06ZNwzCM0swpUn4krIZFTzn3u02AiJZlfsmcfDujZq0lz+7g2ibVeWNADNWqeJf5dUVERNydxWKh7fHZUqvjdAufiIiIO7ngolR+fj5ffvklN998Mw899BCxsbF8+OGH9O3bl8cff5zbb7+9NHOKlA/ZqfDVEHAUQLNeEDvMJZd98aetbEvKILSKNy/1a6XZUSIiIqc4cQvfKvWVEhERcSslXn1vzZo1TJ8+nc8//xyr1cqgQYN4/fXXadKkSeE5vXv35tJLLy3VoCJuzzDg+xGQGg9Vo+DmyeCC4tBv2w4x48+9AEy8pRWhmiElIiJSRGGz8/ijGIahP96IiIi4iRIXpS699FKuu+463n33XXr16oWnp+dp59StW5cBAwaUSkCRcmPVVNj8LVg9nX2kfILK/JJHjuXy8Oz1AAzpGE3nxtXL/JoiIiLlTavaQXjaLBzOyGVfSjZ1qmkBEBEREXdQ4qLU7t27iYqKOuc5/v7+TJ8+/YJDiZQ7B9fD/Med+9eNh1pty/yShmHwf3PWk3wsl0bhVXise5Pzv0hERKQS8vG00aJWEP/Ep7IqLkVFKRERETdR4p5Shw4dYsWKFacdX7FiBatWrSqVUCLlSm4GfDUU7LnQqBtcdq9LLjtzRTyLthzCy2bljQFt8PG0ueS6IiIi5VHbOmp2LiIi4m5KXJS677772Ldv32nH9+/fz3333VcqoUTKDcOAeQ/BkZ0QWAt6veuSPlI7Dx3juXmbAXi0W2Oa1ggs82uKiIiUZ7HRKkqJiIi4mxIXpTZv3swll1xy2vE2bdqwefPmUgklUm6s/QzWfwEWG/SdCn4hZX7JvAIHo774h5x8B1c0CGXY5XXL/JoiIiLlXdvjzc63JWWQlp1vchoRERGBCyhKeXt7k5SUdNrxgwcP4uFR4hZVIuXXoa3w48PO/c6PQ1QHl1z2tZ+3s3F/OlX9PHn11tZYrVpBSERE5HzCAryJquaHYcA/8ZotJSIi4g5KXJS6/vrrGTNmDGlpaYXHUlNTefzxx7nuuutKNZyI28rLcvaRys+Cep3hitEuueyfu5J5b+kuAF7s04rwQB+XXFdERKQiONFXao1u4RMREXELJZ7a9Morr3DVVVcRFRVFmzZtAFi7di3h4eF88sknpR5QxC3NfwwObQb/6tDnfbCWuL5bYmlZ+Tz05ToMAwZcGkm3FhFlfk0REZGKpG10MHP/2c8qFaVERETcQomLUrVq1WL9+vXMnDmTdevW4evry9ChQxk4cCCenp5lkVHEvWz4CtZ8BFig7wdQpXqZX9IwDB7/egMH03KoG+rPEzc1K/NrioiIVDSxx/tKrd2XSoHdgYet7P+oJCIiImd3QU2g/P39ufvuu0s7i4j7O7ILvh/l3L/qYajXySWXnbNmP/M2HMTDamFS/xj8vdW/TUREpKQaVq9CgI8HGTkFbE3MoEWtILMjiYiIVGoX/Jvt5s2biY+PJy8vr8jxm2+++aJDibilglxnH6m8DKjTEa5+zCWXjTuSyVPfbgTgwesa0TqyqkuuKyIiUtFYrRYuqRPMku2HWbU3RUUpERERk5V4zvLu3btp3bo1LVq04MYbb6RXr1706tWL3r1707t37xIHePvtt4mOjsbHx4f27duzcuXKc56fmprKfffdR40aNfD29qZRo0b8+OOPJb6uSIn9/CQcXAe+IdD3Q7CV/WylAruDUV+sJTPPTrvoEP53df0yv6aIiEhFFhvlbHauvlIiIiLmK3FRauTIkdStW5dDhw7h5+fHpk2bWLp0KbGxsfz2228leq8vvviC0aNH89RTT7FmzRpat25N165dOXTo0BnPz8vL47rrrmPv3r189dVXbNu2jQ8++IBatWqV9GOIlMyWH2DFFOd+7ykQ5JrvuTd/2ck/8akE+HjwWv/W2KwWl1xXRETK1r59+0hISCh8vHLlSkaNGsX7779vYqrKoW20syi1WkUpERER05W4KLV8+XKeeeYZQkNDsVqtWK1WrrjiCiZMmMCIESNK9F6vvfYad911F0OHDqVZs2ZMmTIFPz8/pk2bdsbzp02bRkpKCt988w2XX3450dHRXH311bRu3bqkH0Ok+FLj4dt7nfsd7odGXV1y2dVxKbz5yw4AnuvVgtrBfi65roiIlL3bbruNX3/9FYDExESuu+46Vq5cydixY3nmmWdMTlexxURWxWa1cDAthwOp2WbHERERqdRKXJSy2+0EBAQAEBoayoEDBwCIiopi27ZtxX6fvLw8Vq9eTZcuXU6GsVrp0qULy5cvP+NrvvvuOzp06MB9991HeHg4LVq04IUXXsBut5/1Orm5uaSnpxfZRIrNng9fDYecNKjVFq59yiWXzcjJZ9QXa3EY0LtNLXrGaDagiEhFsnHjRtq1awfAl19+SYsWLfjzzz+ZOXMmM2bMMDdcBefn5UGzGoGAbuETERExW4mLUi1atGDdunUAtG/fnpdffpk//viDZ555hnr16hX7fZKTk7Hb7YSHhxc5Hh4eTmJi4hlfs3v3br766ivsdjs//vgjTzzxBK+++irPPffcWa8zYcIEgoKCCrfIyMhiZxThl+cgYSV4B0G/aeDh5ZLLPvXdJvalZFOrqi/jezZ3yTVFRMR18vPz8fb2BmDRokWFC8U0adKEgwcPmhmtUmh7vK/U6r0pJicRERGp3EpclBo3bhwOhwOAZ555hj179nDllVfy448/Mnny5FIPeCqHw0H16tV5//33adu2Lf3792fs2LFMmTLlrK8ZM2YMaWlphdu+ffvKNKNUIDsWwR+TnPs934TgaJdc9vt1B5i7Zj9WC0waEEOgj6dLrisiIq7TvHlzpkyZwu+//87PP/9Mt27dADhw4ADVqlUzOV3F11bNzkVERNxCiZcP69r1ZD+dBg0asHXrVlJSUggODsZiKX4T5tDQUGw2G0lJSUWOJyUlERERccbX1KhRA09PT2w2W+Gxpk2bkpiYSF5eHl5ep89i8fb2LvxLpEixpR+Er//r3L/0P9Csp0suuz81m7FfbwDg/s4NuDQ6xCXXFRER13rppZfo3bs3EydOZPDgwYX9Mb/77rvC2/qk7MQeb3a+5WA6mbkF+HuX/Yq6IiIicroSzZTKz8/Hw8ODjRs3FjkeEhJSooIUgJeXF23btmXx4sWFxxwOB4sXL6ZDhw5nfM3ll1/Ozp07C2dqAWzfvp0aNWqcsSAlckEcdph7F2QlQ3hLuP55l1zW7jAY/cVa0nMKaB1ZlQeubeiS64qIiOt16tSJ5ORkkpOTiyzwcvfdd59zBriUjhpBvtSq6ovDgLX7Us2OIyIiUmmVqCjl6elJnTp1ztlYvCRGjx7NBx98wEcffcSWLVu45557yMzMZOjQoQAMGjSIMWPGFJ5/zz33kJKSwsiRI9m+fTvz5s3jhRde4L777iuVPCIALJ0Ie38HT3+4ZQZ4+rjksu8v3c2KPSn4edl4o38MnrYS310rIiLlRHZ2Nrm5uQQHO2fsxMXFMWnSJLZt20b16tVNTlc5FN7Ct1e38ImIiJilxL/1jh07lscff5yUlItvDNm/f39eeeUVnnzySWJiYli7di3z588vbH4eHx9fpNlnZGQkCxYs4O+//6ZVq1aMGDGCkSNH8thjj110FhEA9vwOS15y7veYBKENXHLZDQlpvLrQuXrl0zc3JzrU3yXXFRERc/Ts2ZOPP/4YgNTUVNq3b8+rr75Kr169ePfdd01OVzkUNjuPV1FKRETELBbDMIySvKBNmzbs3LmT/Px8oqKi8Pcv+svzmjVrSjVgaUtPTycoKIi0tDQCAwPNjiPuJDMZ3r0cjiVCmzug59suuWxWXgE3TV7G7uRMureI4J3bLynx7bAiIlL2SnMMERoaypIlS2jevDkffvghb775Jv/88w9z5szhySefZMuWLaWU+uJV1LHTxv1p3PTmMgK8PVj71PXYrPrZKyIiUlqKO34ocVfHXr16XUwuEffkcDgbmx9LhNDG0P1ll136uXlb2J2cSUSgDxP6tFRBSkSkEsjKyiIgIACAhQsX0qdPH6xWK5dddhlxcXEmp6scmkQE4O9lIyO3gO1JGTStUXEKbiIiIuVFiYtSTz31VFnkEDHXn5Nh5yLw8HH2kfJyze1zCzcl8tmKeABevbU1Vf3UsF9EpDJo0KAB33zzDb1792bBggU8+OCDABw6dKhCzUZyZx42K23qBLNsZzKr4o6qKCUiImICdVIW2bcSFj/j3O/+MoQ3c8llD6Xn8NjcDQDcfVU9Lm8Q6pLrioiI+Z588kkefvhhoqOjadeuXeHKwwsXLqRNmzYmp6s8LjneV2pNnPpKiYiImKHEM6WsVus5by8qrZX5RFwi+yh8NQwMO7ToB5cMcsllHQ6Dh2avIyUzj2Y1Anno+kYuua6IiLiHfv36ccUVV3Dw4EFat25dePzaa6+ld+/eJiarXGJPrMAXd/EL+IiIiEjJlbgo9fXXXxd5nJ+fzz///MNHH33E+PHjSy2YSJkzDPj2fkjbB8F14abXwUX9nGb8uZffdyTj7WFl8sAYvD1sLrmuiIi4j4iICCIiIkhISACgdu3atGvXzuRUlUubOlWxWGBfSjaH0nOoHuhjdiQREZFKpcRFqZ49e552rF+/fjRv3pwvvviC4cOHl0owkTK38n3Y+gPYvJx9pHxc00tia2I6L87fCsC4G5vSoHqAS64rIiLuw+Fw8Nxzz/Hqq69y7NgxAAICAnjooYcYO3YsVqs6LLhCgI8njcMD2JqYwaq4o9zQsobZkURERCqVUhvxXHbZZSxevLi03k6kbK35GOY/5ty//jmoGeOSy+bk2xn5+VryChxc06Q6d1wW5ZLrioiIexk7dixvvfUWL774Iv/88w///PMPL7zwAm+++SZPPPGE2fEqldho5y18q9VXSkRExOVKPFPqTLKzs5k8eTK1atUqjbcTKTuGAX9MgkVPOx9fMhja3e2yy780fyvbkjIIreLFy/1anbM/m4iIVFwfffQRH374ITfffHPhsVatWlGrVi3uvfdenn/+eRPTVS6xUSF8+lc8q1SUEhERcbkSF6WCg4OL/CJtGAYZGRn4+fnx6aeflmo4kVLlcMDPT8Dyt5yPrxgN1z7psj5SS7YfZvofewGY2K81oVW8XXJdERFxPykpKTRp0uS0402aNCElRU23Xant8Wbnm/ankZ1nx9dLfR5FRERcpcRFqddff71IUcpqtRIWFkb79u0JDg4u1XAipcZeAN89AOs+cz6+/nnoeL/LLn/kWC4Pz14HwOAOUXRuUt1l1xYREffTunVr3nrrLSZPnlzk+FtvvUWrVq1MSlU51Q72pXqAN4cyclmfkEr7etXMjiQiIlJplLgoNWTIkDKIIVKG8rNh9lDY/hNYbNDzbYgZ6LLLG4bBY3M3cDgjl4bVqzDmhqYuu7aIiLinl19+mRtvvJFFixbRoUMHAJYvX86+ffv48ccfTU5XuVgsFmKjg/lxQyKr4o6qKCUiIuJCJW50Pn36dGbPnn3a8dmzZ/PRRx+VSiiRUpOdCp/0cRakPHxgwEyXFqQAPl+5j583J+FlszJpQAw+nrotQESksrv66qvZvn07vXv3JjU1ldTUVPr06cOmTZv45JNPzI5X6bSNCgHU7FxERMTVSjxTasKECbz33nunHa9evTp33303gwcPLpVgIhctIwk+7QtJG8A7CG6bBVEdXRph1+FjPPPDJgAe6dqY5jWDXHp9ERFxXzVr1jytofm6deuYOnUq77//vkmpKqfYqJMr8DkcBlarFiIRERFxhRLPlIqPj6du3bqnHY+KiiI+Pr5UQolctJTdMO16Z0GqSjgMnefyglRegYNRs9aSk+/g8gbVGH7F6f/diIiIiPma1QzEx9NKWnY+u5OPmR1HRESk0ihxUap69eqsX7/+tOPr1q2jWjXdgy9uIHEDTO0KR/dCcDQMWwARLV0e4/VF29mwP42qfp68ekuM/uoqIiLipjxtVlrXrgrAqr26hU9ERMRVSlyUGjhwICNGjODXX3/Fbrdjt9v55ZdfGDlyJAMGDCiLjCLFF/cnTL8RMg9BeEsYthBCXD9DafmuI0xZsguAF/u0JCLIx+UZREREpPhio5238K1SXykRERGXKXFPqWeffZa9e/dy7bXX4uHhfLnD4WDQoEG88MILpR5QpNi2/QSzh0BBDtTpCAM/B9+qLo+RlpXPQ1+uxTCgf2wk3VrUcHkGERFxT3369Dnn86mpqa4JIqdpe0pfKREREXGNEhelvLy8+OKLL3juuedYu3Ytvr6+tGzZkqioqLLIJ1I8az+Db+8Hww6NusMt08HT1+UxDMPg8W82cCAth+hqfjzZo5nLM4iIiPsKCjr3ghdBQUEMGjTIRWnkVJfUcRal9iRncuRYLtWqeJucSEREpOIrcVHqhIYNG9KwYcPSzCJyYf58CxaOde63vg1ufhNsF/ytfVHmrtnPvPUHsVktTBrQBn9vc3KIiIh7mj59eqm+39KlS5k4cSKrV6/m4MGDfP311/Tq1avwecMweOqpp/jggw9ITU3l8ssv591339UY7gyq+nnRsHoVdhw6xuq4o1zfPMLsSCIiIhVeiXtK9e3bl5deeum04y+//DK33HJLqYQSKRbDgEVPnyxIdbgfer5tWkEq/kgWT323CYAHuzQkJrKqKTlERKTyyMzMpHXr1rz99ttnfP7ll19m8uTJTJkyhRUrVuDv70/Xrl3JyclxcdLy4URfKd3CJyIi4holLkotXbqUG2644bTj3bt3Z+nSpaUSSuS87AXw/QhY9rrzcZen4frnwFrib+lSUWB3MOqLfziWW8Cl0cHc06mBKTlERKRy6d69O8899xy9e/c+7TnDMJg0aRLjxo2jZ8+etGrVio8//pgDBw7wzTffuD5sOXDiFj4VpURERFyjxL/BHzt2DC8vr9OOe3p6kp6eXiqhRM4pPwdmD4Y1H4PF6rxd74oHwWIxLdLbv+5iTXwqAd4evN4/BpvVvCwiIiIAe/bsITExkS5duhQeCwoKon379ixfvvysr8vNzSU9Pb3IVlnERocAsH5/GrkFdpPTiIiIVHwlLkq1bNmSL7744rTjs2bNolkzNXWWMpaTDjP7wdYfwOYNt34Ml5jbEHZ13FEm/7IDgOd6t6B2sJ+peURERAASExMBCA8PL3I8PDy88LkzmTBhAkFBQYVbZGRkmeZ0J9HV/Kjm70VegYON+9PMjiMiIlLhlbj5zhNPPEGfPn3YtWsX11xzDQCLFy/ms88+46uvvir1gCKFjh2GmX3h4DrwCoCBn0Hdq8yNlFvAg1+sxe4w6BlTk54xtUzNIyIicrHGjBnD6NGjCx+np6dXmsKUxWKhbVQwCzcnsWrvUdpGhZgdSUREpEIrcVGqR48efPPNN7zwwgt89dVX+Pr60rp1a3755RdCQvSDW8rI0Tj4pDek7AK/ULhjDtSMMTsVT3+3ifiULGpV9eWZni3MjiMiIlIoIsK5elxSUhI1atQoPJ6UlERMTMxZX+ft7Y23t3dZx3NbJ4pS6islIiJS9i6oK/SNN97IH3/8QWZmJrt37+bWW2/l4YcfpnXr1qWdTwSSNsO0rs6CVFAdGLbALQpSP6w/wFerE7Ba4PX+MQT5epodSUREpFDdunWJiIhg8eLFhcfS09NZsWIFHTp0MDGZezt1BT7DMExOIyIiUrGVeKbUCUuXLmXq1KnMmTOHmjVr0qdPn7MuRyxywfathJm3QE4qhDWFO+dCYE2zU3EgNZvH524A4N5ODWhXV7MERUTE9Y4dO8bOnTsLH+/Zs4e1a9cSEhJCnTp1GDVqFM899xwNGzakbt26PPHEE9SsWZNevXqZF9rNtagVhJfNypHMPPYeyaJuqL/ZkURERCqsEhWlEhMTmTFjBlOnTiU9PZ1bb72V3NxcvvnmGzU5l9K3YxF8eSfkZ0HtdnDbF+BnfvHH7jAY/eVa0nMKaF07iJFdGpodSUREKqlVq1bRuXPnwscnekENHjyYGTNm8Oijj5KZmcndd99NamoqV1xxBfPnz8fHx8esyG7P28NGy9pBrI47yqq9KSpKiYiIlKFi377Xo0cPGjduzPr165k0aRIHDhzgzTffLMtsUpmtnw2f93cWpBpcB4O+cYuCFMAHv+/mr90p+HnZmDSgDZ62C7oLVkRE5KJ16tQJwzBO22bMmAE4G3c/88wzJCYmkpOTw6JFi2jUqJG5ocuB2CjnLXxr4tVXSkREpCwVe6bUTz/9xIgRI7jnnnto2FAzQ6QMrXgPfnrUud/yFuj1Ltjco1/Txv1pvLpwGwBP9Wimv56KiIhUQG2PF6VW7VVRSkREpCwVe4rHsmXLyMjIoG3btrRv35633nqL5OTksswmlY1hwC/PnyxItfsv9H7fbQpS2Xl2Rsz6h3y7QbfmEdwaWzmWxxYREalsThSldhw6RmpWnslpREREKq5iF6Uuu+wyPvjgAw4ePMh///tfZs2aRc2aNXE4HPz8889kZGSUZU6p6Bx2mPcQLH3Z+bjzWOj+Eljd59a45+ZtZvfhTMIDvZnQpyUWi8XsSCIiIlIGqlXxLpwN/U98qrlhREREKrAS/8bv7+/PsGHDWLZsGRs2bOChhx7ixRdfpHr16tx8881lkVEquoJcmDMcVk0FLHDjq3D1o+BGRZ9Fm5OYuSIegFdviSHY38vkRCIiIlKWCm/hi0sxOYmIiEjFdVHTUBo3bszLL79MQkICn3/+eWllksok9xh8dits+hqsntBvGlz6H7NTFXEoI4dH56wH4K4r63JFw1CTE4mIiEhZi1VfKRERkTJX7Ebn52Kz2ejVqxe9evUqjbeTyiLzCHx2C+xfDZ7+MOBTqH+N2amKMAyDR2avJyUzj6Y1Anm4a2OzI4mIiIgLnJgptS4hlXy7Q6vtioiIlAH9dBVzpCXA9G7OgpRvCAz+3u0KUgAf/bmXJdsP4+1h5Y0BMXh72MyOJCIiIi5QP6wKQb6e5OQ72Hwg3ew4IiIiFZKKUuJ6h7fD1K6QvB0Ca8Gw+VC7rdmpTrMtMYMXftoKwNgbm9IoPMDkRCIiIuIqVqvllL5SuoVPRESkLKgoJa6VsBqmdYX0BAhtBMMXQpj73RKXk29n5Kx/yCtw0LlxGHdeFmV2JBEREXGxE0Wp1Wp2LiIiUiZKpaeUSLHs+hVm3Q75mVDzErj9K/CvZnaqM5q4YBtbEzOo5u/Fy/1aY3GjlQBFRETENU4WpY5iGIbGAyIiIqVMM6XENTZ9DTNvcRak6nWCwd+5bUFq6fbDTF22B4CJt7QiLMDb5EQiIiJihta1q+JhtZCUnkvC0Wyz44iIiFQ4blGUevvtt4mOjsbHx4f27duzcuXKs547Y8YMLBZLkc3Hx8eFaaXE/p4Ks4eCIx+a9YLbvgRv9+zPlJKZx8Oz1wFw52VRXNMk3OREIiIiYhZfLxvNawUBztlSIiIiUrpML0p98cUXjB49mqeeeoo1a9bQunVrunbtyqFDh876msDAQA4ePFi4xcXFuTCxFJthwJKXYd5owIDYYdBvGni458wjwzD4vznrOZSRS4PqVXj8hqZmRxIRERGTxRY2O1dfKRERkdJmelHqtdde46677mLo0KE0a9aMKVOm4Ofnx7Rp0876GovFQkREROEWHq7ZLG7H4YD5j8GvzzsfX/Uo3PgaWG3m5jqHWX/v4+fNSXjaLLwxIAZfL/fNKiIiIq5xsq9UqrlBREREKiBTi1J5eXmsXr2aLl26FB6zWq106dKF5cuXn/V1x44dIyoqisjISHr27MmmTZtcEVeKy54PX/8XVkxxPu72ElwzFty4Oejuw8d45vvNADzStTHNawaZnEhERETcwYmZUtsS08nIyTc5jYiISMVialEqOTkZu91+2kyn8PBwEhMTz/iaxo0bM23aNL799ls+/fRTHA4HHTt2JCEh4Yzn5+bmkp6eXmSTMpSXCZ8PhA1fgtUD+nwAl/3P7FTnlFfgYOSstWTn2+lYvxr/uaKe2ZFERETETVQP9CEyxBeHAf/Ep5odR0REpEIx/fa9kurQoQODBg0iJiaGq6++mrlz5xIWFsZ77713xvMnTJhAUFBQ4RYZGenixJVIVgp83At2/gwevjBwFrS61exU5zVp0XY27E8jyNeTV29tjdXqvjO6RERExPXa1jnRV0rNzkVEREqTqUWp0NBQbDYbSUlJRY4nJSURERFRrPfw9PSkTZs27Ny584zPjxkzhrS0tMJt3759F51bziD9AEy/ARJWgk8QDPoWGl5ndqrzWrH7CO8u2QXAi31aUiPI1+REIiIi4m7aRocAsEZFKRERkVJlalHKy8uLtm3bsnjx4sJjDoeDxYsX06FDh2K9h91uZ8OGDdSoUeOMz3t7exMYGFhkk1J2ZBdM7QqHt0BADRg6H+q0NzvVeaVl5/PgF2sxDLg1tjbdW575e0hEREQqtxN9pf6JP0qB3WFyGhERkYrDw+wAo0ePZvDgwcTGxtKuXTsmTZpEZmYmQ4cOBWDQoEHUqlWLCRMmAPDMM89w2WWX0aBBA1JTU5k4cSJxcXH85z//MfNjVF4H1sKnfSErGULqwZ3fQHCU2anOyzAMxn69gQNpOURV8+OpHs3NjiQiIiJuqlF4AAHeHmTkFrA1MYMWtbQgioiISGkwvSjVv39/Dh8+zJNPPkliYiIxMTHMnz+/sPl5fHw8VuvJCV1Hjx7lrrvuIjExkeDgYNq2bcuff/5Js2bNzPoIldeepfD5bZCXARGt4I65UCXM7FTF8urC7fyw/iA2q4VJ/WPw9zb9PwURERFxUzarhZg6Vfl9RzJr4o+qKCUiIlJKLIZhGGaHcKX09HSCgoJIS0vTrXwXY8v38NUwsOdB9JUw4DPwKR9fz0+W7+WJbzcBzj5SA9rVMTmRiIiUB5V1DFFZP/e/vbFoB68v2s7NrWsyeWAbs+OIiIi4teKOH8rd6nviBtZ8DF8OchakmtwEt39VbgpS8zce5MnvnAWpB7s0UkFKREREiiU22tlXarWanYuIiJQaFaWk+AwDlr0O3z0AhgPa3Am3fASePmYnK5YVu48wYpazsflt7esw4toGZkcSERGRciImsipWC+xPzeZgWrbZcURERCoEFaWkeBwOWDgOFj3tfHz5KLj5TbCVj15M2xIz+M/Hq8grcHB9s3Ce7dkCi8VidiwREREpJ/y9PWhawzkzXLOlRERESoeKUnJ+9gL49j5Y/pbz8fXPwXXjoZwUdQ6kZjN42koycgqIjQpm8sA22KzlI7uIiIi4j9go5y18q/aqKCUiIlIaVJSS8/vjdVj3GVhs0Otd6PiA2YmKLTUrj0HTVpKYnkOD6lX4cHAsPp42s2OJiIhIOdQ2OgTQTCkREZHSoqKUnFvyTlgy0bl/82SIuc3cPCWQk2/nPx+tYuehY0QE+vDRsHZU9fMyO5aIiIiUU22Pz5TafDCdzNwCk9OIiIiUfypKydkZBvwwCuy5UP9aiLnd7ETFZncYjPj8H1bFHSXAx4OPhrWjVlVfs2OJiIhIOVarqi81gnywOwzWJaSaHUdERKTcU1FKzm7tTNj7O3j4wk2vlZseUoZh8MS3G1m4OQkvDysfDIqlcUSA2bFERESkAjgxW2q1+kqJiIhcNBWl5MyOHYYFY537nR+H4GhT45TEm7/s5LMV8Vgs8Eb/GC6rV83sSCIiIlJBFDY7V18pERGRi6ailJzZ/McgJxUiWsJl95qdpthmrYzntZ+3AzD+5uZ0b1nD5EQiIiJSkbSNcjY7XxN/FIfDMDmNiIhI+aailJxux8+w8SuwWOHmN8HmYXaiYlm0OYnHv94AwH2d6zOoQ7S5gUREROT8UuOdfSzLiaY1AvDzspGRU8COQ8fMjiMiIlKuqSglReVlwg+jnfuX3Qs125ibp5jWxB/l/s/X4DCgX9vaPHx9Y7MjiYiIyPls+R7ebg9/vWN2kmLzsFmJiawKwKq4FHPDiIiIlHMqSklRv74AafEQVAc6jTE7TbHsPHSMYTP+JiffQafGYUzo0xJLOWnKLiIiUqmlJUB+FiwcBzsXmZ2m2GLV7FxERKRUqCglJx1Ye/IvlTe+Ct5VTI1THEnpOQyetpLUrHxa1w7indsvwdOmb2sREZFyof3/oM0dYDhg9jBI3mF2omK55ERRKl5FKRERkYuh397FyV4A349wDgpb9IVG15ud6LzSc/IZPG0l+1OzqRvqz7Qhl+LnVT76X4mIiAhgscCNr0HkZZCbBp8PgGz3L/RcEhWMxQJxR7I4nJFrdhwREZFyS0UpcVrxLhxcBz5B0O1Fs9OcV26Bnf9+vJqtiRmEBXjz8bB2VKvibXYsERERKSkPb+j/KQTWhiM74athzj+WubFAH08ahwcAsFp9pURERC6YilICR/c6e0kBXP8cVKluapzzcTgMRn+5juW7j1DF24PpQy4lMsTP7FgiIiJyoaqEwcDPwdMPdv0CPz9pdqLzOnEL3yr1lRIREblgKkpVdoYB8x5yNhmNvhLa3Gl2onMyDINn521m3vqDeNosTLmjLS1qBZkdS0RERC5WjVbQe4pz/6+3Yc0n5uY5j1j1lRIREbloKkpVdhvnOFe7sXnDTZOcvR3c2PtLdzP9j70AvHJLa65oGGpuIBERESk9zXqeXP33hwch/i9z85xDbFQIABv3p5GTbzc5jYiISPmkolRllpUCP/2fc/+qRyC0gbl5zmPumgQm/LQVgHE3NqVnTC2TE4mIiEipu+pRZ3HKkQ9f3AGp+8xOdEaRIb6EBXiTbzdYn5BmdhwREZFySUWpymzhE5CVDGFN4PKRZqc5pyXbD/PoV+sBuOvKuvznynomJxIREZEyYbVCr3choiVkHoZZAyEv0+xUp7FYLLStc/wWvjjdwiciInIhVJSqrHYvgbWfAhboMRk8vMxOdFbrE1K559PVFDgMesbUZEz3pmZHEhERkbLk5Q8DPgf/MEjcAN/cAw6H2alOExt9oiilFfhEREQuhIpSlVF+Nvwwyrl/6XCo097UOOeyNzmTodP/JivPzhUNQpnYrzVWq3v3vRIREZFSUDUS+n8KVk/Y/C0snWh2otO0jTo5U8owDJPTiIiIlD8qSlVGS1+BlN0QUAOudd8ll5OP5TJ4+kqOZObRvGYg795xCV4e+pYVERGpNOpcBje97tz/7QVnccqNNK8ZhLeHlaNZ+ew67H63GIqIiLg7/YZf2SRthj8mOfdvmAg+QabGOZvM3AKGTv+buCNZRIb4Mn3opQT4eJodS0RERFztkjvhsnud+1//Dw6uNzfPKbw8rLSuXRWANeorJSIiUmIqSlUmDgd8PwIcBdDkJmjaw+xEZ5RX4OB/n65mw/40Qvy9+HhYe6oH+JgdS0RERMxy3bNQ/xrIz4JZt8Gxw2YnKtT2eF+pVeorJSIiUmIqSlUmq6ZCwt/gFQDdXzY7zRkZhsFjc9bz+45kfD1tTBtyKXVD/c2OJSIiImayeUC/aVCtAaTtgy/vhII8s1MBEBt1oiilmVIiIiIlpaJUZZG2HxaNd+53eQqCapmb5yxemr+Nuf/sx2a18M4dlxATWdXsSCIiIuIOfINh4CzwDoL45TBvNLhBc/FL6jiLUrsPZ5KS6R6FMhERkfJCRanK4qdHIS8DareD2OFmpzmjacv2MGXJLgBe7NOSzo2rm5xIRESkfHv66aexWCxFtiZNmpgd68KFNoRbpoHFCv98AiummJ2IYH8v6oc5Z3Wrr5SIiEjJqChVGWz5Hrb+AFYP6PEGWN3vX/sP6w/w7LzNADzStTG3xEaanEhERKRiaN68OQcPHizcli1bZnaki9Ogi7PHFMCCx2HnYnPzALFRIYBu4RMRESkp96tOSOnKSYMfH3HuXz4KwpuZGudM/tyVzOgv1mEYMLhDFPd2qm92JBERkQrDw8ODiIiIwi00NNTsSBevw30QczsYDvhqKCTvNDXOiWbnq9XsXEREpERUlKroFo2HjIMQUh+uesTsNKfZfCCd/368mjy7gxtaRvBkj+ZYLBazY4mIiFQYO3bsoGbNmtSrV4/bb7+d+Ph4syNdPIsFbnrd2ZYgJw0+HwDZqabFaXu82fm6hDTyChym5RARESlvVJSqyOL/cq64B9BjEnj6mBrn3/alZDFk+koycgtoVzeE126NwWZVQUpERKS0tG/fnhkzZjB//nzeffdd9uzZw5VXXklGRsZZX5Obm0t6enqRzS15eEP/TyGwFhzZAXOGg8NuSpR6of6E+HuRV+Bg44E0UzKIiIiURypKVVQFefD9SOd+mzug7lXm5vmXo5l5DJ6+kkMZuTQOD+CDQbH4eNrMjiUiIlKhdO/enVtuuYVWrVrRtWtXfvzxR1JTU/nyyy/P+poJEyYQFBRUuEVGunGfx4BwGPg5ePjCzkXw85OmxLBYLIWr8K3eq75SIiIixaWiVEX1xxtweCv4hZ5sBuomsvPsDPvob3YfzqRmkA8fDWtHkK+n2bFEREQqvKpVq9KoUSN27jx7D6YxY8aQlpZWuO3bt8+FCS9AjdbQ+13n/vK3YO1npsQ4cQvfKvWVEhERKTYVpSqi5B2w9GXnfveXwC/E3DynKLA7uP+zNfwTn0qQrycfDWtHRJB73VYoIiJSUR07doxdu3ZRo0aNs57j7e1NYGBgkc3tNe8NVz3q3P9+JOxb6fIIsYXNzlMxDMPl1xcRESmPVJSqaAwDvh8F9jznkskt+pqdqJBhGIz7ZiOLtx7C28PK1MGxNAwPMDuWiIhIhfXwww+zZMkS9u7dy59//knv3r2x2WwMHDjQ7Gilr9MYaHKTcww063ZIS3Dp5VvWCsLLZiX5WC7xKVkuvbaIiEh5paJURfPPJxC3DDz94MZXnavTuInXF+1g1t/7sFrgzYFtiI12nxlcIiIiFVFCQgIDBw6kcePG3HrrrVSrVo2//vqLsLAws6OVPqsVer8H4S0g8xDMug3yXFcc8vG00aKWc1bZKvWVEhERKRYVpSqSY4dg4TjnfufHITja1DinmrkijsmLdwDwbK8WXN88wuREIiIiFd+sWbM4cOAAubm5JCQkMGvWLOrXr292rLLjXQUGfAZ+1eDgOvj2Xucschc50VdqdbyKUiIiIsWholRFMv8xyElzNvxsf4/ZaQot2JTIE99sBGDktQ25vX2UyYlERESkwgqOgv6fgtUTNn0NS19x2aXbRjlngWsFPhERkeJRUaqi2L4QNs4BixV6TAabh9mJAPh7bwojPv8HhwED20UyqktDsyOJiIhIRRfV0dnGAODX52DL9y657ImZUtsPZZCWne+Sa4qIiJRnblGUevvtt4mOjsbHx4f27duzcmXxVkyZNWsWFouFXr16lW1Ad5d7DOY95Ny/7F6oGWNqnBN2JGUwfMbf5BY46NK0Os/2bIHFjXpciYiISAXWdjC0+69zf+5/IXFjmV8yLMCb6Gp+GAas0S18IiIi52V6UeqLL75g9OjRPPXUU6xZs4bWrVvTtWtXDh06dM7X7d27l4cffpgrr7zSRUnd2K8vQFo8BNVx9pJyAwfTshk8bSXpOQVcUqcqbw68BA+b6d9uIiIiUpl0fQHqdYL8TPh8IGQml/klLzk+W2pNnIpSIiIi52N6leC1117jrrvuYujQoTRr1owpU6bg5+fHtGnTzvoau93O7bffzvjx46lXr54L07qh/WtgxbvO/ZteBy9/c/MAaVn5DJn2NwfScqgf5s/UwZfi62UzO5aIiIhUNjYP6DcdQuo5/4D3xZ1QkFeml4w93ldKK/CJiIicn6lFqby8PFavXk2XLl0Kj1mtVrp06cLy5cvP+rpnnnmG6tWrM3z48PNeIzc3l/T09CJbhWEvgO9HgOGAlrdAwy7nf00Zy8m3c9cnq9iWlEH1AG8+GtaOYH8vs2OJiIhIZeUXAgNngXcgxP8JPz5cpivyxUYfX4Ev7igzV8ThcLhu9T8REZHyxtSiVHJyMna7nfDw8CLHw8PDSUxMPONrli1bxtSpU/nggw+KdY0JEyYQFBRUuEVGRl50brfx1zuQuAF8qkLXCWanwe4wePCLtazck0KAtwcfDWtH7WA/s2OJiIhIZRfWGPpOBSyw5iNYWbxx5IVoEFaFzo3DyLM7GPv1Rm778C/ijmSW2fVERETKM9Nv3yuJjIwM7rzzTj744ANCQ0OL9ZoxY8aQlpZWuO3bt6+MU7rI0b3OXlIAXZ+HKmGmxjEMg/Hfb+KnjYl42ay8PyiWpjUCTc0kIiIiUqjR9XDdM879+Y/B7t/K5DJWq4UPB1/KEzc1w9fTxl+7U+g6aSkf/r4bu2ZNiYiIFOFh5sVDQ0Ox2WwkJSUVOZ6UlERERMRp5+/atYu9e/fSo0ePwmMOhwMADw8Ptm3bRv369Yu8xtvbG29v7zJIbyLDgB9GQ0E2RF8JMbebnYh3ftvFx8vjsFjg9f4xdKhfzexIIiIiIkV1fACSNsH6WfDlYLjrF6hW//yvKyGb1cLwK+pyXdNwHpu7nj93HeG5eVv4Yf1BXu7XikbhAaV+TRERkfLI1JlSXl5etG3blsWLFxceczgcLF68mA4dOpx2fpMmTdiwYQNr164t3G6++WY6d+7M2rVrK9ateeeyYTbsWgw2b7hpElgspsaZvWofExdsA+Cpm5pxY6sapuYREREROSOLBXq8AbUvhZxU54p8OWlldrk61fyY+Z/2TOjTkgBvD9buS+XGyb8zefEO8u2OMruuiIhIeWH67XujR4/mgw8+4KOPPmLLli3cc889ZGZmMnToUAAGDRrEmDFjAPDx8aFFixZFtqpVqxIQEECLFi3w8qoEDbWzUpxTzgGufgRCG5ga59eth3hs7gYA7ulUnyGX1zU1j4iIiMg5efpA/08hoCYkb4M5/wGHvcwuZ7FYGNiuDgtHX8W1TaqTbzd47eft9HhzGRsSyq4gJiIiUh6YXpTq378/r7zyCk8++SQxMTGsXbuW+fPnFzY/j4+P5+DBgyandCMLx0HWEajeDDqONDXK2n2p3DtzDXaHQZ9LavFo18am5hEREREploAIGDATPHxgx0JY9HSZX7JGkC8fDo7ljQExBPt5sjUxg17v/MGLP20lJ7/simIiIiLuzGIYZbgmrhtKT08nKCiItLQ0AgPLWSPu3Uvg45sBCwxfCJHtzIty+Bj9piwnJTOPqxqFMXVwLJ4202ucIiIiZaZcjyEuQoX+3BvnwFfDnPu934PWA1xy2eRjuTz93SZ+WO/8w2u9UH9e6teKS6NDXHJ9ERGRslbc8YOqCOVFfjb8MMq5f+l/TC1IHcrIYdC0laRk5tGqdhDv3n6JClIiIiJS/rToC1c+7Nz/bgQkrHLJZUOrePPWbZfw3p1tqR7gze7kTG59bzlPfbuRzNwCl2QQERFxB6oklBdLXoaU3c7+B9c+aVqMjJx8hkz7m4Sj2URX82PakEvx9zZ1EUcRERGRC9d5LDS+Eey5MOs2SNvvskt3bR7Bzw9eza2xtTEM+Gh5HF0nLeX3HYddlkFERMRMKkqVB4kb4c/Jzv0bJoKPOVPn8woc/O/T1Ww+mE5oFS8+GtaO0CrepmQRERERKRVWK/R5z9mv81iSszCVn+2yywf5efJyv9Z8PKwdtar6knA0mzunruTRr9aRlp3vshwiIiJmUFHK3Tns8P1IcBRA0x7Q9CZzYjgMHp69jj92HsHfy8b0Ie2IquZvShYRERGRUuUdAAM/B79qcHAtfHsfuLjt6lWNwlj44FUM6RiNxQJfrkrguteWsHBToktziIiIuJKKUu7u76mwfxV4B0L3l02J4HAYPP/jFr5bdwAPq4Upd7alZe0gU7KIiIiIlIngaLj1Y7B6OBug//6qyyP4e3vw9M3N+fK/HagX6s+hjFzu/mQ193+2hiPHcl2eR0REpKypKOXO0hJg8XjnfpenILCmSy+/NTGdl+Zv5cqXf2Xqsj0ATLylFVc2DHNpDhERERGXiL7C2SoB4JdnYes8U2JcGh3CjyOv5H9X18dmtfDD+oN0eW0J367dTyVbOFtERCo4dah2V4YBPz4Ceccgsj20HeaSyyYczeK7dQf4bu0BtiZmFB7397LxWPcm9G5T2yU5REREREwROwySNsPfH8Dcu2H4Qghv7vIYPp7OsdeNLWvwyFfr2JqYwchZa/lu7QGe792SiCAfl2cSEREpbRajkv25JT09naCgINLS0ggMNKdheLFs/ha+HARWT/jf71C9aZldKiUzj3nrD/Dt2gOsijtaeNzLZqVT4zB6xtTi2qbV8fG0lVkGERERd1duxhClrFJ+bns+fNoH9iyFqnXgrt/Av5ppcfIKHExZsos3f9lBvt0gwNuDx29syoBLI7FYLKblEhEROZvijh80U8odZafCj486968YVSYFqczcAn7enMS3a/fz+45kChzO2qTFApfVrUbPmJp0b1GDID/PUr+2iIiIiFuzecItH8EH18DRPc4/FN75NXh4mRLHy8PKiGsb0q1FBI98tZ51+1IZM3cD3687wIt9WlGnmp8puURERC6WZkq5ox/+v707j4+qvv89/j5zZskkBAhgQgJWNgsIQtRAirQWlRZEERXXSyvSq14rqDS3C9Qi2lZxqUoVxGrVx73udUFwr6ZWhaqgGBZF0LohGBJAQhJgMjPn/P44k2SysiVzZsjr+Xicx5z5nmU+kxMefPjwOd/zK+n9B6XuA6Qrlku+tmnProlYevvTci0p2aLXPt6qPeFo3bahvTrrrPxeOmNYHu3gAAA0IyVyiHbQUb+3JKnsE+nvY6WaSue2vjPudDsiRS1bDy3/Qn/55wbtDVsK+kz9ZtxATT2xj0wPXVMAgORAp1Sq+uodpyAlSRP/esgFKcuytfLLHVqyeoteWvutdu4O1207qnu6JuX30pnD8zQgu9MhfQ4AAMBhJ3uQNPnv0uMXOvlZ9jHSyMtcDcn0GLr0R/00dnCOZj27Ru9+vkN/fOFjvbBmi249d5gGZGe6Gh8AAAeColQyiYSk569x1o/7ufMEmINg27bWf1upJas36/mSLdpSsbduW49OAU0cnquz8ntpWO8uzEMAAADQmoHjnacgv3699PLvpB7fl/r92O2o1KdHhh679Ad6fOXXmvfSJ1r19U5N+OsyXTP2aF1+Uj/5TB6yDQBIfhSlksmy+dK2DVLGEdJP/njAh2/a4Tw577kPN+vTsqq68cyAV+OH9tSk/F4a1b87rd0AAAAHYvRMqWy9tOZJ6amp0mX/krr1czsqeTyGphQepZMHZuvaxWv1xoZy3fbqBr245lvdeu4wDe3Vxe0QAQBoFUWpZFG+UXr7L876+Jul9G77ddi2qpBeXPOtlpRs1qqvd9aN+02PThmUrUn5eTp5EE/OAwAAOGiGIU28S9r+mbT5A+nxi6T//ZqUlhxzbOV1DerBS0Zo8Yeb9ccXPtbH3+7SpIXLdcWP++mqU44mDwQAJC2KUsnAspzb9qI10tE/lYZObnX3qlBE//yoVEtKtmjZZ9sUjT05z2NIJ/bvoTPz8zRuSE91CfLkPAAAgDbhS5MueFS6/2Sp/BPp2cukCx+TPMlR8DEMQ+cc31s/OvoIzV26Ti+tLdXCN/6rV9aV6tZzh+uEo7LcDhEAgCYoSiWDDx+Wvv6P5EuXTr/d+d+4Rmoilv69oUxLVm/R6x9vVShi1W0b3ruLzszvpYnDcpXdmSfnAQAAtIvOudKFj0oPTZA2viL960/S2OvdjqqBIzIDumfKCXpl3bf6w3Mf6b/l1Tr33v/okhP76DfjBirdT/oPAEge/K3ktsqt0mtznPVT/iB1/V7dJsuy9d4XO7R09Wa9tLZUFXvqn5zXr0eG8+S8/Dz17ZGR6KgBAAA6pl4nSGcukJ69VFp2p/NEvmHnux1VE+OH5uoH/brrTy+s1zOrvtFDy7/U6+u36uZzhmn0gB5uhwcAgCSKUu57ZZa0t0LKzZdG/h/Ztq2PtuzSkpLNen71tyrdVf/kvOzMgM4cnqdJ+b00tFdnnpwHAADghmHnSWUfOUWpJTOkbv2l3ie4HVUTXdP9uv384Zo4PFfXLl6nTTv2aMrf39NFI4/U7AmD1TmNqR4AAO4ybNu23Q4ikXbt2qUuXbqooqJCnTu7PDnlxlelx86XDFNbzn9JT2/priUlm/Xf8uq6XTLTvJowNFeTjstTYV+enAcAgFuSKodIoI76vffJsqQn/pe08WWpU0/p8jekznluR9WiqlBEt7z8iR5+9ytJUs/Oabrx7KE6dXCOy5EBAA5H+5s/UJRyS6hK0QUjZVZu1uLgZP3qu/rJzQNej8YOztGZ+XkaM/AIBbzJMYEmAAAdWdLkEAnWUb/3ftm7S3rgp1L5einveGnaS5Iv6HZUrXrv8+363TNr9OX23ZKkSfl5mjtxiLpl+F2ODABwOKEo1QK3E6tde8N6dV2pMv89R+OrFutr6wiNq7lFISNNowf00KT8Xho3JEeZtFMDAJBU3M4h3NJRv/d+2/GF80S+Pd9Jx54nnXN/sw+tSSZ7w1Hd+dpG3f/257JsqXuGX9efOURnDMtleggAQJvY3/yBOaUSYG84qn9vKNfS1Zv1+voyDYp+qsX+5yRDejDrav1u5PE6fViejsgMuB0qAAAADkS3vtL5/196+Gxp7VPOxOc/KnI7qlal+UzNnjBYE47N1W+fXqMNWyt11eMfaunqLfrzWUOVw9OcAQAJQqdUO4latt77fLueK9msl9eVqnJvRJLkVUSvpM/VAOsLVQ08R50ueqjdYgAAAG2no3YMddTvfcBW/l168f9KMqSLHpcGnuZ2RPulJmLpnn9/poVvfKZw1FZmmldzTj9G5xX0pmsKAHDQ6JRygW3bWru5QktKtuj51VtUVhmq29azc5rOzM/TL7REPVd8IQWz1GnirS5GCwAAgDYz4lJp60fS+w9Kz1wqXfq6lD3Y7aj2ye/1aObY72v80J767dNrtOabCv32mTV6fs0W3XT2sTqyW7rbIQIADmN0SrUh27Z1yu1v6ottztPzugR9mnBsribl52lkn27y7PxCuudEKbJHmnSPdNyUNv18AADQfjpqx1BH/d4HJRp2buP78m3nfXp358l8mXFLp55SZo6UmSt1ynHGvMkxhUMkaunB5V/o9n9uVChiKd1v6rfjBuriUX3k4QnQAIADwETnLWjvxGrRv/+rj7ZUaFJ+L/34+0fI7/U4G2zbSVI+f0Pqe5J08dKknwQTAADU66jFmY76vQ9a9XbpkbOlb1fv/zHBrOaLVfFFrE49JX9iupa+2Fat3z29Riu+3CFJGtEnSzdPHqb+R3RKyOcDAFIfRakWuJZYrX5SWny55E2TfvkfqXv/xH02AAA4ZB21ONNRv/chsW1p9w6p8lupqlSqjC1VW52xyq3149Ga/T9voEuscNVCx1XteuDQi0eWZevR977SzS9/ouqaqPxej6aPGaD873VVVrpPWel+dU33qVPAy9xTAIAmmFMqmVRvl16d7az/+LcUpAAAAA5nhiFldHcWDW15P9uW9nzXfLGqcRErskcKVTjLto2tf76/UyuFq7jxQOcWO/c9HkM/H9VHJw/K1u8Xr9NbG8t15+tNP9dnGuoS9DcoVGWl+9U1w3nNSvepa7q/wXrXdJ98pucAfqAAgMMVRalE+OcfpN3bnUcEn3i129EAAAAgGRiGlN7NWVqbFN22pdCu1juuapdwtVRTJW3/zFla40tvvlgVV8TqndlT/++SAi0u2aJnVn2j7VU12rk7rO921ygUsRSO2tpWFdK2qlDrn9VIZsBbV7jqmt5MUSu9tqgVW8/wK8Nv0pUFAIcZilLt7b9vSKsfk2RIE++STJ/bEQEAACCVGIaU1sVZjhjY+r6hymY6rhp3X5U6Ra7wbum7L5yltY83AzonM0fndMqRuneW8jKlQKYivk7aYwRVbaSryg6qwk7TzmiavgsHtC0cUHmNT1tDPn2716fteyx9tzusij1hSVJlKKLKUESbduzZ7x+D3/SoS7ovrvuqhaJWRn1nVpegT166sgAgaVGUak81u6UXZjrrIy+TjhzhajgAAAA4zAWcgpF6DGh9v5rdLd8qWPltffFq704pGpJ2fu0scbySMmPLPnmDUnon2VmZivo6KezNUMiToT1GuqqNoKrsoHbZQe2MpmlHJKDtYZ/KawIqjRW1dkQCqo4GVV4ZUHnlgXVldU7zKiuj+Y6srHSf0nymAj5TftOjgNdZ/HFLwGs666ZHAZ+nbj+6tgDg0FGUak9v3Sp996XUuZd06nVuRwMAAAA4/OlSt37O0prwnliBaqtUXSaFqpxurNCu2GtsqWluvMqZC0tyXiN7ZFSXyyvnHyFBSV33J9baAyTZhkdRb4bC3k4KmenaY2So2khzilpWUDujAW2PpGl7xKft4YCq7KAqa4KqCgVVtSNdn8nZt0pBRQ7xn0I+02i2YOVvUNgy67YFmmzzyG+azR4XaKUgFj8eiG3zeCiQAUhNFKXaS+k6afldzvqEvzj/YwUAAACkEl9QyurjLAcjGm5YvKorYDUqaoWaG2u0r23JsC15w5Xyhiv3XdTax6wZYcOvPUa6woZPYXkVkVdhmQrLqxrbVNg2FbK9sVdTIdtTt1+NbTr7R70KR51jIrbzWnuOiEzVyKuw7axXy6sK1e7jnDdSu664Y2P7Nz6X1HLhyWcaDQpWPq8hr8cj02PI6zHkNQ2ZHo+8HiNurOH7lsc98pkN33vj3ns9hkxz3+f2mZ5Gn+WJjce9N+P2b/Te6zHoTgMOQxSl2oMVlZ6/WrKj0uAzpUET3I4IAAAASDzTVz+Z+6GwbWcOrFYLWJVNx5pbYt1bPrtGPrtm359tqLV6UMLEF63qilW2U/iqLWJFIqZqIt7YPl7VxBan0OZTWKZq5Isbq93PV7+v7dXeuGNr5FPYjjtPM2MhOYU9S+07f1dtd1jAazqvPo/SvE63We14mq/h9iZjXk/sls34sbh9fHH7xH0W3WhA+6Ao1R5W3C9t/sB5zO5pt7odDQAAAJDaDEPyZzjLod6AEI00LGBFQk5HlxWWojXO9mhN7H3tUiNZsfHasbr9G78/0OOb2d8KNwnbp4h8ikhG3JxaSVYnseRR2PA5HWC1r7GCVW3xK75YFooVxUKxrrTapcb2KqSGxbWwvIraHllhj6ywIVuGLNuQJU9sMWKLRyEZ2hN7H5VHdqPttgznXIqdJ267LY+iDd47202PKa/XK6/XlM/rlc805fV55fOa8pmmfD6f/F6v/LEx59WrgM8nv88ZD/jMJsUun9fpKvPKks+IymdYMhWRz4jKa0flU1ROT11sXFF57Ii8tjNuKirDisT9TkWc17qxxtsi9b9r8dusSP2x0UbHNzhH47Fmzm9bTkHa9Eken2T6JdPrvHp89dtMf9w+cWNN3nvr9231nPuzT0ufYSboD4nlNK9YUefnFL/eZKx2vJVj6o5rvN2KOz5+u930/MddLHnceyAERam2tnOTVPxHZ33s9VLnXFfDAQAAABDH9ErBLGdJVra97yLWPgtlsX0isddoqH68thBXOxYJxR3X0lj8ueKWOB5ZCtghBRSS7AP8zknSkbZP0dhysIc3KqR5ZDmFJuNAf2BJLrL/T9ZMBrYMWR6fLMMry+NT1PDJ8nhl1b16nRKlbcmwnbKlbEse2yl9GrHbiw07Vs6048eidePJyB5+kQxPwLXPpyjVlmxbeunXUrhaOvIH0gnT3I4IAAAAQKoxjPoujmRm2w0LYA0KXjXNFLhq6gtdjccaHNd4LLavbdd3hzToEql933h7tNF7u5ljGh9bv82OdanYTc5l181xJtvpp9pfpmHL3M/KVlimIrbTD1W71I6F5VVUnrq50Or2seP2q7u101RUZmweM7Puds+oPLHzeeOOafR5sW1NY/AqIk9srD6GsEzZMuRTVF5F5Y9F4Yt1fzn9c86rv3bdcDrAarc1Px47R2y8wX6KyG/Ur8efq7lz+xRpUgQ0ZMu0amSq5pCKjofKso1Yp56nrtPPatC956xH4zr+WtqnyTnsuOPi9hkTteV3sTJEUaotRcNSRg+n/W/iX11tgQMAAKi1cOFC3XbbbSotLdXw4cN19913a+TIkW6HBSDVGYbk9TvLYcho9Nqi5opl+1Mws6LObWO1t5J5vLFb1Zx1n2E0mK/ftm1ZthSOWopatiKWrUhsPWzZikZtRSwrNm7HxmPbGxxjKxq3X+15Ipbd4r7h2LZIg8+oP6ZuPGorattNfmaNJ6mPxJb67S399Jvf3vT8TS+L0co5DNspmnntWDktdkuk147ItOPKc3YkNhaJ3cppKGJ7mhZ+bI+ihqfuttDaoo/zXorKVNSOKwbZHue94bxGYgUjyWkytGzb+ZWxnXXn+ku2nN8B27Zl147Frdcep/hzyI5tc85et1/smPdd/vNLUaotef3SpIXSj2dJXY90OxoAAAA9+eSTKioq0r333qvCwkLNnz9f48aN04YNG5Sdne12eACQ+gxDMkxJ7TsvkWEYMg3JTNT8R0AC0MrTHihIAQCAJHHHHXfosssu07Rp03TMMcfo3nvvVXp6uh588EG3QwMAAB1cUhSlFi5cqD59+igtLU2FhYVasWJFi/s+++yzKigoUNeuXZWRkaH8/Hw9/PDDCYwWAAAgNdTU1OiDDz7Q2LFj68Y8Ho/Gjh2rd955x8XIAAAAkqAoVdtSPnfuXK1atUrDhw/XuHHjVFZW1uz+3bp107XXXqt33nlHa9as0bRp0zRt2jS9+uqrCY4cAAAguW3btk3RaFQ5OTkNxnNyclRaWtrsMaFQSLt27WqwAAAAtAfXi1IH2lI+ZswYnX322Ro8eLD69++va665RsOGDdOyZcsSHDkAAMDhZ968eerSpUvdcuSRTEsAAADah6tFqUNtKbdtW8XFxdqwYYNOOumk9gwVAAAg5fTo0UOmaWrr1q0Nxrdu3aqePXs2e8zs2bNVUVFRt2zatCkRoQIAgA7I1aLUwbSUS1JFRYU6deokv9+v008/XXfffbd+8pOfNLsvLegAAKCj8vv9OuGEE1RcXFw3ZlmWiouLNWrUqGaPCQQC6ty5c4MFAACgPXjdDuBgZGZmqqSkRFVVVSouLlZRUZH69eunMWPGNNl33rx5uuGGGxIfJAAAQBIoKirS1KlTVVBQoJEjR2r+/Pmqrq7WtGnT3A4NAAB0cK4WpQ6mpVxybvEbMGCAJCk/P1/r16/XvHnzmi1KzZ49W0VFRXXvd+3axdwIAACgw7jgggtUXl6u6667TqWlpcrPz9crr7zSpFMdAAAg0Vy9fe9gWsqbY1mWQqFQs9toQQcAAB3djBkz9NVXXykUCum9995TYWGh2yEBAAC4f/vevlrKL774YvXq1Uvz5s2T5NyOV1BQoP79+ysUCumll17Sww8/rEWLFrn5NQAAAAAAAHAAXC9K7aul/Ouvv5bHU9/QVV1drSuvvFLffPONgsGgBg0apEceeUQXXHCBW18BAAAAAAAAB8iwbdt2O4hEqqioUNeuXbVp0yZu5QMAAPutdl7KnTt3qkuXLm6HkzDkTgAA4EDtb97keqdUolVWVkoSk50DAICDUllZ2aGKUuROAADgYO0rb+pwnVKWZWnLli3KzMyUYRhtfv7aaiD/m5j8uFapg2uVOrhWqYHrdHBs21ZlZaXy8vIaTC1wuCN3gsR1SiVcq9TBtUodXKsDt795U4frlPJ4POrdu3e7fw5P+ksdXKvUwbVKHVyr1MB1OnAdqUOqFrkT4nGdUgfXKnVwrVIH1+rA7E/e1HH+mw8AAAAAAABJg6IUAAAAAAAAEo6iVBsLBAKaO3euAoGA26FgH7hWqYNrlTq4VqmB64Rkwu9jauA6pQ6uVergWqUOrlX76XATnQMAAAAAAMB9dEoBAAAAAAAg4ShKAQAAAAAAIOEoSgEAAAAAACDhKEq1sYULF6pPnz5KS0tTYWGhVqxY4XZIaGTevHkaMWKEMjMzlZ2drbPOOksbNmxwOyzsw8033yzDMDRz5ky3Q0EzNm/erJ/97Gfq3r27gsGgjj32WL3//vtuh4VGotGo5syZo759+yoYDKp///7605/+JKaXhFvIm5IfeVNqIm9KbuRNqYG8KTEoSrWhJ598UkVFRZo7d65WrVql4cOHa9y4cSorK3M7NMR58803NX36dL377rt67bXXFA6H9dOf/lTV1dVuh4YWrFy5Un/72980bNgwt0NBM7777juNHj1aPp9PL7/8sj7++GPdfvvtysrKcjs0NHLLLbdo0aJFWrBggdavX69bbrlFt956q+6++263Q0MHRN6UGsibUg95U3Ijb0od5E2JwdP32lBhYaFGjBihBQsWSJIsy9KRRx6pq666SrNmzXI5OrSkvLxc2dnZevPNN3XSSSe5HQ4aqaqq0vHHH6977rlHf/7zn5Wfn6/58+e7HRbizJo1S8uXL9fbb7/tdijYhzPOOEM5OTl64IEH6sYmT56sYDCoRx55xMXI0BGRN6Um8qbkRt6U/MibUgd5U2LQKdVGampq9MEHH2js2LF1Yx6PR2PHjtU777zjYmTYl4qKCklSt27dXI4EzZk+fbpOP/30Bn+2kFyWLl2qgoICnXfeecrOztZxxx2n+++/3+2w0IwTTzxRxcXF2rhxoyRp9erVWrZsmU477TSXI0NHQ96Uusibkht5U/Ijb0od5E2J4XU7gMPFtm3bFI1GlZOT02A8JydHn3zyiUtRYV8sy9LMmTM1evRoDR061O1w0MgTTzyhVatWaeXKlW6HglZ8/vnnWrRokYqKivT73/9eK1eu1NVXXy2/36+pU6e6HR7izJo1S7t27dKgQYNkmqai0ahuvPFGTZkyxe3Q0MGQN6Um8qbkRt6UGsibUgd5U2JQlEKHNn36dK1bt07Lli1zOxQ0smnTJl1zzTV67bXXlJaW5nY4aIVlWSooKNBNN90kSTruuOO0bt063XvvvSRXSeYf//iHHn30UT322GMaMmSISkpKNHPmTOXl5XGtAOwTeVPyIm9KHeRNqYO8KTEoSrWRHj16yDRNbd26tcH41q1b1bNnT5eiQmtmzJihF154QW+99ZZ69+7tdjho5IMPPlBZWZmOP/74urFoNKq33npLCxYsUCgUkmmaLkaIWrm5uTrmmGMajA0ePFjPPPOMSxGhJb/5zW80a9YsXXjhhZKkY489Vl999ZXmzZtHcoWEIm9KPeRNyY28KXWQN6UO8qbEYE6pNuL3+3XCCSeouLi4bsyyLBUXF2vUqFEuRobGbNvWjBkztHjxYv3rX/9S37593Q4JzTj11FO1du1alZSU1C0FBQWaMmWKSkpKSKySyOjRo5s8Hnzjxo066qijXIoILdm9e7c8noZ/9ZumKcuyXIoIHRV5U+ogb0oN5E2pg7wpdZA3JQadUm2oqKhIU6dOVUFBgUaOHKn58+erurpa06ZNczs0xJk+fboee+wxLVmyRJmZmSotLZUkdenSRcFg0OXoUCszM7PJfBUZGRnq3r0781gkmV/96lc68cQTddNNN+n888/XihUrdN999+m+++5zOzQ0MnHiRN1444363ve+pyFDhujDDz/UHXfcoV/84hduh4YOiLwpNZA3pQbyptRB3pQ6yJsSw7Bt23Y7iMPJggULdNttt6m0tFT5+fm66667VFhY6HZYiGMYRrPjDz30kC655JLEBoMDMmbMGB5tnKReeOEFzZ49W59++qn69u2roqIiXXbZZW6HhUYqKys1Z84cLV68WGVlZcrLy9NFF12k6667Tn6/3+3w0AGRNyU/8qbURd6UvMibUgN5U2JQlAIAAAAAAEDCMacUAAAAAAAAEo6iFAAAAAAAABKOohQAAAAAAAASjqIUAAAAAAAAEo6iFAAAAAAAABKOohQAAAAAAAASjqIUAAAAAAAAEo6iFAAAAAAAABKOohQAtAHDMPTcc8+5HQYAAEDSI28CUIuiFICUd8kll8gwjCbL+PHj3Q4NAAAgqZA3AUgmXrcDAIC2MH78eD300EMNxgKBgEvRAAAAJC/yJgDJgk4pAIeFQCCgnj17NliysrIkOS3iixYt0mmnnaZgMKh+/frp6aefbnD82rVrdcoppygYDKp79+66/PLLVVVV1WCfBx98UEOGDFEgEFBubq5mzJjRYPu2bdt09tlnKz09XUcffbSWLl3avl8aAADgIJA3AUgWFKUAdAhz5szR5MmTtXr1ak2ZMkUXXnih1q9fL0mqrq7WuHHjlJWVpZUrV+qpp57S66+/3iB5WrRokaZPn67LL79ca9eu1dKlSzVgwIAGn3HDDTfo/PPP15o1azRhwgRNmTJFO3bsSOj3BAAAOFTkTQASxgaAFDd16lTbNE07IyOjwXLjjTfatm3bkuwrrriiwTGFhYX2L3/5S9u2bfu+++6zs7Ky7KqqqrrtL774ou3xeOzS0lLbtm07Ly/Pvvbaa1uMQZL9hz/8oe59VVWVLcl++eWX2+x7AgAAHCryJgDJhDmlABwWTj75ZC1atKjBWLdu3erWR40a1WDbqFGjVFJSIklav369hg8froyMjLrto0ePlmVZ2rBhgwzD0JYtW3Tqqae2GsOwYcPq1jMyMtS5c2eVlZUd7FcCAABoF+RNAJIFRSkAh4WMjIwmbeFtJRgM7td+Pp+vwXvDMGRZVnuEBAAAcNDImwAkC+aUAtAhvPvuu03eDx48WJI0ePBgrV69WtXV1XXbly9fLo/Ho4EDByozM1N9+vRRcXFxQmMGAABwA3kTgEShUwrAYSEUCqm0tLTBmNfrVY8ePSRJTz31lAoKCvTDH/5Qjz76qFasWKEHHnhAkjRlyhTNnTtXU6dO1fXXX6/y8nJdddVV+vnPf66cnBxJ0vXXX68rrrhC2dnZOu2001RZWanly5frqquuSuwXBQAAOETkTQCSBUUpAIeFV155Rbm5uQ3GBg4cqE8++USS84SXJ554QldeeaVyc3P1+OOP65hjjpEkpaen69VXX9U111yjESNGKD09XZMnT9Ydd9xRd66pU6dq7969uvPOO/XrX/9aPXr00Lnnnpu4LwgAANBGyJsAJAvDtm3b7SAAoD0ZhqHFixfrrLPOcjsUAACApEbeBCCRmFMKAAAAAAAACUdRCgAAAAAAAAnH7XsAAAAAAABIODqlAAAAAAAAkHAUpQAAAAAAAJBwFKUAAAAAAACQcBSlAAAAAAAAkHAUpQAAAAAAAJBwFKUAAAAAAACQcBSlAAAAAAAAkHAUpQAAAAAAAJBwFKUAAAAAAACQcP8D75wzSGoF5UEAAAAASUVORK5CYII=\n"
                },
                "metadata": {}
              }
            ]
          }
        },
        "ccbe02552eb44afaa2bf708e7224e0d7": {
          "model_module": "@jupyter-widgets/base",
          "model_name": "LayoutModel",
          "model_module_version": "1.2.0",
          "state": {
            "_model_module": "@jupyter-widgets/base",
            "_model_module_version": "1.2.0",
            "_model_name": "LayoutModel",
            "_view_count": null,
            "_view_module": "@jupyter-widgets/base",
            "_view_module_version": "1.2.0",
            "_view_name": "LayoutView",
            "align_content": null,
            "align_items": null,
            "align_self": null,
            "border": null,
            "bottom": null,
            "display": null,
            "flex": null,
            "flex_flow": null,
            "grid_area": null,
            "grid_auto_columns": null,
            "grid_auto_flow": null,
            "grid_auto_rows": null,
            "grid_column": null,
            "grid_gap": null,
            "grid_row": null,
            "grid_template_areas": null,
            "grid_template_columns": null,
            "grid_template_rows": null,
            "height": null,
            "justify_content": null,
            "justify_items": null,
            "left": null,
            "margin": null,
            "max_height": null,
            "max_width": null,
            "min_height": null,
            "min_width": null,
            "object_fit": null,
            "object_position": null,
            "order": null,
            "overflow": null,
            "overflow_x": null,
            "overflow_y": null,
            "padding": null,
            "right": null,
            "top": null,
            "visibility": null,
            "width": null
          }
        },
        "78a83d5687a941089ab845c81896f2ad": {
          "model_module": "@jupyter-widgets/controls",
          "model_name": "VBoxModel",
          "model_module_version": "1.5.0",
          "state": {
            "_dom_classes": [],
            "_model_module": "@jupyter-widgets/controls",
            "_model_module_version": "1.5.0",
            "_model_name": "VBoxModel",
            "_view_count": null,
            "_view_module": "@jupyter-widgets/controls",
            "_view_module_version": "1.5.0",
            "_view_name": "VBoxView",
            "box_style": "",
            "children": [
              "IPY_MODEL_25fa3b22a97c4d63b963d756aeb98a1c",
              "IPY_MODEL_8220a16caaee48aba3395baae1d6f965",
              "IPY_MODEL_b23d15911ee242cdadf14c194a3efff9",
              "IPY_MODEL_26250514d9e44a21b68e95c3cca733fc",
              "IPY_MODEL_80b370260f6b496a8b189605088d5201"
            ],
            "layout": "IPY_MODEL_ad0c21347dde4d8d901296b7bcad7432"
          }
        },
        "25fa3b22a97c4d63b963d756aeb98a1c": {
          "model_module": "@jupyter-widgets/controls",
          "model_name": "DropdownModel",
          "model_module_version": "1.5.0",
          "state": {
            "_dom_classes": [],
            "_model_module": "@jupyter-widgets/controls",
            "_model_module_version": "1.5.0",
            "_model_name": "DropdownModel",
            "_options_labels": [
              "LSTM",
              "CNN",
              "RNN"
            ],
            "_view_count": null,
            "_view_module": "@jupyter-widgets/controls",
            "_view_module_version": "1.5.0",
            "_view_name": "DropdownView",
            "description": "选择模型:",
            "description_tooltip": null,
            "disabled": false,
            "index": 2,
            "layout": "IPY_MODEL_9261c61721ef4759b3250308451991cd",
            "style": "IPY_MODEL_7b4ed3179e06430ab4cfc4815261597d"
          }
        },
        "8220a16caaee48aba3395baae1d6f965": {
          "model_module": "@jupyter-widgets/controls",
          "model_name": "DropdownModel",
          "model_module_version": "1.5.0",
          "state": {
            "_dom_classes": [],
            "_model_module": "@jupyter-widgets/controls",
            "_model_module_version": "1.5.0",
            "_model_name": "DropdownModel",
            "_options_labels": [
              "积极",
              "中立",
              "消极"
            ],
            "_view_count": null,
            "_view_module": "@jupyter-widgets/controls",
            "_view_module_version": "1.5.0",
            "_view_name": "DropdownView",
            "description": "情感类别:",
            "description_tooltip": null,
            "disabled": false,
            "index": 2,
            "layout": "IPY_MODEL_54d57fa64b924241893be7134670f7fe",
            "style": "IPY_MODEL_27cbec5355b54e62936b00ce43addd5d"
          }
        },
        "b23d15911ee242cdadf14c194a3efff9": {
          "model_module": "@jupyter-widgets/controls",
          "model_name": "IntTextModel",
          "model_module_version": "1.5.0",
          "state": {
            "_dom_classes": [],
            "_model_module": "@jupyter-widgets/controls",
            "_model_module_version": "1.5.0",
            "_model_name": "IntTextModel",
            "_view_count": null,
            "_view_module": "@jupyter-widgets/controls",
            "_view_module_version": "1.5.0",
            "_view_name": "IntTextView",
            "continuous_update": false,
            "description": "语句数量:",
            "description_tooltip": null,
            "disabled": false,
            "layout": "IPY_MODEL_653c51afe701485e8279dfe97ca65f19",
            "step": 1,
            "style": "IPY_MODEL_67d77ae0efa144e781e2ebfcffbce2fc",
            "value": 5
          }
        },
        "26250514d9e44a21b68e95c3cca733fc": {
          "model_module": "@jupyter-widgets/controls",
          "model_name": "ButtonModel",
          "model_module_version": "1.5.0",
          "state": {
            "_dom_classes": [],
            "_model_module": "@jupyter-widgets/controls",
            "_model_module_version": "1.5.0",
            "_model_name": "ButtonModel",
            "_view_count": null,
            "_view_module": "@jupyter-widgets/controls",
            "_view_module_version": "1.5.0",
            "_view_name": "ButtonView",
            "button_style": "success",
            "description": "查询",
            "disabled": false,
            "icon": "",
            "layout": "IPY_MODEL_dd871a2617ff4314af8b1ad8640dd5d8",
            "style": "IPY_MODEL_ad6c9ec162374bb5a8173175bd9d84fe",
            "tooltip": ""
          }
        },
        "80b370260f6b496a8b189605088d5201": {
          "model_module": "@jupyter-widgets/output",
          "model_name": "OutputModel",
          "model_module_version": "1.0.0",
          "state": {
            "_dom_classes": [],
            "_model_module": "@jupyter-widgets/output",
            "_model_module_version": "1.0.0",
            "_model_name": "OutputModel",
            "_view_count": null,
            "_view_module": "@jupyter-widgets/output",
            "_view_module_version": "1.0.0",
            "_view_name": "OutputView",
            "layout": "IPY_MODEL_867218d9f0ae45b0844f19d281b595ce",
            "msg_id": "",
            "outputs": [
              {
                "output_type": "stream",
                "name": "stdout",
                "text": [
                  "\r 1/11 [=>............................] - ETA: 0s"
                ]
              },
              {
                "output_type": "stream",
                "name": "stdout",
                "text": [
                  "\b\b\b\b\b\b\b\b\b\b\b\b\b\b\b\b\b\b\b\b\b\b\b\b\b\b\b\b\b\b\b\b\b\b\b\b\b\b\b\b\b\b\b\b\b\b\b\b\r 4/11 [=========>....................] - ETA: 0s"
                ]
              },
              {
                "output_type": "stream",
                "name": "stdout",
                "text": [
                  "\b\b\b\b\b\b\b\b\b\b\b\b\b\b\b\b\b\b\b\b\b\b\b\b\b\b\b\b\b\b\b\b\b\b\b\b\b\b\b\b\b\b\b\b\b\b\b\b\r 7/11 [==================>...........] - ETA: 0s"
                ]
              },
              {
                "output_type": "stream",
                "name": "stdout",
                "text": [
                  "\b\b\b\b\b\b\b\b\b\b\b\b\b\b\b\b\b\b\b\b\b\b\b\b\b\b\b\b\b\b\b\b\b\b\b\b\b\b\b\b\b\b\b\b\b\b\b\b\r11/11 [==============================] - ETA: 0s"
                ]
              },
              {
                "output_type": "stream",
                "name": "stdout",
                "text": [
                  "\b\b\b\b\b\b\b\b\b\b\b\b\b\b\b\b\b\b\b\b\b\b\b\b\b\b\b\b\b\b\b\b\b\b\b\b\b\b\b\b\b\b\b\b\b\b\b\b\r11/11 [==============================] - 0s 17ms/step\n"
                ]
              },
              {
                "output_type": "stream",
                "name": "stdout",
                "text": [
                  "“学生在选择住宿时应该考虑自己的学习习惯和自律性，确保能够在住宿环境中保持高效学习。”\n",
                  "未来我想当一名科学家，成为祖国的栋梁。\r\n",
                  "未来我想成为一名医生，救死扶伤。\"\n",
                  "上课的时候我的注意力时常分散，，我觉得讲的内容好枯燥。\n",
                  "“我感激自己能够在高中时期就开始规划自己的人生，这让我更加有准备地面对未来的挑战。”\n",
                  "“我很庆幸在中学阶段就能明确自己的兴趣爱好，这让我更加有方向地追求自己的梦想。”\n"
                ]
              },
              {
                "output_type": "stream",
                "name": "stdout",
                "text": [
                  "\r1/4 [======>.......................] - ETA: 0s"
                ]
              },
              {
                "output_type": "stream",
                "name": "stdout",
                "text": [
                  "\b\b\b\b\b\b\b\b\b\b\b\b\b\b\b\b\b\b\b\b\b\b\b\b\b\b\b\b\b\b\b\b\b\b\b\b\b\b\b\b\b\b\b\b\b\b\r4/4 [==============================] - 0s 15ms/step\n"
                ]
              },
              {
                "output_type": "stream",
                "name": "stdout",
                "text": [
                  "准确率: 0.97\n",
                  "召回率: 0.32\n",
                  "F1得分: 0.33\n"
                ]
              },
              {
                "output_type": "stream",
                "name": "stderr",
                "text": [
                  "/usr/local/lib/python3.10/dist-packages/sklearn/metrics/_classification.py:1344: UndefinedMetricWarning: Recall is ill-defined and being set to 0.0 in labels with no true samples. Use `zero_division` parameter to control this behavior.\n",
                  "  _warn_prf(average, modifier, msg_start, len(result))\n"
                ]
              }
            ]
          }
        },
        "ad0c21347dde4d8d901296b7bcad7432": {
          "model_module": "@jupyter-widgets/base",
          "model_name": "LayoutModel",
          "model_module_version": "1.2.0",
          "state": {
            "_model_module": "@jupyter-widgets/base",
            "_model_module_version": "1.2.0",
            "_model_name": "LayoutModel",
            "_view_count": null,
            "_view_module": "@jupyter-widgets/base",
            "_view_module_version": "1.2.0",
            "_view_name": "LayoutView",
            "align_content": null,
            "align_items": null,
            "align_self": null,
            "border": null,
            "bottom": null,
            "display": null,
            "flex": null,
            "flex_flow": null,
            "grid_area": null,
            "grid_auto_columns": null,
            "grid_auto_flow": null,
            "grid_auto_rows": null,
            "grid_column": null,
            "grid_gap": null,
            "grid_row": null,
            "grid_template_areas": null,
            "grid_template_columns": null,
            "grid_template_rows": null,
            "height": null,
            "justify_content": null,
            "justify_items": null,
            "left": null,
            "margin": null,
            "max_height": null,
            "max_width": null,
            "min_height": null,
            "min_width": null,
            "object_fit": null,
            "object_position": null,
            "order": null,
            "overflow": null,
            "overflow_x": null,
            "overflow_y": null,
            "padding": null,
            "right": null,
            "top": null,
            "visibility": null,
            "width": null
          }
        },
        "9261c61721ef4759b3250308451991cd": {
          "model_module": "@jupyter-widgets/base",
          "model_name": "LayoutModel",
          "model_module_version": "1.2.0",
          "state": {
            "_model_module": "@jupyter-widgets/base",
            "_model_module_version": "1.2.0",
            "_model_name": "LayoutModel",
            "_view_count": null,
            "_view_module": "@jupyter-widgets/base",
            "_view_module_version": "1.2.0",
            "_view_name": "LayoutView",
            "align_content": null,
            "align_items": null,
            "align_self": null,
            "border": null,
            "bottom": null,
            "display": null,
            "flex": null,
            "flex_flow": null,
            "grid_area": null,
            "grid_auto_columns": null,
            "grid_auto_flow": null,
            "grid_auto_rows": null,
            "grid_column": null,
            "grid_gap": null,
            "grid_row": null,
            "grid_template_areas": null,
            "grid_template_columns": null,
            "grid_template_rows": null,
            "height": null,
            "justify_content": null,
            "justify_items": null,
            "left": null,
            "margin": null,
            "max_height": null,
            "max_width": null,
            "min_height": null,
            "min_width": null,
            "object_fit": null,
            "object_position": null,
            "order": null,
            "overflow": null,
            "overflow_x": null,
            "overflow_y": null,
            "padding": null,
            "right": null,
            "top": null,
            "visibility": null,
            "width": null
          }
        },
        "7b4ed3179e06430ab4cfc4815261597d": {
          "model_module": "@jupyter-widgets/controls",
          "model_name": "DescriptionStyleModel",
          "model_module_version": "1.5.0",
          "state": {
            "_model_module": "@jupyter-widgets/controls",
            "_model_module_version": "1.5.0",
            "_model_name": "DescriptionStyleModel",
            "_view_count": null,
            "_view_module": "@jupyter-widgets/base",
            "_view_module_version": "1.2.0",
            "_view_name": "StyleView",
            "description_width": ""
          }
        },
        "54d57fa64b924241893be7134670f7fe": {
          "model_module": "@jupyter-widgets/base",
          "model_name": "LayoutModel",
          "model_module_version": "1.2.0",
          "state": {
            "_model_module": "@jupyter-widgets/base",
            "_model_module_version": "1.2.0",
            "_model_name": "LayoutModel",
            "_view_count": null,
            "_view_module": "@jupyter-widgets/base",
            "_view_module_version": "1.2.0",
            "_view_name": "LayoutView",
            "align_content": null,
            "align_items": null,
            "align_self": null,
            "border": null,
            "bottom": null,
            "display": null,
            "flex": null,
            "flex_flow": null,
            "grid_area": null,
            "grid_auto_columns": null,
            "grid_auto_flow": null,
            "grid_auto_rows": null,
            "grid_column": null,
            "grid_gap": null,
            "grid_row": null,
            "grid_template_areas": null,
            "grid_template_columns": null,
            "grid_template_rows": null,
            "height": null,
            "justify_content": null,
            "justify_items": null,
            "left": null,
            "margin": null,
            "max_height": null,
            "max_width": null,
            "min_height": null,
            "min_width": null,
            "object_fit": null,
            "object_position": null,
            "order": null,
            "overflow": null,
            "overflow_x": null,
            "overflow_y": null,
            "padding": null,
            "right": null,
            "top": null,
            "visibility": null,
            "width": null
          }
        },
        "27cbec5355b54e62936b00ce43addd5d": {
          "model_module": "@jupyter-widgets/controls",
          "model_name": "DescriptionStyleModel",
          "model_module_version": "1.5.0",
          "state": {
            "_model_module": "@jupyter-widgets/controls",
            "_model_module_version": "1.5.0",
            "_model_name": "DescriptionStyleModel",
            "_view_count": null,
            "_view_module": "@jupyter-widgets/base",
            "_view_module_version": "1.2.0",
            "_view_name": "StyleView",
            "description_width": ""
          }
        },
        "653c51afe701485e8279dfe97ca65f19": {
          "model_module": "@jupyter-widgets/base",
          "model_name": "LayoutModel",
          "model_module_version": "1.2.0",
          "state": {
            "_model_module": "@jupyter-widgets/base",
            "_model_module_version": "1.2.0",
            "_model_name": "LayoutModel",
            "_view_count": null,
            "_view_module": "@jupyter-widgets/base",
            "_view_module_version": "1.2.0",
            "_view_name": "LayoutView",
            "align_content": null,
            "align_items": null,
            "align_self": null,
            "border": null,
            "bottom": null,
            "display": null,
            "flex": null,
            "flex_flow": null,
            "grid_area": null,
            "grid_auto_columns": null,
            "grid_auto_flow": null,
            "grid_auto_rows": null,
            "grid_column": null,
            "grid_gap": null,
            "grid_row": null,
            "grid_template_areas": null,
            "grid_template_columns": null,
            "grid_template_rows": null,
            "height": null,
            "justify_content": null,
            "justify_items": null,
            "left": null,
            "margin": null,
            "max_height": null,
            "max_width": null,
            "min_height": null,
            "min_width": null,
            "object_fit": null,
            "object_position": null,
            "order": null,
            "overflow": null,
            "overflow_x": null,
            "overflow_y": null,
            "padding": null,
            "right": null,
            "top": null,
            "visibility": null,
            "width": null
          }
        },
        "67d77ae0efa144e781e2ebfcffbce2fc": {
          "model_module": "@jupyter-widgets/controls",
          "model_name": "DescriptionStyleModel",
          "model_module_version": "1.5.0",
          "state": {
            "_model_module": "@jupyter-widgets/controls",
            "_model_module_version": "1.5.0",
            "_model_name": "DescriptionStyleModel",
            "_view_count": null,
            "_view_module": "@jupyter-widgets/base",
            "_view_module_version": "1.2.0",
            "_view_name": "StyleView",
            "description_width": ""
          }
        },
        "dd871a2617ff4314af8b1ad8640dd5d8": {
          "model_module": "@jupyter-widgets/base",
          "model_name": "LayoutModel",
          "model_module_version": "1.2.0",
          "state": {
            "_model_module": "@jupyter-widgets/base",
            "_model_module_version": "1.2.0",
            "_model_name": "LayoutModel",
            "_view_count": null,
            "_view_module": "@jupyter-widgets/base",
            "_view_module_version": "1.2.0",
            "_view_name": "LayoutView",
            "align_content": null,
            "align_items": null,
            "align_self": null,
            "border": null,
            "bottom": null,
            "display": null,
            "flex": null,
            "flex_flow": null,
            "grid_area": null,
            "grid_auto_columns": null,
            "grid_auto_flow": null,
            "grid_auto_rows": null,
            "grid_column": null,
            "grid_gap": null,
            "grid_row": null,
            "grid_template_areas": null,
            "grid_template_columns": null,
            "grid_template_rows": null,
            "height": null,
            "justify_content": null,
            "justify_items": null,
            "left": null,
            "margin": null,
            "max_height": null,
            "max_width": null,
            "min_height": null,
            "min_width": null,
            "object_fit": null,
            "object_position": null,
            "order": null,
            "overflow": null,
            "overflow_x": null,
            "overflow_y": null,
            "padding": null,
            "right": null,
            "top": null,
            "visibility": null,
            "width": null
          }
        },
        "ad6c9ec162374bb5a8173175bd9d84fe": {
          "model_module": "@jupyter-widgets/controls",
          "model_name": "ButtonStyleModel",
          "model_module_version": "1.5.0",
          "state": {
            "_model_module": "@jupyter-widgets/controls",
            "_model_module_version": "1.5.0",
            "_model_name": "ButtonStyleModel",
            "_view_count": null,
            "_view_module": "@jupyter-widgets/base",
            "_view_module_version": "1.2.0",
            "_view_name": "StyleView",
            "button_color": null,
            "font_weight": ""
          }
        },
        "867218d9f0ae45b0844f19d281b595ce": {
          "model_module": "@jupyter-widgets/base",
          "model_name": "LayoutModel",
          "model_module_version": "1.2.0",
          "state": {
            "_model_module": "@jupyter-widgets/base",
            "_model_module_version": "1.2.0",
            "_model_name": "LayoutModel",
            "_view_count": null,
            "_view_module": "@jupyter-widgets/base",
            "_view_module_version": "1.2.0",
            "_view_name": "LayoutView",
            "align_content": null,
            "align_items": null,
            "align_self": null,
            "border": null,
            "bottom": null,
            "display": null,
            "flex": null,
            "flex_flow": null,
            "grid_area": null,
            "grid_auto_columns": null,
            "grid_auto_flow": null,
            "grid_auto_rows": null,
            "grid_column": null,
            "grid_gap": null,
            "grid_row": null,
            "grid_template_areas": null,
            "grid_template_columns": null,
            "grid_template_rows": null,
            "height": null,
            "justify_content": null,
            "justify_items": null,
            "left": null,
            "margin": null,
            "max_height": null,
            "max_width": null,
            "min_height": null,
            "min_width": null,
            "object_fit": null,
            "object_position": null,
            "order": null,
            "overflow": null,
            "overflow_x": null,
            "overflow_y": null,
            "padding": null,
            "right": null,
            "top": null,
            "visibility": null,
            "width": null
          }
        }
      }
    }
  },
  "cells": [
    {
      "cell_type": "markdown",
      "source": [
        "1.数据加载和合并"
      ],
      "metadata": {
        "id": "Rm-ixgJeNoax"
      }
    },
    {
      "cell_type": "code",
      "source": [
        "from google.colab import drive\n",
        "drive.mount('/content/drive/')"
      ],
      "metadata": {
        "colab": {
          "base_uri": "https://localhost:8080/"
        },
        "id": "0EnV6LVdONPQ",
        "outputId": "76d242f9-73e3-46d2-bfb1-ef086c3c25f6"
      },
      "execution_count": 1,
      "outputs": [
        {
          "output_type": "stream",
          "name": "stdout",
          "text": [
            "Mounted at /content/drive/\n"
          ]
        }
      ]
    },
    {
      "cell_type": "code",
      "source": [
        "import pandas as pd\n",
        "import numpy as np\n",
        "from sklearn.model_selection import train_test_split\n",
        "from sklearn.preprocessing import LabelEncoder\n",
        "from tensorflow.keras.preprocessing.text import Tokenizer\n",
        "from tensorflow.keras.preprocessing.sequence import pad_sequences\n",
        "from tensorflow.keras.utils import to_categorical\n",
        "import jieba\n",
        "\n",
        "# 加载数据\n",
        "def load_data(file_path):\n",
        "    return pd.read_csv(file_path, header=None, names=['text'],on_bad_lines='skip')\n",
        "\n",
        "negative_words_ts = load_data('/content/drive/My Drive/Work/1.高中生情感分类/negative_words.csv')\n",
        "neutral_words_ts = load_data('/content/drive/My Drive/Work/1.高中生情感分类/neutral_words.csv')\n",
        "positive_words_ts = load_data('/content/drive/My Drive/Work/1.高中生情感分类/positive_words.csv')\n",
        "\n",
        "# 设置随机种子\n",
        "np.random.seed(0)\n",
        "\n",
        "def add_random_timestamps(df, start_date=\"2020-01-01\", end_date=\"2024-12-31\"):\n",
        "    dates = pd.date_range(start=start_date, end=end_date).strftime(\"%Y-%m-%d\")\n",
        "    # 直接从格式化后的字符串日期中随机选择\n",
        "    df['timestamp'] = np.random.choice(dates, size=len(df))\n",
        "\n",
        "\n",
        "# 为每个数据集添加随机时间戳\n",
        "add_random_timestamps(negative_words_ts)\n",
        "add_random_timestamps(neutral_words_ts)\n",
        "add_random_timestamps(positive_words_ts)\n",
        "\n",
        "\n",
        "# 分配标签\n",
        "neutral_words_ts['label'] = 0\n",
        "positive_words_ts['label'] = 1\n",
        "negative_words_ts['label'] = 2\n",
        "\n",
        "# 合并数据集\n",
        "data_ts = pd.concat([positive_words_ts, neutral_words_ts, negative_words_ts])"
      ],
      "metadata": {
        "id": "4mrcr4eyZiEi"
      },
      "execution_count": 2,
      "outputs": []
    },
    {
      "cell_type": "code",
      "source": [
        "data_ts"
      ],
      "metadata": {
        "colab": {
          "base_uri": "https://localhost:8080/",
          "height": 424
        },
        "id": "EzKCL1qV6auK",
        "outputId": "a5161f9c-e006-418f-ac56-51cb280e1dde"
      },
      "execution_count": 3,
      "outputs": [
        {
          "output_type": "execute_result",
          "data": {
            "text/plain": [
              "                                      text   timestamp  label\n",
              "0              除了授课和答疑，我非常希望在课余时间有机会和老师交流。  2023-06-16      1\n",
              "1                   我认为面对学习生活中的压力，要化压力为动力。  2024-08-28      1\n",
              "2                     我会通过与家人朋友聊天，宣泄自己的压力。  2021-01-17      1\n",
              "3                       我会通过读书、听音乐宣泄自己的压力。  2020-08-04      1\n",
              "4          我比较反感身边同学吸烟，吸烟会危害自己以及身边同学的身心健康。  2023-07-20      1\n",
              "..                                     ...         ...    ...\n",
              "569                “我真的好想回到过去，重新选择一条不同的路。”  2024-01-01      2\n",
              "570          “我觉得自己好像被困在了这个循环里，每天都过得一模一样。”  2020-07-16      2\n",
              "571                 “每次想到自己的未来，我就会觉得特别迷茫。”  2022-07-18      2\n",
              "572  “我觉得没人能够理解我，我真的好想有人能理解我，支持我去追求自己的梦想。”  2024-07-29      2\n",
              "573               “我觉得自己好像已经失去了对生活的热爱和期待。”  2021-09-29      2\n",
              "\n",
              "[1677 rows x 3 columns]"
            ],
            "text/html": [
              "\n",
              "  <div id=\"df-b68136cf-1967-41d1-8c3b-fb20a58aa82e\" class=\"colab-df-container\">\n",
              "    <div>\n",
              "<style scoped>\n",
              "    .dataframe tbody tr th:only-of-type {\n",
              "        vertical-align: middle;\n",
              "    }\n",
              "\n",
              "    .dataframe tbody tr th {\n",
              "        vertical-align: top;\n",
              "    }\n",
              "\n",
              "    .dataframe thead th {\n",
              "        text-align: right;\n",
              "    }\n",
              "</style>\n",
              "<table border=\"1\" class=\"dataframe\">\n",
              "  <thead>\n",
              "    <tr style=\"text-align: right;\">\n",
              "      <th></th>\n",
              "      <th>text</th>\n",
              "      <th>timestamp</th>\n",
              "      <th>label</th>\n",
              "    </tr>\n",
              "  </thead>\n",
              "  <tbody>\n",
              "    <tr>\n",
              "      <th>0</th>\n",
              "      <td>除了授课和答疑，我非常希望在课余时间有机会和老师交流。</td>\n",
              "      <td>2023-06-16</td>\n",
              "      <td>1</td>\n",
              "    </tr>\n",
              "    <tr>\n",
              "      <th>1</th>\n",
              "      <td>我认为面对学习生活中的压力，要化压力为动力。</td>\n",
              "      <td>2024-08-28</td>\n",
              "      <td>1</td>\n",
              "    </tr>\n",
              "    <tr>\n",
              "      <th>2</th>\n",
              "      <td>我会通过与家人朋友聊天，宣泄自己的压力。</td>\n",
              "      <td>2021-01-17</td>\n",
              "      <td>1</td>\n",
              "    </tr>\n",
              "    <tr>\n",
              "      <th>3</th>\n",
              "      <td>我会通过读书、听音乐宣泄自己的压力。</td>\n",
              "      <td>2020-08-04</td>\n",
              "      <td>1</td>\n",
              "    </tr>\n",
              "    <tr>\n",
              "      <th>4</th>\n",
              "      <td>我比较反感身边同学吸烟，吸烟会危害自己以及身边同学的身心健康。</td>\n",
              "      <td>2023-07-20</td>\n",
              "      <td>1</td>\n",
              "    </tr>\n",
              "    <tr>\n",
              "      <th>...</th>\n",
              "      <td>...</td>\n",
              "      <td>...</td>\n",
              "      <td>...</td>\n",
              "    </tr>\n",
              "    <tr>\n",
              "      <th>569</th>\n",
              "      <td>“我真的好想回到过去，重新选择一条不同的路。”</td>\n",
              "      <td>2024-01-01</td>\n",
              "      <td>2</td>\n",
              "    </tr>\n",
              "    <tr>\n",
              "      <th>570</th>\n",
              "      <td>“我觉得自己好像被困在了这个循环里，每天都过得一模一样。”</td>\n",
              "      <td>2020-07-16</td>\n",
              "      <td>2</td>\n",
              "    </tr>\n",
              "    <tr>\n",
              "      <th>571</th>\n",
              "      <td>“每次想到自己的未来，我就会觉得特别迷茫。”</td>\n",
              "      <td>2022-07-18</td>\n",
              "      <td>2</td>\n",
              "    </tr>\n",
              "    <tr>\n",
              "      <th>572</th>\n",
              "      <td>“我觉得没人能够理解我，我真的好想有人能理解我，支持我去追求自己的梦想。”</td>\n",
              "      <td>2024-07-29</td>\n",
              "      <td>2</td>\n",
              "    </tr>\n",
              "    <tr>\n",
              "      <th>573</th>\n",
              "      <td>“我觉得自己好像已经失去了对生活的热爱和期待。”</td>\n",
              "      <td>2021-09-29</td>\n",
              "      <td>2</td>\n",
              "    </tr>\n",
              "  </tbody>\n",
              "</table>\n",
              "<p>1677 rows × 3 columns</p>\n",
              "</div>\n",
              "    <div class=\"colab-df-buttons\">\n",
              "\n",
              "  <div class=\"colab-df-container\">\n",
              "    <button class=\"colab-df-convert\" onclick=\"convertToInteractive('df-b68136cf-1967-41d1-8c3b-fb20a58aa82e')\"\n",
              "            title=\"Convert this dataframe to an interactive table.\"\n",
              "            style=\"display:none;\">\n",
              "\n",
              "  <svg xmlns=\"http://www.w3.org/2000/svg\" height=\"24px\" viewBox=\"0 -960 960 960\">\n",
              "    <path d=\"M120-120v-720h720v720H120Zm60-500h600v-160H180v160Zm220 220h160v-160H400v160Zm0 220h160v-160H400v160ZM180-400h160v-160H180v160Zm440 0h160v-160H620v160ZM180-180h160v-160H180v160Zm440 0h160v-160H620v160Z\"/>\n",
              "  </svg>\n",
              "    </button>\n",
              "\n",
              "  <style>\n",
              "    .colab-df-container {\n",
              "      display:flex;\n",
              "      gap: 12px;\n",
              "    }\n",
              "\n",
              "    .colab-df-convert {\n",
              "      background-color: #E8F0FE;\n",
              "      border: none;\n",
              "      border-radius: 50%;\n",
              "      cursor: pointer;\n",
              "      display: none;\n",
              "      fill: #1967D2;\n",
              "      height: 32px;\n",
              "      padding: 0 0 0 0;\n",
              "      width: 32px;\n",
              "    }\n",
              "\n",
              "    .colab-df-convert:hover {\n",
              "      background-color: #E2EBFA;\n",
              "      box-shadow: 0px 1px 2px rgba(60, 64, 67, 0.3), 0px 1px 3px 1px rgba(60, 64, 67, 0.15);\n",
              "      fill: #174EA6;\n",
              "    }\n",
              "\n",
              "    .colab-df-buttons div {\n",
              "      margin-bottom: 4px;\n",
              "    }\n",
              "\n",
              "    [theme=dark] .colab-df-convert {\n",
              "      background-color: #3B4455;\n",
              "      fill: #D2E3FC;\n",
              "    }\n",
              "\n",
              "    [theme=dark] .colab-df-convert:hover {\n",
              "      background-color: #434B5C;\n",
              "      box-shadow: 0px 1px 3px 1px rgba(0, 0, 0, 0.15);\n",
              "      filter: drop-shadow(0px 1px 2px rgba(0, 0, 0, 0.3));\n",
              "      fill: #FFFFFF;\n",
              "    }\n",
              "  </style>\n",
              "\n",
              "    <script>\n",
              "      const buttonEl =\n",
              "        document.querySelector('#df-b68136cf-1967-41d1-8c3b-fb20a58aa82e button.colab-df-convert');\n",
              "      buttonEl.style.display =\n",
              "        google.colab.kernel.accessAllowed ? 'block' : 'none';\n",
              "\n",
              "      async function convertToInteractive(key) {\n",
              "        const element = document.querySelector('#df-b68136cf-1967-41d1-8c3b-fb20a58aa82e');\n",
              "        const dataTable =\n",
              "          await google.colab.kernel.invokeFunction('convertToInteractive',\n",
              "                                                    [key], {});\n",
              "        if (!dataTable) return;\n",
              "\n",
              "        const docLinkHtml = 'Like what you see? Visit the ' +\n",
              "          '<a target=\"_blank\" href=https://colab.research.google.com/notebooks/data_table.ipynb>data table notebook</a>'\n",
              "          + ' to learn more about interactive tables.';\n",
              "        element.innerHTML = '';\n",
              "        dataTable['output_type'] = 'display_data';\n",
              "        await google.colab.output.renderOutput(dataTable, element);\n",
              "        const docLink = document.createElement('div');\n",
              "        docLink.innerHTML = docLinkHtml;\n",
              "        element.appendChild(docLink);\n",
              "      }\n",
              "    </script>\n",
              "  </div>\n",
              "\n",
              "\n",
              "<div id=\"df-acb7a599-a52f-4de3-876c-c2a767215bde\">\n",
              "  <button class=\"colab-df-quickchart\" onclick=\"quickchart('df-acb7a599-a52f-4de3-876c-c2a767215bde')\"\n",
              "            title=\"Suggest charts\"\n",
              "            style=\"display:none;\">\n",
              "\n",
              "<svg xmlns=\"http://www.w3.org/2000/svg\" height=\"24px\"viewBox=\"0 0 24 24\"\n",
              "     width=\"24px\">\n",
              "    <g>\n",
              "        <path d=\"M19 3H5c-1.1 0-2 .9-2 2v14c0 1.1.9 2 2 2h14c1.1 0 2-.9 2-2V5c0-1.1-.9-2-2-2zM9 17H7v-7h2v7zm4 0h-2V7h2v10zm4 0h-2v-4h2v4z\"/>\n",
              "    </g>\n",
              "</svg>\n",
              "  </button>\n",
              "\n",
              "<style>\n",
              "  .colab-df-quickchart {\n",
              "      --bg-color: #E8F0FE;\n",
              "      --fill-color: #1967D2;\n",
              "      --hover-bg-color: #E2EBFA;\n",
              "      --hover-fill-color: #174EA6;\n",
              "      --disabled-fill-color: #AAA;\n",
              "      --disabled-bg-color: #DDD;\n",
              "  }\n",
              "\n",
              "  [theme=dark] .colab-df-quickchart {\n",
              "      --bg-color: #3B4455;\n",
              "      --fill-color: #D2E3FC;\n",
              "      --hover-bg-color: #434B5C;\n",
              "      --hover-fill-color: #FFFFFF;\n",
              "      --disabled-bg-color: #3B4455;\n",
              "      --disabled-fill-color: #666;\n",
              "  }\n",
              "\n",
              "  .colab-df-quickchart {\n",
              "    background-color: var(--bg-color);\n",
              "    border: none;\n",
              "    border-radius: 50%;\n",
              "    cursor: pointer;\n",
              "    display: none;\n",
              "    fill: var(--fill-color);\n",
              "    height: 32px;\n",
              "    padding: 0;\n",
              "    width: 32px;\n",
              "  }\n",
              "\n",
              "  .colab-df-quickchart:hover {\n",
              "    background-color: var(--hover-bg-color);\n",
              "    box-shadow: 0 1px 2px rgba(60, 64, 67, 0.3), 0 1px 3px 1px rgba(60, 64, 67, 0.15);\n",
              "    fill: var(--button-hover-fill-color);\n",
              "  }\n",
              "\n",
              "  .colab-df-quickchart-complete:disabled,\n",
              "  .colab-df-quickchart-complete:disabled:hover {\n",
              "    background-color: var(--disabled-bg-color);\n",
              "    fill: var(--disabled-fill-color);\n",
              "    box-shadow: none;\n",
              "  }\n",
              "\n",
              "  .colab-df-spinner {\n",
              "    border: 2px solid var(--fill-color);\n",
              "    border-color: transparent;\n",
              "    border-bottom-color: var(--fill-color);\n",
              "    animation:\n",
              "      spin 1s steps(1) infinite;\n",
              "  }\n",
              "\n",
              "  @keyframes spin {\n",
              "    0% {\n",
              "      border-color: transparent;\n",
              "      border-bottom-color: var(--fill-color);\n",
              "      border-left-color: var(--fill-color);\n",
              "    }\n",
              "    20% {\n",
              "      border-color: transparent;\n",
              "      border-left-color: var(--fill-color);\n",
              "      border-top-color: var(--fill-color);\n",
              "    }\n",
              "    30% {\n",
              "      border-color: transparent;\n",
              "      border-left-color: var(--fill-color);\n",
              "      border-top-color: var(--fill-color);\n",
              "      border-right-color: var(--fill-color);\n",
              "    }\n",
              "    40% {\n",
              "      border-color: transparent;\n",
              "      border-right-color: var(--fill-color);\n",
              "      border-top-color: var(--fill-color);\n",
              "    }\n",
              "    60% {\n",
              "      border-color: transparent;\n",
              "      border-right-color: var(--fill-color);\n",
              "    }\n",
              "    80% {\n",
              "      border-color: transparent;\n",
              "      border-right-color: var(--fill-color);\n",
              "      border-bottom-color: var(--fill-color);\n",
              "    }\n",
              "    90% {\n",
              "      border-color: transparent;\n",
              "      border-bottom-color: var(--fill-color);\n",
              "    }\n",
              "  }\n",
              "</style>\n",
              "\n",
              "  <script>\n",
              "    async function quickchart(key) {\n",
              "      const quickchartButtonEl =\n",
              "        document.querySelector('#' + key + ' button');\n",
              "      quickchartButtonEl.disabled = true;  // To prevent multiple clicks.\n",
              "      quickchartButtonEl.classList.add('colab-df-spinner');\n",
              "      try {\n",
              "        const charts = await google.colab.kernel.invokeFunction(\n",
              "            'suggestCharts', [key], {});\n",
              "      } catch (error) {\n",
              "        console.error('Error during call to suggestCharts:', error);\n",
              "      }\n",
              "      quickchartButtonEl.classList.remove('colab-df-spinner');\n",
              "      quickchartButtonEl.classList.add('colab-df-quickchart-complete');\n",
              "    }\n",
              "    (() => {\n",
              "      let quickchartButtonEl =\n",
              "        document.querySelector('#df-acb7a599-a52f-4de3-876c-c2a767215bde button');\n",
              "      quickchartButtonEl.style.display =\n",
              "        google.colab.kernel.accessAllowed ? 'block' : 'none';\n",
              "    })();\n",
              "  </script>\n",
              "</div>\n",
              "    </div>\n",
              "  </div>\n"
            ],
            "application/vnd.google.colaboratory.intrinsic+json": {
              "type": "dataframe",
              "variable_name": "data_ts",
              "summary": "{\n  \"name\": \"data_ts\",\n  \"rows\": 1677,\n  \"fields\": [\n    {\n      \"column\": \"text\",\n      \"properties\": {\n        \"dtype\": \"string\",\n        \"num_unique_values\": 1655,\n        \"samples\": [\n          \"\\u201c\\u987a\\u5176\\u81ea\\u7136\\u53ef\\u4ee5\\u8ba9\\u6211\\u66f4\\u52a0\\u653e\\u677e\\u5730\\u9762\\u5bf9\\u5b66\\u4e60\\uff0c\\u907f\\u514d\\u56e0\\u4e3a\\u6392\\u540d\\u800c\\u4ea7\\u751f\\u4e0d\\u5fc5\\u8981\\u7684\\u7126\\u8651\\u3002\\u201d\",\n          \"\\u6211\\u89c9\\u5f97\\u6211\\u7684\\u7761\\u7720\\u72b6\\u6001\\u8fd8\\u662f\\u5f88\\u4e0d\\u9519\\u7684\\u3002\",\n          \"\\u201c\\u5728\\u8dd1\\u9053\\u4e0a\\u5954\\u8dd1\\uff0c\\u6211\\u89c9\\u5f97\\u81ea\\u5df1\\u53ef\\u4ee5\\u6218\\u80dc\\u4e00\\u5207\\u56f0\\u96be\\u3002\\u201d\"\n        ],\n        \"semantic_type\": \"\",\n        \"description\": \"\"\n      }\n    },\n    {\n      \"column\": \"timestamp\",\n      \"properties\": {\n        \"dtype\": \"date\",\n        \"min\": \"2020-01-01\",\n        \"max\": \"2024-12-31\",\n        \"num_unique_values\": 1106,\n        \"samples\": [\n          \"2021-10-30\",\n          \"2020-12-31\",\n          \"2022-06-20\"\n        ],\n        \"semantic_type\": \"\",\n        \"description\": \"\"\n      }\n    },\n    {\n      \"column\": \"label\",\n      \"properties\": {\n        \"dtype\": \"number\",\n        \"std\": 0,\n        \"min\": 0,\n        \"max\": 2,\n        \"num_unique_values\": 3,\n        \"samples\": [\n          1,\n          0,\n          2\n        ],\n        \"semantic_type\": \"\",\n        \"description\": \"\"\n      }\n    }\n  ]\n}"
            }
          },
          "metadata": {},
          "execution_count": 3
        }
      ]
    },
    {
      "cell_type": "code",
      "source": [
        "# 使用Pandas将时间戳转换为日期时间对象\n",
        "data_ts['timestamp'] = pd.to_datetime(data_ts['timestamp'])\n",
        "\n",
        "# 从时间戳中提取出可能有用的特征\n",
        "data_ts['year'] = data_ts['timestamp'].dt.year\n",
        "data_ts['month'] = data_ts['timestamp'].dt.month\n",
        "data_ts['day'] = data_ts['timestamp'].dt.day\n",
        "data_ts['dayofweek'] = data_ts['timestamp'].dt.dayofweek"
      ],
      "metadata": {
        "id": "YsFXn2eZBPcW"
      },
      "execution_count": 4,
      "outputs": []
    },
    {
      "cell_type": "code",
      "source": [
        "#随机化数据\n",
        "data_ts = data_ts.sample(frac=1).reset_index(drop=True)\n",
        "\n",
        "import jieba\n",
        "import requests\n",
        "\n",
        "stop_words_url = 'https://raw.githubusercontent.com/goto456/stopwords/master/cn_stopwords.txt'\n",
        "\n",
        "# 使用requests库下载停用词库\n",
        "response = requests.get(stop_words_url)\n",
        "stop_words = set(response.text.splitlines())\n",
        "\n",
        "def preprocess_chinese_text(text):\n",
        "    # 使用jieba进行中文分词\n",
        "    words = jieba.cut(text)\n",
        "    # 移除停用词\n",
        "    filtered_words = [word for word in words if word not in stop_words and not word.isspace()]\n",
        "    # 合并词汇为一个字符串\n",
        "    return ' '.join(filtered_words)\n",
        "\n",
        "# 应用预处理函数到文本列\n",
        "data_ts['original_text'] = data_ts['text'].copy()\n",
        "data_ts['text'] = data_ts['text'].apply(preprocess_chinese_text)"
      ],
      "metadata": {
        "id": "ed1X8hjniwwp",
        "colab": {
          "base_uri": "https://localhost:8080/"
        },
        "outputId": "9bea37bf-8249-44c1-ed09-98389c6903c9"
      },
      "execution_count": 5,
      "outputs": [
        {
          "output_type": "stream",
          "name": "stderr",
          "text": [
            "Building prefix dict from the default dictionary ...\n",
            "DEBUG:jieba:Building prefix dict from the default dictionary ...\n",
            "Dumping model to file cache /tmp/jieba.cache\n",
            "DEBUG:jieba:Dumping model to file cache /tmp/jieba.cache\n",
            "Loading model cost 1.746 seconds.\n",
            "DEBUG:jieba:Loading model cost 1.746 seconds.\n",
            "Prefix dict has been built successfully.\n",
            "DEBUG:jieba:Prefix dict has been built successfully.\n"
          ]
        }
      ]
    },
    {
      "cell_type": "code",
      "source": [
        "from gensim.models import KeyedVectors\n",
        "\n",
        "# 划分数据集\n",
        "X = data_ts['text']\n",
        "y = data_ts['label']\n",
        "label_encoder = LabelEncoder()\n",
        "y_encoded = label_encoder.fit_transform(y)\n",
        "y_categorical = to_categorical(y_encoded)\n",
        "\n",
        "# 文本序列化和填充\n",
        "tokenizer = Tokenizer()\n",
        "tokenizer.fit_on_texts(X)\n",
        "X_seq = tokenizer.texts_to_sequences(X)\n",
        "max_seq_length = 100\n",
        "X_pad = pad_sequences(X_seq, maxlen=max_seq_length)\n",
        "\n",
        "# 加载腾讯的预训练模型\n",
        "model_path = '/content/drive/My Drive/Work/1.高中生情感分类/tencent-ailab-embedding-zh-d100-v0.2.0-s.txt'\n",
        "word_vectors_zh = KeyedVectors.load_word2vec_format(model_path, binary=False)"
      ],
      "metadata": {
        "id": "uR1Sp8e0i4XF"
      },
      "execution_count": 6,
      "outputs": []
    },
    {
      "cell_type": "code",
      "source": [
        "# 初始化词嵌入矩阵\n",
        "embedding_dim = 100  # 根据实际词向量的维度进行设置\n",
        "embedding_matrix = np.zeros((len(tokenizer.word_index) + 1, embedding_dim))\n",
        "for word, i in tokenizer.word_index.items():\n",
        "    embedding_vector = word_vectors_zh[word] if word in word_vectors_zh else None\n",
        "    if embedding_vector is not None:\n",
        "        embedding_matrix[i] = embedding_vector"
      ],
      "metadata": {
        "id": "ENW_A9RRreku"
      },
      "execution_count": 7,
      "outputs": []
    },
    {
      "cell_type": "code",
      "source": [
        "from tensorflow.keras.models import Sequential\n",
        "from tensorflow.keras.layers import Embedding, LSTM, Dense, Dropout, SpatialDropout1D\n",
        "from tensorflow.keras.layers import Conv1D, SimpleRNN, GlobalMaxPooling1D, Embedding, Dropout, Dense"
      ],
      "metadata": {
        "id": "e7jnOkcCr5SC"
      },
      "execution_count": 8,
      "outputs": []
    },
    {
      "cell_type": "code",
      "source": [
        "X_train_text, X_test_text, y_train, y_test = train_test_split(X_pad, y_categorical, test_size=0.2, random_state=42)"
      ],
      "metadata": {
        "id": "dFmSu7LWEPxA"
      },
      "execution_count": 9,
      "outputs": []
    },
    {
      "cell_type": "markdown",
      "source": [
        "LSTM"
      ],
      "metadata": {
        "id": "ZTY6aWQabbKY"
      }
    },
    {
      "cell_type": "code",
      "source": [
        "from tensorflow.keras.layers import Input, Embedding, LSTM, Dense, Dropout, concatenate\n",
        "from tensorflow.keras.models import Model\n",
        "\n",
        "# 时间特征的输入\n",
        "time_input = Input(shape=(4,), name='time_input')  # 这里的4是时间特征的数量\n",
        "\n",
        "# 构建模型\n",
        "def build_lstm_model_with_time(input_dim, output_dim, input_length, embedding_matrix, time_input_shape):\n",
        "    # 文本输入部分\n",
        "    text_input = Input(shape=(input_length,), dtype='int32', name='text')\n",
        "    embedded_text = Embedding(input_dim=input_dim, output_dim=output_dim, weights=[embedding_matrix], input_length=input_length, trainable=False)(text_input)\n",
        "    lstm_out = LSTM(128, return_sequences=True)(embedded_text)\n",
        "    lstm_out = LSTM(64)(lstm_out)\n",
        "\n",
        "    # 时间输入部分\n",
        "    time_input = Input(shape=(time_input_shape,), name='time_input')\n",
        "    time_dense = Dense(32, activation='relu')(time_input)\n",
        "\n",
        "    # 合并文本和时间特征\n",
        "    concatenated = concatenate([lstm_out, time_dense], axis=-1)\n",
        "\n",
        "    # 添加一个或多个全连接层\n",
        "    output = Dense(32, activation='relu')(concatenated)\n",
        "    output = Dense(len(y_categorical[0]), activation='softmax')(output)\n",
        "\n",
        "    # 构建最终的模型\n",
        "    model = Model([text_input, time_input], output)\n",
        "    model.compile(optimizer='adam', loss='categorical_crossentropy', metrics=['accuracy'])\n",
        "\n",
        "    return model\n",
        "\n",
        "# 模型实例化\n",
        "lstm_model_with_time = build_lstm_model_with_time(input_dim=len(tokenizer.word_index) + 1, output_dim=embedding_dim, input_length=max_seq_length, embedding_matrix=embedding_matrix, time_input_shape=4)\n",
        "\n",
        "\n",
        "# 划分数据集为训练集和测试集（同时包括时间特征）\n",
        "X_time_features = data_ts[['year', 'month', 'day', 'dayofweek']]\n",
        "X_train_time, X_test_time, y_train, y_test = train_test_split(X_time_features, y_categorical, test_size=0.2, random_state=42)\n",
        "\n",
        "\n",
        "# 模型训练\n",
        "history_lstm_with_time = lstm_model_with_time.fit([X_train_text, X_train_time], y_train, epochs=10, validation_data=([X_test_text, X_test_time], y_test), batch_size=64)\n",
        "print(lstm_model_with_time.summary())"
      ],
      "metadata": {
        "colab": {
          "base_uri": "https://localhost:8080/"
        },
        "id": "Oj2oWQvfCD7m",
        "outputId": "e0b3493c-b2f7-4665-befe-7d76ed74813a"
      },
      "execution_count": 12,
      "outputs": [
        {
          "output_type": "stream",
          "name": "stdout",
          "text": [
            "Epoch 1/10\n",
            "21/21 [==============================] - 8s 60ms/step - loss: 36.9210 - accuracy: 0.3147 - val_loss: 18.5098 - val_accuracy: 0.3155\n",
            "Epoch 2/10\n",
            "21/21 [==============================] - 0s 14ms/step - loss: 6.6429 - accuracy: 0.3259 - val_loss: 3.3186 - val_accuracy: 0.3185\n",
            "Epoch 3/10\n",
            "21/21 [==============================] - 0s 12ms/step - loss: 2.9892 - accuracy: 0.3587 - val_loss: 3.1271 - val_accuracy: 0.4167\n",
            "Epoch 4/10\n",
            "21/21 [==============================] - 0s 13ms/step - loss: 1.6533 - accuracy: 0.4966 - val_loss: 1.1802 - val_accuracy: 0.6429\n",
            "Epoch 5/10\n",
            "21/21 [==============================] - 0s 13ms/step - loss: 0.9795 - accuracy: 0.6450 - val_loss: 0.7148 - val_accuracy: 0.7173\n",
            "Epoch 6/10\n",
            "21/21 [==============================] - 0s 13ms/step - loss: 0.6422 - accuracy: 0.7591 - val_loss: 0.6088 - val_accuracy: 0.7560\n",
            "Epoch 7/10\n",
            "21/21 [==============================] - 0s 13ms/step - loss: 0.5499 - accuracy: 0.8091 - val_loss: 0.4740 - val_accuracy: 0.8065\n",
            "Epoch 8/10\n",
            "21/21 [==============================] - 0s 14ms/step - loss: 0.5728 - accuracy: 0.8061 - val_loss: 0.4808 - val_accuracy: 0.8125\n",
            "Epoch 9/10\n",
            "21/21 [==============================] - 0s 13ms/step - loss: 0.4774 - accuracy: 0.8330 - val_loss: 0.4650 - val_accuracy: 0.8363\n",
            "Epoch 10/10\n",
            "21/21 [==============================] - 0s 12ms/step - loss: 0.4851 - accuracy: 0.8434 - val_loss: 0.5064 - val_accuracy: 0.8423\n",
            "Model: \"model_2\"\n",
            "__________________________________________________________________________________________________\n",
            " Layer (type)                Output Shape                 Param #   Connected to                  \n",
            "==================================================================================================\n",
            " text (InputLayer)           [(None, 100)]                0         []                            \n",
            "                                                                                                  \n",
            " embedding_2 (Embedding)     (None, 100, 100)             210700    ['text[0][0]']                \n",
            "                                                                                                  \n",
            " lstm_4 (LSTM)               (None, 100, 128)             117248    ['embedding_2[0][0]']         \n",
            "                                                                                                  \n",
            " time_input (InputLayer)     [(None, 4)]                  0         []                            \n",
            "                                                                                                  \n",
            " lstm_5 (LSTM)               (None, 64)                   49408     ['lstm_4[0][0]']              \n",
            "                                                                                                  \n",
            " dense_6 (Dense)             (None, 32)                   160       ['time_input[0][0]']          \n",
            "                                                                                                  \n",
            " concatenate_2 (Concatenate  (None, 96)                   0         ['lstm_5[0][0]',              \n",
            " )                                                                   'dense_6[0][0]']             \n",
            "                                                                                                  \n",
            " dense_7 (Dense)             (None, 32)                   3104      ['concatenate_2[0][0]']       \n",
            "                                                                                                  \n",
            " dense_8 (Dense)             (None, 3)                    99        ['dense_7[0][0]']             \n",
            "                                                                                                  \n",
            "==================================================================================================\n",
            "Total params: 380719 (1.45 MB)\n",
            "Trainable params: 170019 (664.14 KB)\n",
            "Non-trainable params: 210700 (823.05 KB)\n",
            "__________________________________________________________________________________________________\n",
            "None\n"
          ]
        }
      ]
    },
    {
      "cell_type": "markdown",
      "source": [
        "CNN"
      ],
      "metadata": {
        "id": "mP_6br9IbcnD"
      }
    },
    {
      "cell_type": "code",
      "source": [
        "\"\"\"CNN 模型加入时间特征\"\"\"\n",
        "\n",
        "def build_cnn_model_with_time(input_dim, output_dim, input_length, embedding_matrix, time_input_shape):\n",
        "    # 文本输入部分\n",
        "    text_input = Input(shape=(input_length,), dtype='int32', name='text')\n",
        "    embedded_text = Embedding(input_dim=input_dim, output_dim=output_dim, weights=[embedding_matrix], input_length=input_length, trainable=False)(text_input)\n",
        "    conv1d_out = Conv1D(filters=128, kernel_size=5, activation='relu')(embedded_text)\n",
        "    pooled_text = GlobalMaxPooling1D()(conv1d_out)\n",
        "\n",
        "    # 时间输入部分\n",
        "    time_input = Input(shape=(time_input_shape,), name='time_input')\n",
        "    time_dense = Dense(32, activation='relu')(time_input)\n",
        "\n",
        "    # 合并文本和时间特征\n",
        "    concatenated = concatenate([pooled_text, time_dense], axis=-1)\n",
        "\n",
        "    # 添加一个或多个全连接层\n",
        "    output = Dense(32, activation='relu')(concatenated)\n",
        "    output = Dense(len(y_categorical[0]), activation='softmax')(output)\n",
        "\n",
        "    # 构建最终的模型\n",
        "    model = Model([text_input, time_input], output)\n",
        "    model.compile(optimizer='adam', loss='categorical_crossentropy', metrics=['accuracy'])\n",
        "\n",
        "    return model\n",
        "\n",
        "cnn_model_with_time = build_cnn_model_with_time(input_dim=len(tokenizer.word_index) + 1, output_dim=embedding_dim, input_length=max_seq_length, embedding_matrix=embedding_matrix, time_input_shape=4)\n",
        "\n",
        "# 训练CNN模型\n",
        "history_cnn_with_time = cnn_model_with_time.fit([X_train_text, X_train_time], y_train, epochs=10, validation_data=([X_test_text, X_test_time], y_test), batch_size=64)\n",
        "\n",
        "print(cnn_model_with_time.summary())"
      ],
      "metadata": {
        "colab": {
          "base_uri": "https://localhost:8080/"
        },
        "id": "NBu764XXCIVm",
        "outputId": "7c7904be-5d92-4027-caa3-d29780e2e458"
      },
      "execution_count": 13,
      "outputs": [
        {
          "output_type": "stream",
          "name": "stdout",
          "text": [
            "Epoch 1/10\n",
            "21/21 [==============================] - 3s 19ms/step - loss: 18.7412 - accuracy: 0.3512 - val_loss: 10.6111 - val_accuracy: 0.3155\n",
            "Epoch 2/10\n",
            "21/21 [==============================] - 0s 6ms/step - loss: 4.6087 - accuracy: 0.3729 - val_loss: 3.0528 - val_accuracy: 0.3155\n",
            "Epoch 3/10\n",
            "21/21 [==============================] - 0s 6ms/step - loss: 1.8648 - accuracy: 0.4236 - val_loss: 1.0059 - val_accuracy: 0.5179\n",
            "Epoch 4/10\n",
            "21/21 [==============================] - 0s 6ms/step - loss: 0.9850 - accuracy: 0.5749 - val_loss: 0.8516 - val_accuracy: 0.6190\n",
            "Epoch 5/10\n",
            "21/21 [==============================] - 0s 6ms/step - loss: 0.7146 - accuracy: 0.6689 - val_loss: 0.5877 - val_accuracy: 0.7500\n",
            "Epoch 6/10\n",
            "21/21 [==============================] - 0s 6ms/step - loss: 0.5931 - accuracy: 0.7412 - val_loss: 1.0210 - val_accuracy: 0.4881\n",
            "Epoch 7/10\n",
            "21/21 [==============================] - 0s 6ms/step - loss: 0.5856 - accuracy: 0.7435 - val_loss: 0.5466 - val_accuracy: 0.7411\n",
            "Epoch 8/10\n",
            "21/21 [==============================] - 0s 6ms/step - loss: 0.4914 - accuracy: 0.7994 - val_loss: 0.4790 - val_accuracy: 0.8036\n",
            "Epoch 9/10\n",
            "21/21 [==============================] - 0s 6ms/step - loss: 0.3964 - accuracy: 0.8434 - val_loss: 0.5409 - val_accuracy: 0.7738\n",
            "Epoch 10/10\n",
            "21/21 [==============================] - 0s 6ms/step - loss: 0.3870 - accuracy: 0.8523 - val_loss: 0.5346 - val_accuracy: 0.7738\n",
            "Model: \"model_3\"\n",
            "__________________________________________________________________________________________________\n",
            " Layer (type)                Output Shape                 Param #   Connected to                  \n",
            "==================================================================================================\n",
            " text (InputLayer)           [(None, 100)]                0         []                            \n",
            "                                                                                                  \n",
            " embedding_3 (Embedding)     (None, 100, 100)             210700    ['text[0][0]']                \n",
            "                                                                                                  \n",
            " conv1d (Conv1D)             (None, 96, 128)              64128     ['embedding_3[0][0]']         \n",
            "                                                                                                  \n",
            " time_input (InputLayer)     [(None, 4)]                  0         []                            \n",
            "                                                                                                  \n",
            " global_max_pooling1d (Glob  (None, 128)                  0         ['conv1d[0][0]']              \n",
            " alMaxPooling1D)                                                                                  \n",
            "                                                                                                  \n",
            " dense_9 (Dense)             (None, 32)                   160       ['time_input[0][0]']          \n",
            "                                                                                                  \n",
            " concatenate_3 (Concatenate  (None, 160)                  0         ['global_max_pooling1d[0][0]',\n",
            " )                                                                   'dense_9[0][0]']             \n",
            "                                                                                                  \n",
            " dense_10 (Dense)            (None, 32)                   5152      ['concatenate_3[0][0]']       \n",
            "                                                                                                  \n",
            " dense_11 (Dense)            (None, 3)                    99        ['dense_10[0][0]']            \n",
            "                                                                                                  \n",
            "==================================================================================================\n",
            "Total params: 280239 (1.07 MB)\n",
            "Trainable params: 69539 (271.64 KB)\n",
            "Non-trainable params: 210700 (823.05 KB)\n",
            "__________________________________________________________________________________________________\n",
            "None\n"
          ]
        }
      ]
    },
    {
      "cell_type": "markdown",
      "source": [
        "RNN"
      ],
      "metadata": {
        "id": "Og-Oyjjebsj7"
      }
    },
    {
      "cell_type": "code",
      "source": [
        "\"\"\"RNN 模型加入时间特征\"\"\"\n",
        "\n",
        "def build_rnn_model_with_time(input_dim, output_dim, input_length, embedding_matrix, time_input_shape):\n",
        "    # 文本输入部分\n",
        "    text_input = Input(shape=(input_length,), dtype='int32', name='text')\n",
        "    embedded_text = Embedding(input_dim=input_dim, output_dim=output_dim, weights=[embedding_matrix], input_length=input_length, trainable=False)(text_input)\n",
        "    rnn_out = SimpleRNN(128, return_sequences=True)(embedded_text)\n",
        "    rnn_out = SimpleRNN(64)(rnn_out)\n",
        "\n",
        "    # 时间输入部分\n",
        "    time_input = Input(shape=(time_input_shape,), name='time_input')\n",
        "    time_dense = Dense(32, activation='relu')(time_input)\n",
        "\n",
        "    # 合并文本和时间特征\n",
        "    concatenated = concatenate([rnn_out, time_dense], axis=-1)\n",
        "\n",
        "    # 添加一个或多个全连接层\n",
        "    output = Dense(32, activation='relu')(concatenated)\n",
        "    output = Dense(len(y_categorical[0]), activation='softmax')(output)\n",
        "\n",
        "    # 构建最终的模型\n",
        "    model = Model([text_input, time_input], output)\n",
        "    model.compile(optimizer='adam', loss='categorical_crossentropy', metrics=['accuracy'])\n",
        "\n",
        "    return model\n",
        "\n",
        "rnn_model_with_time = build_rnn_model_with_time(input_dim=len(tokenizer.word_index) + 1, output_dim=embedding_dim, input_length=max_seq_length, embedding_matrix=embedding_matrix, time_input_shape=4)\n",
        "\n",
        "# 训练RNN模型\n",
        "history_rnn_with_time = rnn_model_with_time.fit([X_train_text, X_train_time], y_train, epochs=10, validation_data=([X_test_text, X_test_time], y_test), batch_size=64)\n",
        "\n",
        "print(rnn_model_with_time.summary())"
      ],
      "metadata": {
        "colab": {
          "base_uri": "https://localhost:8080/"
        },
        "id": "o1YH79MECIuQ",
        "outputId": "36c11e0e-99fa-4408-f232-a1b767d5357f"
      },
      "execution_count": 14,
      "outputs": [
        {
          "output_type": "stream",
          "name": "stdout",
          "text": [
            "Epoch 1/10\n",
            "21/21 [==============================] - 6s 162ms/step - loss: 23.0212 - accuracy: 0.3393 - val_loss: 6.6686 - val_accuracy: 0.3155\n",
            "Epoch 2/10\n",
            "21/21 [==============================] - 3s 150ms/step - loss: 3.9922 - accuracy: 0.3758 - val_loss: 1.3646 - val_accuracy: 0.4792\n",
            "Epoch 3/10\n",
            "21/21 [==============================] - 4s 205ms/step - loss: 1.1436 - accuracy: 0.4914 - val_loss: 0.9327 - val_accuracy: 0.5744\n",
            "Epoch 4/10\n",
            "21/21 [==============================] - 3s 140ms/step - loss: 0.8195 - accuracy: 0.6376 - val_loss: 0.6970 - val_accuracy: 0.7143\n",
            "Epoch 5/10\n",
            "21/21 [==============================] - 3s 147ms/step - loss: 0.6952 - accuracy: 0.7040 - val_loss: 0.6031 - val_accuracy: 0.7679\n",
            "Epoch 6/10\n",
            "21/21 [==============================] - 4s 194ms/step - loss: 0.6239 - accuracy: 0.7599 - val_loss: 0.4937 - val_accuracy: 0.8036\n",
            "Epoch 7/10\n",
            "21/21 [==============================] - 4s 169ms/step - loss: 0.4837 - accuracy: 0.8113 - val_loss: 0.4569 - val_accuracy: 0.8036\n",
            "Epoch 8/10\n",
            "21/21 [==============================] - 3s 149ms/step - loss: 0.4091 - accuracy: 0.8441 - val_loss: 0.5392 - val_accuracy: 0.7768\n",
            "Epoch 9/10\n",
            "21/21 [==============================] - 3s 144ms/step - loss: 0.4132 - accuracy: 0.8397 - val_loss: 0.4450 - val_accuracy: 0.8155\n",
            "Epoch 10/10\n",
            "21/21 [==============================] - 5s 226ms/step - loss: 0.3913 - accuracy: 0.8531 - val_loss: 0.4922 - val_accuracy: 0.8274\n",
            "Model: \"model_4\"\n",
            "__________________________________________________________________________________________________\n",
            " Layer (type)                Output Shape                 Param #   Connected to                  \n",
            "==================================================================================================\n",
            " text (InputLayer)           [(None, 100)]                0         []                            \n",
            "                                                                                                  \n",
            " embedding_4 (Embedding)     (None, 100, 100)             210700    ['text[0][0]']                \n",
            "                                                                                                  \n",
            " simple_rnn (SimpleRNN)      (None, 100, 128)             29312     ['embedding_4[0][0]']         \n",
            "                                                                                                  \n",
            " time_input (InputLayer)     [(None, 4)]                  0         []                            \n",
            "                                                                                                  \n",
            " simple_rnn_1 (SimpleRNN)    (None, 64)                   12352     ['simple_rnn[0][0]']          \n",
            "                                                                                                  \n",
            " dense_12 (Dense)            (None, 32)                   160       ['time_input[0][0]']          \n",
            "                                                                                                  \n",
            " concatenate_4 (Concatenate  (None, 96)                   0         ['simple_rnn_1[0][0]',        \n",
            " )                                                                   'dense_12[0][0]']            \n",
            "                                                                                                  \n",
            " dense_13 (Dense)            (None, 32)                   3104      ['concatenate_4[0][0]']       \n",
            "                                                                                                  \n",
            " dense_14 (Dense)            (None, 3)                    99        ['dense_13[0][0]']            \n",
            "                                                                                                  \n",
            "==================================================================================================\n",
            "Total params: 255727 (998.93 KB)\n",
            "Trainable params: 45027 (175.89 KB)\n",
            "Non-trainable params: 210700 (823.05 KB)\n",
            "__________________________________________________________________________________________________\n",
            "None\n"
          ]
        }
      ]
    },
    {
      "cell_type": "markdown",
      "source": [
        "性能对比"
      ],
      "metadata": {
        "id": "U3rqWG7ScUnp"
      }
    },
    {
      "cell_type": "code",
      "source": [
        "import matplotlib.pyplot as plt\n",
        "\n",
        "def plot_history(histories, key='accuracy'):\n",
        "    plt.figure(figsize=(16,10))\n",
        "\n",
        "    for name, history in histories:\n",
        "        val = plt.plot(history.epoch, history.history['val_'+key],\n",
        "                       '--', label=name.title()+' Val')\n",
        "        plt.plot(history.epoch, history.history[key], color=val[0].get_color(),\n",
        "                 label=name.title()+' Train')\n",
        "\n",
        "    plt.xlabel('Epochs')\n",
        "    plt.ylabel(key.replace('_', ' ').title())\n",
        "    plt.legend()\n",
        "\n",
        "    plt.xlim([0,max(history.epoch)])"
      ],
      "metadata": {
        "id": "zBuoD5Ak1BNm"
      },
      "execution_count": 15,
      "outputs": []
    },
    {
      "cell_type": "code",
      "source": [
        "# 绘制模型性能\n",
        "plot_history([('lstm', history_lstm_with_time), ('cnn', history_cnn_with_time), ('rnn', history_rnn_with_time)], key='accuracy')"
      ],
      "metadata": {
        "colab": {
          "base_uri": "https://localhost:8080/",
          "height": 540
        },
        "id": "BPI8UvFp4hJU",
        "outputId": "eddcac73-3ba6-47fe-ee00-cb7f6de55f4d"
      },
      "execution_count": 16,
      "outputs": [
        {
          "output_type": "display_data",
          "data": {
            "text/plain": [
              "<Figure size 1600x1000 with 1 Axes>"
            ],
            "image/png": "[encoded data removed]"
          },
          "metadata": {}
        }
      ]
    },
    {
      "cell_type": "code",
      "source": [
        "plot_history([('lstm', history_lstm_with_time), ('cnn', history_cnn_with_time), ('rnn', history_rnn_with_time)], key='loss')"
      ],
      "metadata": {
        "colab": {
          "base_uri": "https://localhost:8080/",
          "height": 542
        },
        "id": "fvS8Af0X4izs",
        "outputId": "713b5eb0-fec2-4ac5-8de1-4b389af764b5"
      },
      "execution_count": 17,
      "outputs": [
        {
          "output_type": "display_data",
          "data": {
            "text/plain": [
              "<Figure size 1600x1000 with 1 Axes>"
            ],
            "image/png": "[encoded data removed]"
          },
          "metadata": {}
        }
      ]
    },
    {
      "cell_type": "code",
      "source": [
        "from sklearn.metrics import accuracy_score, f1_score, recall_score\n",
        "from tensorflow.keras.metrics import categorical_crossentropy\n",
        "import matplotlib.pyplot as plt\n",
        "import numpy as np\n",
        "\n",
        "# 计算每个模型的性能指标\n",
        "def evaluate_model(model, X_test_text, X_test_time, y_test):\n",
        "    # 确保模型预测时使用了两个输入：文本和时间特征\n",
        "    y_pred = model.predict([X_test_text, X_test_time])\n",
        "    y_pred_classes = np.argmax(y_pred, axis=1)\n",
        "    y_true_classes = np.argmax(y_test, axis=1)\n",
        "\n",
        "    accuracy = accuracy_score(y_true_classes, y_pred_classes)\n",
        "    f1 = f1_score(y_true_classes, y_pred_classes, average='weighted')\n",
        "    recall = recall_score(y_true_classes, y_pred_classes, average='weighted')\n",
        "    return accuracy, f1, recall\n",
        "\n",
        "\n",
        "metrics_lstm_with_time = evaluate_model(lstm_model_with_time, X_test_text, X_test_time, y_test)\n",
        "metrics_cnn_with_time = evaluate_model(cnn_model_with_time, X_test_text, X_test_time, y_test)\n",
        "metrics_rnn_with_time = evaluate_model(rnn_model_with_time, X_test_text, X_test_time, y_test)\n"
      ],
      "metadata": {
        "colab": {
          "base_uri": "https://localhost:8080/"
        },
        "id": "sfV2Dak2bzqf",
        "outputId": "4805e72a-fc24-4f0e-fd96-399552611cc5"
      },
      "execution_count": 21,
      "outputs": [
        {
          "output_type": "stream",
          "name": "stdout",
          "text": [
            "11/11 [==============================] - 2s 14ms/step\n",
            "11/11 [==============================] - 0s 3ms/step\n",
            "11/11 [==============================] - 1s 79ms/step\n"
          ]
        }
      ]
    },
    {
      "cell_type": "code",
      "source": [
        "# 绘制性能对比图\n",
        "metrics = np.array([metrics_lstm_with_time, metrics_cnn_with_time, metrics_rnn_with_time])\n",
        "metrics_df = pd.DataFrame(metrics, index=['LSTM', 'CNN', 'RNN'], columns=['Accuracy', 'F1 Score', 'Recall'])\n",
        "\n",
        "metrics_df.plot(kind='line', marker='o', figsize=(10, 6))\n",
        "plt.title('Model Performance Comparison')\n",
        "plt.ylabel('Score')\n",
        "plt.xlabel('Model')\n",
        "plt.grid(True)\n",
        "plt.show()\n"
      ],
      "metadata": {
        "colab": {
          "base_uri": "https://localhost:8080/",
          "height": 545
        },
        "id": "rRd4CTFTtyG6",
        "outputId": "8c90ca21-ff4c-4b73-bbd5-cff23e4b3580"
      },
      "execution_count": 22,
      "outputs": [
        {
          "output_type": "display_data",
          "data": {
            "text/plain": [
              "<Figure size 1000x600 with 1 Axes>"
            ],
            "image/png": "[encoded data removed]"
          },
          "metadata": {}
        }
      ]
    },
    {
      "cell_type": "code",
      "source": [
        "print(metrics_df)"
      ],
      "metadata": {
        "colab": {
          "base_uri": "https://localhost:8080/"
        },
        "id": "Pb1_sn2Fdd90",
        "outputId": "2e67acc0-7b9a-4ab4-c0de-54173e2be992"
      },
      "execution_count": 23,
      "outputs": [
        {
          "output_type": "stream",
          "name": "stdout",
          "text": [
            "      Accuracy  F1 Score    Recall\n",
            "LSTM  0.842262  0.841413  0.842262\n",
            "CNN   0.773810  0.781232  0.773810\n",
            "RNN   0.827381  0.824773  0.827381\n"
          ]
        }
      ]
    },
    {
      "cell_type": "markdown",
      "source": [
        "# 训练过程"
      ],
      "metadata": {
        "id": "eh-fSpEFNCYU"
      }
    },
    {
      "cell_type": "code",
      "source": [
        "!pip install ipywidgets\n",
        "from ipywidgets import widgets, Layout\n",
        "from IPython.display import display\n",
        "from sklearn.metrics import accuracy_score, recall_score, f1_score"
      ],
      "metadata": {
        "colab": {
          "base_uri": "https://localhost:8080/"
        },
        "id": "oYm-kLjTNFzv",
        "outputId": "f11a8d59-05f8-4049-e765-94208e6fde94"
      },
      "execution_count": 24,
      "outputs": [
        {
          "output_type": "stream",
          "name": "stdout",
          "text": [
            "Requirement already satisfied: ipywidgets in /usr/local/lib/python3.10/dist-packages (7.7.1)\n",
            "Requirement already satisfied: ipykernel>=4.5.1 in /usr/local/lib/python3.10/dist-packages (from ipywidgets) (5.5.6)\n",
            "Requirement already satisfied: ipython-genutils~=0.2.0 in /usr/local/lib/python3.10/dist-packages (from ipywidgets) (0.2.0)\n",
            "Requirement already satisfied: traitlets>=4.3.1 in /usr/local/lib/python3.10/dist-packages (from ipywidgets) (5.7.1)\n",
            "Requirement already satisfied: widgetsnbextension~=3.6.0 in /usr/local/lib/python3.10/dist-packages (from ipywidgets) (3.6.6)\n",
            "Requirement already satisfied: ipython>=4.0.0 in /usr/local/lib/python3.10/dist-packages (from ipywidgets) (7.34.0)\n",
            "Requirement already satisfied: jupyterlab-widgets>=1.0.0 in /usr/local/lib/python3.10/dist-packages (from ipywidgets) (3.0.10)\n",
            "Requirement already satisfied: jupyter-client in /usr/local/lib/python3.10/dist-packages (from ipykernel>=4.5.1->ipywidgets) (6.1.12)\n",
            "Requirement already satisfied: tornado>=4.2 in /usr/local/lib/python3.10/dist-packages (from ipykernel>=4.5.1->ipywidgets) (6.3.3)\n",
            "Requirement already satisfied: setuptools>=18.5 in /usr/local/lib/python3.10/dist-packages (from ipython>=4.0.0->ipywidgets) (67.7.2)\n",
            "Collecting jedi>=0.16 (from ipython>=4.0.0->ipywidgets)\n",
            "  Downloading jedi-0.19.1-py2.py3-none-any.whl (1.6 MB)\n",
            "\u001b[2K     \u001b[90m━━━━━━━━━━━━━━━━━━━━━━━━━━━━━━━━━━━━━━━━\u001b[0m \u001b[32m1.6/1.6 MB\u001b[0m \u001b[31m7.6 MB/s\u001b[0m eta \u001b[36m0:00:00\u001b[0m\n",
            "\u001b[?25hRequirement already satisfied: decorator in /usr/local/lib/python3.10/dist-packages (from ipython>=4.0.0->ipywidgets) (4.4.2)\n",
            "Requirement already satisfied: pickleshare in /usr/local/lib/python3.10/dist-packages (from ipython>=4.0.0->ipywidgets) (0.7.5)\n",
            "Requirement already satisfied: prompt-toolkit!=3.0.0,!=3.0.1,<3.1.0,>=2.0.0 in /usr/local/lib/python3.10/dist-packages (from ipython>=4.0.0->ipywidgets) (3.0.43)\n",
            "Requirement already satisfied: pygments in /usr/local/lib/python3.10/dist-packages (from ipython>=4.0.0->ipywidgets) (2.16.1)\n",
            "Requirement already satisfied: backcall in /usr/local/lib/python3.10/dist-packages (from ipython>=4.0.0->ipywidgets) (0.2.0)\n",
            "Requirement already satisfied: matplotlib-inline in /usr/local/lib/python3.10/dist-packages (from ipython>=4.0.0->ipywidgets) (0.1.6)\n",
            "Requirement already satisfied: pexpect>4.3 in /usr/local/lib/python3.10/dist-packages (from ipython>=4.0.0->ipywidgets) (4.9.0)\n",
            "Requirement already satisfied: notebook>=4.4.1 in /usr/local/lib/python3.10/dist-packages (from widgetsnbextension~=3.6.0->ipywidgets) (6.5.5)\n",
            "Requirement already satisfied: parso<0.9.0,>=0.8.3 in /usr/local/lib/python3.10/dist-packages (from jedi>=0.16->ipython>=4.0.0->ipywidgets) (0.8.3)\n",
            "Requirement already satisfied: jinja2 in /usr/local/lib/python3.10/dist-packages (from notebook>=4.4.1->widgetsnbextension~=3.6.0->ipywidgets) (3.1.3)\n",
            "Requirement already satisfied: pyzmq<25,>=17 in /usr/local/lib/python3.10/dist-packages (from notebook>=4.4.1->widgetsnbextension~=3.6.0->ipywidgets) (23.2.1)\n",
            "Requirement already satisfied: argon2-cffi in /usr/local/lib/python3.10/dist-packages (from notebook>=4.4.1->widgetsnbextension~=3.6.0->ipywidgets) (23.1.0)\n",
            "Requirement already satisfied: jupyter-core>=4.6.1 in /usr/local/lib/python3.10/dist-packages (from notebook>=4.4.1->widgetsnbextension~=3.6.0->ipywidgets) (5.7.2)\n",
            "Requirement already satisfied: nbformat in /usr/local/lib/python3.10/dist-packages (from notebook>=4.4.1->widgetsnbextension~=3.6.0->ipywidgets) (5.10.3)\n",
            "Requirement already satisfied: nbconvert>=5 in /usr/local/lib/python3.10/dist-packages (from notebook>=4.4.1->widgetsnbextension~=3.6.0->ipywidgets) (6.5.4)\n",
            "Requirement already satisfied: nest-asyncio>=1.5 in /usr/local/lib/python3.10/dist-packages (from notebook>=4.4.1->widgetsnbextension~=3.6.0->ipywidgets) (1.6.0)\n",
            "Requirement already satisfied: Send2Trash>=1.8.0 in /usr/local/lib/python3.10/dist-packages (from notebook>=4.4.1->widgetsnbextension~=3.6.0->ipywidgets) (1.8.2)\n",
            "Requirement already satisfied: terminado>=0.8.3 in /usr/local/lib/python3.10/dist-packages (from notebook>=4.4.1->widgetsnbextension~=3.6.0->ipywidgets) (0.18.1)\n",
            "Requirement already satisfied: prometheus-client in /usr/local/lib/python3.10/dist-packages (from notebook>=4.4.1->widgetsnbextension~=3.6.0->ipywidgets) (0.20.0)\n",
            "Requirement already satisfied: nbclassic>=0.4.7 in /usr/local/lib/python3.10/dist-packages (from notebook>=4.4.1->widgetsnbextension~=3.6.0->ipywidgets) (1.0.0)\n",
            "Requirement already satisfied: python-dateutil>=2.1 in /usr/local/lib/python3.10/dist-packages (from jupyter-client->ipykernel>=4.5.1->ipywidgets) (2.8.2)\n",
            "Requirement already satisfied: ptyprocess>=0.5 in /usr/local/lib/python3.10/dist-packages (from pexpect>4.3->ipython>=4.0.0->ipywidgets) (0.7.0)\n",
            "Requirement already satisfied: wcwidth in /usr/local/lib/python3.10/dist-packages (from prompt-toolkit!=3.0.0,!=3.0.1,<3.1.0,>=2.0.0->ipython>=4.0.0->ipywidgets) (0.2.13)\n",
            "Requirement already satisfied: platformdirs>=2.5 in /usr/local/lib/python3.10/dist-packages (from jupyter-core>=4.6.1->notebook>=4.4.1->widgetsnbextension~=3.6.0->ipywidgets) (4.2.0)\n",
            "Requirement already satisfied: jupyter-server>=1.8 in /usr/local/lib/python3.10/dist-packages (from nbclassic>=0.4.7->notebook>=4.4.1->widgetsnbextension~=3.6.0->ipywidgets) (1.24.0)\n",
            "Requirement already satisfied: notebook-shim>=0.2.3 in /usr/local/lib/python3.10/dist-packages (from nbclassic>=0.4.7->notebook>=4.4.1->widgetsnbextension~=3.6.0->ipywidgets) (0.2.4)\n",
            "Requirement already satisfied: lxml in /usr/local/lib/python3.10/dist-packages (from nbconvert>=5->notebook>=4.4.1->widgetsnbextension~=3.6.0->ipywidgets) (4.9.4)\n",
            "Requirement already satisfied: beautifulsoup4 in /usr/local/lib/python3.10/dist-packages (from nbconvert>=5->notebook>=4.4.1->widgetsnbextension~=3.6.0->ipywidgets) (4.12.3)\n",
            "Requirement already satisfied: bleach in /usr/local/lib/python3.10/dist-packages (from nbconvert>=5->notebook>=4.4.1->widgetsnbextension~=3.6.0->ipywidgets) (6.1.0)\n",
            "Requirement already satisfied: defusedxml in /usr/local/lib/python3.10/dist-packages (from nbconvert>=5->notebook>=4.4.1->widgetsnbextension~=3.6.0->ipywidgets) (0.7.1)\n",
            "Requirement already satisfied: entrypoints>=0.2.2 in /usr/local/lib/python3.10/dist-packages (from nbconvert>=5->notebook>=4.4.1->widgetsnbextension~=3.6.0->ipywidgets) (0.4)\n",
            "Requirement already satisfied: jupyterlab-pygments in /usr/local/lib/python3.10/dist-packages (from nbconvert>=5->notebook>=4.4.1->widgetsnbextension~=3.6.0->ipywidgets) (0.3.0)\n",
            "Requirement already satisfied: MarkupSafe>=2.0 in /usr/local/lib/python3.10/dist-packages (from nbconvert>=5->notebook>=4.4.1->widgetsnbextension~=3.6.0->ipywidgets) (2.1.5)\n",
            "Requirement already satisfied: mistune<2,>=0.8.1 in /usr/local/lib/python3.10/dist-packages (from nbconvert>=5->notebook>=4.4.1->widgetsnbextension~=3.6.0->ipywidgets) (0.8.4)\n",
            "Requirement already satisfied: nbclient>=0.5.0 in /usr/local/lib/python3.10/dist-packages (from nbconvert>=5->notebook>=4.4.1->widgetsnbextension~=3.6.0->ipywidgets) (0.10.0)\n",
            "Requirement already satisfied: packaging in /usr/local/lib/python3.10/dist-packages (from nbconvert>=5->notebook>=4.4.1->widgetsnbextension~=3.6.0->ipywidgets) (24.0)\n",
            "Requirement already satisfied: pandocfilters>=1.4.1 in /usr/local/lib/python3.10/dist-packages (from nbconvert>=5->notebook>=4.4.1->widgetsnbextension~=3.6.0->ipywidgets) (1.5.1)\n",
            "Requirement already satisfied: tinycss2 in /usr/local/lib/python3.10/dist-packages (from nbconvert>=5->notebook>=4.4.1->widgetsnbextension~=3.6.0->ipywidgets) (1.2.1)\n",
            "Requirement already satisfied: fastjsonschema in /usr/local/lib/python3.10/dist-packages (from nbformat->notebook>=4.4.1->widgetsnbextension~=3.6.0->ipywidgets) (2.19.1)\n",
            "Requirement already satisfied: jsonschema>=2.6 in /usr/local/lib/python3.10/dist-packages (from nbformat->notebook>=4.4.1->widgetsnbextension~=3.6.0->ipywidgets) (4.19.2)\n",
            "Requirement already satisfied: six>=1.5 in /usr/local/lib/python3.10/dist-packages (from python-dateutil>=2.1->jupyter-client->ipykernel>=4.5.1->ipywidgets) (1.16.0)\n",
            "Requirement already satisfied: argon2-cffi-bindings in /usr/local/lib/python3.10/dist-packages (from argon2-cffi->notebook>=4.4.1->widgetsnbextension~=3.6.0->ipywidgets) (21.2.0)\n",
            "Requirement already satisfied: attrs>=22.2.0 in /usr/local/lib/python3.10/dist-packages (from jsonschema>=2.6->nbformat->notebook>=4.4.1->widgetsnbextension~=3.6.0->ipywidgets) (23.2.0)\n",
            "Requirement already satisfied: jsonschema-specifications>=2023.03.6 in /usr/local/lib/python3.10/dist-packages (from jsonschema>=2.6->nbformat->notebook>=4.4.1->widgetsnbextension~=3.6.0->ipywidgets) (2023.12.1)\n",
            "Requirement already satisfied: referencing>=0.28.4 in /usr/local/lib/python3.10/dist-packages (from jsonschema>=2.6->nbformat->notebook>=4.4.1->widgetsnbextension~=3.6.0->ipywidgets) (0.34.0)\n",
            "Requirement already satisfied: rpds-py>=0.7.1 in /usr/local/lib/python3.10/dist-packages (from jsonschema>=2.6->nbformat->notebook>=4.4.1->widgetsnbextension~=3.6.0->ipywidgets) (0.18.0)\n",
            "Requirement already satisfied: anyio<4,>=3.1.0 in /usr/local/lib/python3.10/dist-packages (from jupyter-server>=1.8->nbclassic>=0.4.7->notebook>=4.4.1->widgetsnbextension~=3.6.0->ipywidgets) (3.7.1)\n",
            "Requirement already satisfied: websocket-client in /usr/local/lib/python3.10/dist-packages (from jupyter-server>=1.8->nbclassic>=0.4.7->notebook>=4.4.1->widgetsnbextension~=3.6.0->ipywidgets) (1.7.0)\n",
            "Requirement already satisfied: cffi>=1.0.1 in /usr/local/lib/python3.10/dist-packages (from argon2-cffi-bindings->argon2-cffi->notebook>=4.4.1->widgetsnbextension~=3.6.0->ipywidgets) (1.16.0)\n",
            "Requirement already satisfied: soupsieve>1.2 in /usr/local/lib/python3.10/dist-packages (from beautifulsoup4->nbconvert>=5->notebook>=4.4.1->widgetsnbextension~=3.6.0->ipywidgets) (2.5)\n",
            "Requirement already satisfied: webencodings in /usr/local/lib/python3.10/dist-packages (from bleach->nbconvert>=5->notebook>=4.4.1->widgetsnbextension~=3.6.0->ipywidgets) (0.5.1)\n",
            "Requirement already satisfied: idna>=2.8 in /usr/local/lib/python3.10/dist-packages (from anyio<4,>=3.1.0->jupyter-server>=1.8->nbclassic>=0.4.7->notebook>=4.4.1->widgetsnbextension~=3.6.0->ipywidgets) (3.6)\n",
            "Requirement already satisfied: sniffio>=1.1 in /usr/local/lib/python3.10/dist-packages (from anyio<4,>=3.1.0->jupyter-server>=1.8->nbclassic>=0.4.7->notebook>=4.4.1->widgetsnbextension~=3.6.0->ipywidgets) (1.3.1)\n",
            "Requirement already satisfied: exceptiongroup in /usr/local/lib/python3.10/dist-packages (from anyio<4,>=3.1.0->jupyter-server>=1.8->nbclassic>=0.4.7->notebook>=4.4.1->widgetsnbextension~=3.6.0->ipywidgets) (1.2.0)\n",
            "Requirement already satisfied: pycparser in /usr/local/lib/python3.10/dist-packages (from cffi>=1.0.1->argon2-cffi-bindings->argon2-cffi->notebook>=4.4.1->widgetsnbextension~=3.6.0->ipywidgets) (2.21)\n",
            "Installing collected packages: jedi\n",
            "Successfully installed jedi-0.19.1\n"
          ]
        }
      ]
    },
    {
      "cell_type": "code",
      "source": [
        "import ipywidgets as widgets\n",
        "from IPython.display import display, clear_output\n",
        "import matplotlib.pyplot as plt\n",
        "\n",
        "# 定义绘制模型性能图表的函数\n",
        "def plot_model_performance(history, title):\n",
        "    clear_output(wait=True)  # 清除之前的输出\n",
        "    plt.figure(figsize=(12, 4))\n",
        "\n",
        "    # 绘制训练 & 验证的准确率值\n",
        "    plt.subplot(1, 2, 1)\n",
        "    plt.plot(history.history['accuracy'])\n",
        "    plt.plot(history.history['val_accuracy'])\n",
        "    plt.title(f'Model Accuracy - {title}')\n",
        "    plt.ylabel('Accuracy')\n",
        "    plt.xlabel('Epoch')\n",
        "    plt.legend(['Train', 'Val'], loc='upper left')\n",
        "\n",
        "    # 绘制训练 & 验证的损失值\n",
        "    plt.subplot(1, 2, 2)\n",
        "    plt.plot(history.history['loss'])\n",
        "    plt.plot(history.history['val_loss'])\n",
        "    plt.title(f'Model Loss - {title}')\n",
        "    plt.ylabel('Loss')\n",
        "    plt.xlabel('Epoch')\n",
        "    plt.legend(['Train', 'Val'], loc='upper left')\n",
        "\n",
        "    plt.tight_layout()\n",
        "    plt.show()\n",
        "\n",
        "# 为每个模型创建一个查询按钮，并绑定事件\n",
        "def create_query_button(model_name, history):\n",
        "    button = widgets.Button(description=f\"Query {model_name} Model\",\n",
        "                            layout=widgets.Layout(width='200px'))\n",
        "    def on_button_clicked(b):\n",
        "        with output:\n",
        "            plot_model_performance(history, model_name)\n",
        "\n",
        "    button.on_click(on_button_clicked)\n",
        "    display(button)\n",
        "\n",
        "# 输出区域\n",
        "output = widgets.Output()\n",
        "\n",
        "# 显示所有按钮和输出区域\n",
        "create_query_button('LSTM', history_lstm_with_time)\n",
        "create_query_button('CNN', history_cnn_with_time)\n",
        "create_query_button('RNN', history_rnn_with_time)\n",
        "display(output)\n"
      ],
      "metadata": {
        "colab": {
          "base_uri": "https://localhost:8080/",
          "height": 384,
          "referenced_widgets": [
            "9b1a5097fd64474cabd9b4fda9d1f3b4",
            "05b27c78009f4f4d8dd81ab7d7ce81fd",
            "70e83f80122e4f679ea34aa62b96b8a0",
            "37ee523567da40aaa8de3fc9975c44a9",
            "09fbf075da824ea192e6e811fb638f49",
            "e411198d6e5347d1bd9b1a08574fbbb6",
            "a17c9aa7d9f140769c976d55e68629cf",
            "8c1a7bed2fe44db0bb3a09ac91b98726",
            "41929cb47bbc4f9b947a708d0283a65d",
            "32dcddc824a44144ad052ab8ec3cb157",
            "ccbe02552eb44afaa2bf708e7224e0d7"
          ]
        },
        "id": "6HSzMsV3NPSe",
        "outputId": "eafba20e-49a8-4633-bd38-161ead752ac4"
      },
      "execution_count": 25,
      "outputs": [
        {
          "output_type": "display_data",
          "data": {
            "text/plain": [
              "Button(description='Query LSTM Model', layout=Layout(width='200px'), style=ButtonStyle())"
            ],
            "application/vnd.jupyter.widget-view+json": {
              "version_major": 2,
              "version_minor": 0,
              "model_id": "9b1a5097fd64474cabd9b4fda9d1f3b4"
            }
          },
          "metadata": {}
        },
        {
          "output_type": "display_data",
          "data": {
            "text/plain": [
              "Button(description='Query CNN Model', layout=Layout(width='200px'), style=ButtonStyle())"
            ],
            "application/vnd.jupyter.widget-view+json": {
              "version_major": 2,
              "version_minor": 0,
              "model_id": "37ee523567da40aaa8de3fc9975c44a9"
            }
          },
          "metadata": {}
        },
        {
          "output_type": "display_data",
          "data": {
            "text/plain": [
              "Button(description='Query RNN Model', layout=Layout(width='200px'), style=ButtonStyle())"
            ],
            "application/vnd.jupyter.widget-view+json": {
              "version_major": 2,
              "version_minor": 0,
              "model_id": "a17c9aa7d9f140769c976d55e68629cf"
            }
          },
          "metadata": {}
        },
        {
          "output_type": "display_data",
          "data": {
            "text/plain": [
              "Output()"
            ],
            "application/vnd.jupyter.widget-view+json": {
              "version_major": 2,
              "version_minor": 0,
              "model_id": "32dcddc824a44144ad052ab8ec3cb157"
            }
          },
          "metadata": {}
        }
      ]
    },
    {
      "cell_type": "markdown",
      "source": [
        "# **图形化**"
      ],
      "metadata": {
        "id": "W1LqwZzXNzzZ"
      }
    },
    {
      "cell_type": "code",
      "source": [
        "output_area2 = widgets.Output()"
      ],
      "metadata": {
        "id": "I3Zg1ngkN2Bj"
      },
      "execution_count": 51,
      "outputs": []
    },
    {
      "cell_type": "code",
      "source": [
        "import ipywidgets as widgets\n",
        "from IPython.display import display, clear_output\n",
        "import matplotlib.pyplot as plt\n",
        "import numpy as np\n",
        "from sklearn.metrics import accuracy_score, recall_score, f1_score"
      ],
      "metadata": {
        "id": "F9ZNuIOVN3zv"
      },
      "execution_count": 52,
      "outputs": []
    },
    {
      "cell_type": "code",
      "source": [
        "# 模型预测函数，包含文本和时间特征\n",
        "def predict_with_model(model, X_text, X_time):\n",
        "    predictions = model.predict([X_text, X_time])\n",
        "    return np.argmax(predictions, axis=1)"
      ],
      "metadata": {
        "id": "yzTJAW6CN5a_"
      },
      "execution_count": 53,
      "outputs": []
    },
    {
      "cell_type": "code",
      "source": [
        "# 查询并显示结果的函数\n",
        "def display_statements(model, emotion, num_statements, data_ts, X_test_text, X_test_time):\n",
        "    predicted_classes = predict_with_model(model, X_test_text, X_test_time)\n",
        "    # 将用户选择的情感转换为对应的整数标签\n",
        "    emotion_to_label = {'积极': 1, '中立': 0, '消极': 2}\n",
        "    label = emotion_to_label[emotion]\n",
        "\n",
        "    # 获取对应情感预测的索引\n",
        "    selected_indices = np.where(predicted_classes == label)[0]\n",
        "\n",
        "    # 如果用户指定的数量超过了找到的文本数量，调整为实际数量\n",
        "    num_statements = min(num_statements, len(selected_indices))\n",
        "\n",
        "    # 随机选择指定数量的索引\n",
        "    if num_statements > 0:\n",
        "        selected_samples = np.random.choice(selected_indices, num_statements, replace=False)\n",
        "    else:\n",
        "        selected_samples = []\n",
        "\n",
        "    # 显示这些文本\n",
        "    for idx in selected_samples:\n",
        "        print(data_ts.iloc[idx]['original_text'])  # 确保你有一个保存原始文本的列，这里使用了'text'\n",
        "\n",
        "\n",
        "# 显示模型性能指标的函数\n",
        "def display_performance(model, emotion, data_ts, X_test_text, X_test_time, y_test):\n",
        "    # 根据情感筛选对应的文本和标签\n",
        "    emotion_to_label = {'积极': 1, '中立': 0, '消极': 2}\n",
        "    label = emotion_to_label[emotion]\n",
        "    indices = np.where(np.argmax(y_test, axis=1) == label)[0]\n",
        "\n",
        "    # 如果X_test_text和X_test_time是DataFrame，需要使用iloc来获取行\n",
        "    selected_X_test_text = X_test_text.iloc[indices] if isinstance(X_test_text, pd.DataFrame) else X_test_text[indices]\n",
        "    selected_X_test_time = X_test_time.iloc[indices] if isinstance(X_test_time, pd.DataFrame) else X_test_time[indices]\n",
        "    selected_y_test = y_test[indices]\n",
        "\n",
        "    # 确保predictions是根据model预测出的\n",
        "    predictions = predict_with_model(model, selected_X_test_text, selected_X_test_time)\n",
        "    accuracy = accuracy_score(np.argmax(selected_y_test, axis=1), predictions)\n",
        "    recall = recall_score(np.argmax(selected_y_test, axis=1), predictions, average='macro')\n",
        "    f1 = f1_score(np.argmax(selected_y_test, axis=1), predictions, average='macro')\n",
        "\n",
        "    # 显示性能指标\n",
        "    print(f\"准确率: {accuracy:.2f}\")\n",
        "    print(f\"召回率: {recall:.2f}\")\n",
        "    print(f\"F1得分: {f1:.2f}\")\n"
      ],
      "metadata": {
        "id": "oXm2O14rN7wG"
      },
      "execution_count": 62,
      "outputs": []
    },
    {
      "cell_type": "code",
      "source": [
        "query_button = widgets.Button(\n",
        "    description='查询',\n",
        "    button_style='success',\n",
        ")\n",
        "\n",
        "\n",
        "# 按钮点击事件处理函数\n",
        "def on_query_button_clicked(b):\n",
        "    with output_area2:\n",
        "      output_area2.clear_output(wait=True)  # 清除输出区域的内容\n",
        "      selected_model = model_dropdown.value\n",
        "      emotion = emotion_dropdown.value\n",
        "      num_statements = num_statements_input.value\n",
        "\n",
        "      # 根据选择的模型调用相应的函数\n",
        "      if selected_model == 'LSTM':\n",
        "          model = lstm_model_with_time\n",
        "      elif selected_model == 'CNN':\n",
        "          model = cnn_model_with_time\n",
        "      elif selected_model == 'RNN':\n",
        "          model = rnn_model_with_time\n",
        "\n",
        "      # 这里需要传递包含时间特征的测试集\n",
        "      display_statements(model, emotion, num_statements, data_ts, X_test_text, X_test_time)  # 显示语句\n",
        "      display_performance(model, emotion, data_ts, X_test_text, X_test_time, y_test)  # 显示性能指标\n",
        "\n",
        "\n",
        "query_button.on_click(on_query_button_clicked)"
      ],
      "metadata": {
        "id": "rllmaPnEN8tq"
      },
      "execution_count": 60,
      "outputs": []
    },
    {
      "cell_type": "code",
      "source": [
        "# 创建情感类别下拉菜单\n",
        "emotion_dropdown = widgets.Dropdown(\n",
        "    options=['积极', '中立', '消极'],\n",
        "    value='积极',\n",
        "    description='情感类别:',\n",
        ")\n",
        "\n",
        "# 创建UI组件\n",
        "model_dropdown = widgets.Dropdown(\n",
        "    options=['LSTM', 'CNN', 'RNN'],\n",
        "    value='LSTM',\n",
        "    description='选择模型:',\n",
        ")\n",
        "\n",
        "num_statements_input = widgets.IntText(\n",
        "    value=5,\n",
        "    description='语句数量:',\n",
        "    disabled=False\n",
        ")\n",
        "\n",
        "# 当情感类型或语句数量改变时触发的函数\n",
        "def on_value_change(change):\n",
        "    emotion = emotion_dropdown.value\n",
        "    num_statements = num_statements_input.value\n",
        "    model = model_dropdown.value\n",
        "\n",
        "# 监听下拉菜单和整数输入框的变化\n",
        "emotion_dropdown.observe(on_value_change, names='value')\n",
        "model_dropdown.observe(on_value_change, names='value')\n",
        "num_statements_input.observe(on_value_change, names='value')\n",
        "\n",
        "output_area2.clear_output()\n",
        "\n",
        "# 组合UI组件并显示\n",
        "ui = widgets.VBox([model_dropdown, emotion_dropdown, num_statements_input, query_button, output_area2])\n",
        "display(ui)"
      ],
      "metadata": {
        "colab": {
          "base_uri": "https://localhost:8080/",
          "height": 492,
          "referenced_widgets": [
            "78a83d5687a941089ab845c81896f2ad",
            "25fa3b22a97c4d63b963d756aeb98a1c",
            "8220a16caaee48aba3395baae1d6f965",
            "b23d15911ee242cdadf14c194a3efff9",
            "26250514d9e44a21b68e95c3cca733fc",
            "80b370260f6b496a8b189605088d5201",
            "ad0c21347dde4d8d901296b7bcad7432",
            "9261c61721ef4759b3250308451991cd",
            "7b4ed3179e06430ab4cfc4815261597d",
            "54d57fa64b924241893be7134670f7fe",
            "27cbec5355b54e62936b00ce43addd5d",
            "653c51afe701485e8279dfe97ca65f19",
            "67d77ae0efa144e781e2ebfcffbce2fc",
            "dd871a2617ff4314af8b1ad8640dd5d8",
            "ad6c9ec162374bb5a8173175bd9d84fe",
            "867218d9f0ae45b0844f19d281b595ce"
          ]
        },
        "id": "LxvtODcNN_Y7",
        "outputId": "4330a248-3e3a-4edd-dbf3-c85622c87445"
      },
      "execution_count": 61,
      "outputs": [
        {
          "output_type": "display_data",
          "data": {
            "text/plain": [
              "VBox(children=(Dropdown(description='选择模型:', options=('LSTM', 'CNN', 'RNN'), value='LSTM'), Dropdown(descripti…"
            ],
            "application/vnd.jupyter.widget-view+json": {
              "version_major": 2,
              "version_minor": 0,
              "model_id": "78a83d5687a941089ab845c81896f2ad"
            }
          },
          "metadata": {}
        }
      ]
    }
  ]
}